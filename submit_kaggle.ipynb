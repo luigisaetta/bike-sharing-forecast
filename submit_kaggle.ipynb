{
 "cells": [
  {
   "cell_type": "code",
   "execution_count": 31,
   "id": "52a4a263",
   "metadata": {},
   "outputs": [],
   "source": [
    "import pandas as pd\n",
    "import numpy as np\n",
    "\n",
    "import lightgbm as lgb\n",
    "import catboost as cat\n",
    "import xgboost as xgb\n",
    "\n",
    "# to encode categoricals\n",
    "from sklearn.preprocessing import LabelEncoder\n",
    "\n",
    "from sklearn.metrics import make_scorer\n",
    "\n",
    "# see utils.py\n",
    "from utils import add_features, rmsle, train_encoders, apply_encoders\n",
    "from utils import show_tuner_results, show_categoricals"
   ]
  },
  {
   "cell_type": "code",
   "execution_count": 32,
   "id": "f899a83c",
   "metadata": {},
   "outputs": [],
   "source": [
    "FILE_TRAIN = \"train.csv\"\n",
    "FILE_TEST = \"test.csv\"\n",
    "\n",
    "data_orig = pd.read_csv(FILE_TRAIN)\n",
    "test_orig = pd.read_csv(FILE_TEST)\n",
    "\n",
    "data_extended = add_features(data_orig)\n",
    "\n",
    "TARGET = \"count\"\n",
    "all_columns = data_extended.columns\n",
    "del_columns = [\"datetime\", \"casual\", \"registered\", \"temp\"]\n",
    "cat_cols = [\"season\", \"holiday\", \"workingday\", \"weather\", \"windspeed\", \"hour\", \"year\"]\n",
    "num_cols = list(set(all_columns) - set([TARGET]) - set(del_columns) - set(cat_cols))\n",
    "features = sorted(cat_cols + num_cols)\n",
    "\n",
    "\n",
    "df_sub = pd.read_csv(\"sampleSubmission.csv\")"
   ]
  },
  {
   "cell_type": "code",
   "execution_count": 33,
   "id": "28f78741",
   "metadata": {},
   "outputs": [
    {
     "name": "stdout",
     "output_type": "stream",
     "text": [
      "train for coding: season \n",
      "train for coding: weather \n",
      "train for coding: year \n",
      "\n",
      "Coding: season \n",
      "Coding: weather \n",
      "Coding: year \n",
      "Coding: season \n",
      "Coding: weather \n",
      "Coding: year \n"
     ]
    }
   ],
   "source": [
    "test_orig = add_features(test_orig)\n",
    "\n",
    "data_used = data_extended.drop(del_columns, axis=1)\n",
    "\n",
    "# I need the train set to get le list\n",
    "le_list = train_encoders(data_used)\n",
    "\n",
    "data_used = apply_encoders(data_used, le_list)\n",
    "test_orig = apply_encoders(test_orig, le_list)"
   ]
  },
  {
   "cell_type": "code",
   "execution_count": 34,
   "id": "73f7d9ff",
   "metadata": {},
   "outputs": [],
   "source": [
    "x_train = data_used[features]\n",
    "y_train = data_used[TARGET]"
   ]
  },
  {
   "cell_type": "code",
   "execution_count": 35,
   "id": "1fad0538",
   "metadata": {},
   "outputs": [],
   "source": [
    "x_test = test_orig[features]"
   ]
  },
  {
   "cell_type": "code",
   "execution_count": 26,
   "id": "85f3a073",
   "metadata": {},
   "outputs": [],
   "source": [
    "# submit with lgb\n",
    "model_file = \"lgboost.txt\"\n",
    "\n",
    "model = lgb.Booster(model_file=model_file)"
   ]
  },
  {
   "cell_type": "code",
   "execution_count": 27,
   "id": "d78ad952",
   "metadata": {},
   "outputs": [],
   "source": [
    "score_test = model.predict(x_test)"
   ]
  },
  {
   "cell_type": "code",
   "execution_count": 28,
   "id": "60c7f5a9",
   "metadata": {},
   "outputs": [],
   "source": [
    "# remove decimals\n",
    "df_sub[\"count\"] = np.round(score_test, 0)\n",
    "\n",
    "# remove eventual negative\n",
    "condition = df_sub[\"count\"] < 0\n",
    "\n",
    "df_sub.loc[condition, \"count\"] = 0"
   ]
  },
  {
   "cell_type": "code",
   "execution_count": 29,
   "id": "a47db63d",
   "metadata": {},
   "outputs": [],
   "source": [
    "FILE_SUB_PREFIX = \"lgb-opt-003\"\n",
    "FILE_SUB = FILE_SUB_PREFIX + \".csv\"\n",
    "\n",
    "df_sub.to_csv(FILE_SUB, index=False)"
   ]
  },
  {
   "cell_type": "code",
   "execution_count": 30,
   "id": "fcdb36b1",
   "metadata": {},
   "outputs": [
    {
     "name": "stdout",
     "output_type": "stream",
     "text": [
      "100%|████████████████████████████████████████| 162k/162k [00:02<00:00, 77.6kB/s]\n",
      "Successfully submitted to Bike Sharing Demand"
     ]
    }
   ],
   "source": [
    "!kaggle competitions submit -c \"bike-sharing-demand\" -f $FILE_SUB -m \"lgb opt 003\""
   ]
  },
  {
   "cell_type": "markdown",
   "id": "26045ae9",
   "metadata": {},
   "source": [
    "### catboost"
   ]
  },
  {
   "cell_type": "code",
   "execution_count": 36,
   "id": "eae4d48a",
   "metadata": {},
   "outputs": [],
   "source": [
    "regr = cat.CatBoostRegressor()\n",
    "\n",
    "model = regr.load_model(\"catboost.cbm\")"
   ]
  },
  {
   "cell_type": "code",
   "execution_count": 37,
   "id": "de1d386a",
   "metadata": {},
   "outputs": [],
   "source": [
    "score_test = model.predict(x_test)"
   ]
  },
  {
   "cell_type": "code",
   "execution_count": 38,
   "id": "9add1c96",
   "metadata": {},
   "outputs": [],
   "source": [
    "# remove decimals\n",
    "df_sub[\"count\"] = np.round(score_test, 0)\n",
    "\n",
    "# remove eventual negative\n",
    "condition = df_sub[\"count\"] < 0\n",
    "\n",
    "df_sub.loc[condition, \"count\"] = 0"
   ]
  },
  {
   "cell_type": "code",
   "execution_count": 39,
   "id": "f793746f",
   "metadata": {},
   "outputs": [],
   "source": [
    "FILE_SUB_PREFIX = \"cat-opt-002\"\n",
    "FILE_SUB = FILE_SUB_PREFIX + \".csv\"\n",
    "\n",
    "df_sub.to_csv(FILE_SUB, index=False)"
   ]
  },
  {
   "cell_type": "code",
   "execution_count": 40,
   "id": "dcd7ee1b",
   "metadata": {},
   "outputs": [
    {
     "name": "stdout",
     "output_type": "stream",
     "text": [
      "100%|████████████████████████████████████████| 162k/162k [00:02<00:00, 70.0kB/s]\n",
      "Successfully submitted to Bike Sharing Demand"
     ]
    }
   ],
   "source": [
    "!kaggle competitions submit -c \"bike-sharing-demand\" -f $FILE_SUB -m \"cat opt 002\""
   ]
  },
  {
   "cell_type": "markdown",
   "id": "8f4765db",
   "metadata": {},
   "source": [
    "### XGBoost"
   ]
  },
  {
   "cell_type": "code",
   "execution_count": null,
   "id": "4ad54a1d",
   "metadata": {},
   "outputs": [],
   "source": [
    "%%time\n",
    "\n",
    "# best_params = {'learning_rate': 0.0004394857413078558, 'max_depth': 9, 'n_estimators': 5000}\n",
    "\n",
    "# model = xgb.XGBRegressor(**best_params)\n",
    "\n",
    "# model.fit(x_train, y_train)"
   ]
  },
  {
   "cell_type": "code",
   "execution_count": 16,
   "id": "ec4fc073",
   "metadata": {},
   "outputs": [],
   "source": [
    "model = xgb.XGBRegressor()\n",
    "model.load_model(fname=\"xgboost.txt\")"
   ]
  },
  {
   "cell_type": "code",
   "execution_count": 17,
   "id": "a2c4066b",
   "metadata": {},
   "outputs": [],
   "source": [
    "score_test = model.predict(x_test)"
   ]
  },
  {
   "cell_type": "code",
   "execution_count": 18,
   "id": "77c19472",
   "metadata": {},
   "outputs": [],
   "source": [
    "# remove decimals\n",
    "df_sub[\"count\"] = np.round(score_test, 0)\n",
    "\n",
    "# remove eventual negative\n",
    "condition = df_sub[\"count\"] < 0\n",
    "\n",
    "df_sub.loc[condition, \"count\"] = 0"
   ]
  },
  {
   "cell_type": "code",
   "execution_count": 19,
   "id": "b5cffeaa",
   "metadata": {},
   "outputs": [],
   "source": [
    "FILE_SUB_PREFIX = \"xgb-opt-006\"\n",
    "FILE_SUB = FILE_SUB_PREFIX + \".csv\"\n",
    "\n",
    "df_sub.to_csv(FILE_SUB, index=False)"
   ]
  },
  {
   "cell_type": "code",
   "execution_count": 20,
   "id": "bb7f9507",
   "metadata": {},
   "outputs": [
    {
     "name": "stdout",
     "output_type": "stream",
     "text": [
      "100%|████████████████████████████████████████| 162k/162k [00:02<00:00, 74.4kB/s]\n",
      "Successfully submitted to Bike Sharing Demand"
     ]
    }
   ],
   "source": [
    "!kaggle competitions submit -c \"bike-sharing-demand\" -f $FILE_SUB -m \"xgb opt 006\""
   ]
  },
  {
   "cell_type": "code",
   "execution_count": null,
   "id": "4e8cd499",
   "metadata": {},
   "outputs": [],
   "source": []
  }
 ],
 "metadata": {
  "kernelspec": {
   "display_name": "Python 3 (ipykernel)",
   "language": "python",
   "name": "python3"
  },
  "language_info": {
   "codemirror_mode": {
    "name": "ipython",
    "version": 3
   },
   "file_extension": ".py",
   "mimetype": "text/x-python",
   "name": "python",
   "nbconvert_exporter": "python",
   "pygments_lexer": "ipython3",
   "version": "3.8.12"
  }
 },
 "nbformat": 4,
 "nbformat_minor": 5
}
