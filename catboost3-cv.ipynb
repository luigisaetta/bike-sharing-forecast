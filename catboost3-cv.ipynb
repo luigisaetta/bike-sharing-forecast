{
 "cells": [
  {
   "cell_type": "markdown",
   "id": "90a31df2",
   "metadata": {},
   "source": [
    "### Catboost3\n",
    "* added feature engineering\n",
    "* added year, removed temp"
   ]
  },
  {
   "cell_type": "code",
   "execution_count": 1,
   "id": "b84fae35",
   "metadata": {},
   "outputs": [],
   "source": [
    "import pandas as pd\n",
    "import numpy as np\n",
    "import catboost as cat\n",
    "\n",
    "from sklearn.model_selection import KFold\n",
    "\n",
    "import seaborn as sns\n",
    "import matplotlib.pyplot as plt"
   ]
  },
  {
   "cell_type": "code",
   "execution_count": 2,
   "id": "5b2c9080",
   "metadata": {},
   "outputs": [],
   "source": [
    "# globals\n",
    "FIGSIZE = (9, 6)\n",
    "\n",
    "SEED = 42\n",
    "\n",
    "FILE_TRAIN = \"train.csv\""
   ]
  },
  {
   "cell_type": "code",
   "execution_count": 3,
   "id": "235c7e2f",
   "metadata": {},
   "outputs": [],
   "source": [
    "data_orig = pd.read_csv(FILE_TRAIN)\n",
    "\n",
    "# feature engineering\n",
    "data_orig['datetime'] = pd.to_datetime(data_orig['datetime'])\n",
    "\n",
    "# this way I add 3 engineered features\n",
    "data_orig['hour'] = data_orig['datetime'].dt.hour\n",
    "\n",
    "# mese di fatto è duplicato di season. rimuovo\n",
    "#data_orig['month'] = data_orig['datetime'].dt.month\n",
    "data_orig['day'] = data_orig['datetime'].dt.day\n",
    "data_orig['year'] = data_orig['datetime'].dt.year"
   ]
  },
  {
   "cell_type": "code",
   "execution_count": 4,
   "id": "ed4f3846",
   "metadata": {},
   "outputs": [
    {
     "name": "stdout",
     "output_type": "stream",
     "text": [
      "Tutte le colonne: 15\n",
      "Colonne ignorate: 4\n",
      "target: 1\n",
      "Colonne cat: 7\n",
      "Colonne num: 3\n",
      "Num. features 10\n"
     ]
    }
   ],
   "source": [
    "all_columns = data_orig.columns\n",
    "\n",
    "# colonne da ignorare\n",
    "# atemp and temp are strongly correlated (0.98) taking only one\n",
    "del_columns = ['datetime', 'casual', 'registered', 'temp']\n",
    "\n",
    "TARGET = \"count\"\n",
    "\n",
    "cat_cols = ['season', 'holiday','workingday', 'weather', 'hour', 'day', 'year']\n",
    "num_cols = list(set(all_columns) - set([TARGET]) - set(del_columns) - set(cat_cols))\n",
    "features = sorted(cat_cols + num_cols)\n",
    "\n",
    "print('Tutte le colonne:', len(all_columns))\n",
    "print('Colonne ignorate:', len(del_columns))\n",
    "print('target:', len([TARGET]))\n",
    "print('Colonne cat:', len(cat_cols))\n",
    "print('Colonne num:', len(num_cols))\n",
    "print('Num. features', len(features))"
   ]
  },
  {
   "cell_type": "code",
   "execution_count": 5,
   "id": "6df7a56c",
   "metadata": {},
   "outputs": [],
   "source": [
    "data_used = data_orig.drop(del_columns, axis=1)"
   ]
  },
  {
   "cell_type": "code",
   "execution_count": 6,
   "id": "0583fc07",
   "metadata": {},
   "outputs": [],
   "source": [
    "# define indexes for cat_cols\n",
    "# cat boost want indexes\n",
    "cat_columns_idxs = [i for i, col in enumerate(features) if col in cat_cols]"
   ]
  },
  {
   "cell_type": "code",
   "execution_count": 7,
   "id": "e7036680",
   "metadata": {},
   "outputs": [
    {
     "name": "stdout",
     "output_type": "stream",
     "text": [
      "\n",
      "Processing fold: 1\n",
      "0:\tlearn: 180.3682142\ttest: 181.0423853\tbest: 181.0423853 (0)\ttotal: 96.6ms\tremaining: 9m 39s\n",
      "500:\tlearn: 64.1827354\ttest: 63.8051729\tbest: 63.8051729 (500)\ttotal: 40.3s\tremaining: 7m 22s\n",
      "1000:\tlearn: 51.7588619\ttest: 51.5987779\tbest: 51.5987779 (1000)\ttotal: 1m 20s\tremaining: 6m 42s\n",
      "1500:\tlearn: 48.3793718\ttest: 48.6926466\tbest: 48.6926466 (1500)\ttotal: 1m 58s\tremaining: 5m 55s\n",
      "2000:\tlearn: 46.7089941\ttest: 47.4000229\tbest: 47.4000229 (2000)\ttotal: 2m 35s\tremaining: 5m 10s\n",
      "2500:\tlearn: 45.6635858\ttest: 46.6261483\tbest: 46.6261483 (2500)\ttotal: 3m 14s\tremaining: 4m 32s\n",
      "3000:\tlearn: 44.9076759\ttest: 46.0805255\tbest: 46.0805255 (3000)\ttotal: 3m 52s\tremaining: 3m 51s\n",
      "3500:\tlearn: 44.4132936\ttest: 45.7332391\tbest: 45.7332039 (3498)\ttotal: 4m 26s\tremaining: 3m 10s\n",
      "4000:\tlearn: 43.8125758\ttest: 45.3330548\tbest: 45.3330548 (4000)\ttotal: 5m\tremaining: 2m 30s\n",
      "4500:\tlearn: 43.2834594\ttest: 45.0061087\tbest: 45.0061087 (4499)\ttotal: 5m 41s\tremaining: 1m 53s\n",
      "5000:\tlearn: 42.7702666\ttest: 44.6835881\tbest: 44.6835676 (4999)\ttotal: 6m 20s\tremaining: 1m 16s\n",
      "5500:\tlearn: 42.3149461\ttest: 44.4369349\tbest: 44.4369220 (5498)\ttotal: 6m 58s\tremaining: 38s\n",
      "5999:\tlearn: 41.9109809\ttest: 44.2095301\tbest: 44.2095301 (5999)\ttotal: 7m 37s\tremaining: 0us\n",
      "bestTest = 44.20953011\n",
      "bestIteration = 5999\n",
      "\n",
      "Processing fold: 2\n",
      "0:\tlearn: 181.3224585\ttest: 177.2707808\tbest: 177.2707808 (0)\ttotal: 85.3ms\tremaining: 8m 31s\n",
      "500:\tlearn: 63.4725220\ttest: 61.8008195\tbest: 61.8008195 (500)\ttotal: 40s\tremaining: 7m 18s\n",
      "1000:\tlearn: 51.4820919\ttest: 51.0400354\tbest: 51.0400354 (1000)\ttotal: 1m 20s\tremaining: 6m 40s\n",
      "1500:\tlearn: 48.1853814\ttest: 48.7399236\tbest: 48.7399236 (1500)\ttotal: 1m 57s\tremaining: 5m 53s\n",
      "2000:\tlearn: 46.3560930\ttest: 47.6207191\tbest: 47.6207191 (2000)\ttotal: 2m 33s\tremaining: 5m 6s\n",
      "2500:\tlearn: 45.0488896\ttest: 46.9137981\tbest: 46.9137981 (2500)\ttotal: 3m 8s\tremaining: 4m 23s\n",
      "3000:\tlearn: 44.2325455\ttest: 46.5512421\tbest: 46.5512421 (3000)\ttotal: 3m 45s\tremaining: 3m 45s\n",
      "3500:\tlearn: 43.8603838\ttest: 46.4086223\tbest: 46.4086000 (3498)\ttotal: 4m 22s\tremaining: 3m 7s\n",
      "bestTest = 46.38099891\n",
      "bestIteration = 3782\n",
      "Shrink model to first 3783 iterations.\n",
      "\n",
      "Processing fold: 3\n",
      "0:\tlearn: 180.1541397\ttest: 181.6671632\tbest: 181.6671632 (0)\ttotal: 83.9ms\tremaining: 8m 23s\n",
      "500:\tlearn: 63.7494053\ttest: 63.5557691\tbest: 63.5557691 (500)\ttotal: 41s\tremaining: 7m 30s\n",
      "1000:\tlearn: 51.6553449\ttest: 52.2999437\tbest: 52.2999437 (1000)\ttotal: 1m 21s\tremaining: 6m 48s\n",
      "1500:\tlearn: 48.3698600\ttest: 49.8065551\tbest: 49.8065551 (1500)\ttotal: 2m\tremaining: 6m 1s\n",
      "2000:\tlearn: 46.5186085\ttest: 48.5185349\tbest: 48.5185349 (2000)\ttotal: 2m 38s\tremaining: 5m 16s\n",
      "2500:\tlearn: 45.0679180\ttest: 47.5321108\tbest: 47.5321108 (2500)\ttotal: 3m 17s\tremaining: 4m 36s\n",
      "3000:\tlearn: 44.0835671\ttest: 46.9205561\tbest: 46.9205561 (3000)\ttotal: 3m 57s\tremaining: 3m 57s\n",
      "3500:\tlearn: 43.3459157\ttest: 46.4799955\tbest: 46.4799955 (3500)\ttotal: 4m 37s\tremaining: 3m 17s\n",
      "4000:\tlearn: 42.8358800\ttest: 46.1955685\tbest: 46.1955685 (4000)\ttotal: 5m 15s\tremaining: 2m 37s\n",
      "4500:\tlearn: 42.4154851\ttest: 45.9669850\tbest: 45.9669301 (4493)\ttotal: 5m 52s\tremaining: 1m 57s\n",
      "5000:\tlearn: 42.0568949\ttest: 45.7699556\tbest: 45.7699556 (5000)\ttotal: 6m 29s\tremaining: 1m 17s\n",
      "5500:\tlearn: 41.7476260\ttest: 45.6094669\tbest: 45.6091295 (5497)\ttotal: 7m 5s\tremaining: 38.6s\n",
      "5999:\tlearn: 41.4669643\ttest: 45.4791416\tbest: 45.4791340 (5996)\ttotal: 7m 42s\tremaining: 0us\n",
      "bestTest = 45.47913401\n",
      "bestIteration = 5996\n",
      "Shrink model to first 5997 iterations.\n",
      "\n",
      "Processing fold: 4\n",
      "0:\tlearn: 179.7622804\ttest: 183.2914299\tbest: 183.2914299 (0)\ttotal: 68.3ms\tremaining: 6m 49s\n",
      "500:\tlearn: 65.2174085\ttest: 63.0657472\tbest: 63.0657472 (500)\ttotal: 39.7s\tremaining: 7m 16s\n",
      "1000:\tlearn: 52.8724496\ttest: 51.7879896\tbest: 51.7879896 (1000)\ttotal: 1m 19s\tremaining: 6m 34s\n",
      "1500:\tlearn: 49.5577873\ttest: 49.4336180\tbest: 49.4336180 (1500)\ttotal: 1m 56s\tremaining: 5m 50s\n",
      "2000:\tlearn: 47.7799238\ttest: 48.3405918\tbest: 48.3405918 (2000)\ttotal: 2m 32s\tremaining: 5m 4s\n",
      "2500:\tlearn: 46.5493860\ttest: 47.6703097\tbest: 47.6703097 (2500)\ttotal: 3m 5s\tremaining: 4m 18s\n",
      "3000:\tlearn: 45.6217833\ttest: 47.2111725\tbest: 47.2108247 (2990)\ttotal: 3m 40s\tremaining: 3m 40s\n",
      "3500:\tlearn: 44.9824400\ttest: 46.8673472\tbest: 46.8673472 (3500)\ttotal: 4m 11s\tremaining: 2m 59s\n",
      "4000:\tlearn: 44.5135352\ttest: 46.6604984\tbest: 46.6604984 (4000)\ttotal: 4m 41s\tremaining: 2m 20s\n",
      "4500:\tlearn: 44.0103903\ttest: 46.4437539\tbest: 46.4437243 (4497)\ttotal: 5m 11s\tremaining: 1m 43s\n",
      "5000:\tlearn: 43.5784565\ttest: 46.2693106\tbest: 46.2693081 (4997)\ttotal: 5m 41s\tremaining: 1m 8s\n",
      "5500:\tlearn: 43.2188087\ttest: 46.1315548\tbest: 46.1315548 (5500)\ttotal: 6m 7s\tremaining: 33.3s\n",
      "5999:\tlearn: 42.9118639\ttest: 46.0254393\tbest: 46.0254393 (5999)\ttotal: 6m 34s\tremaining: 0us\n",
      "bestTest = 46.02543933\n",
      "bestIteration = 5999\n",
      "\n",
      "Processing fold: 5\n",
      "0:\tlearn: 180.8477657\ttest: 179.2362504\tbest: 179.2362504 (0)\ttotal: 44.7ms\tremaining: 4m 27s\n",
      "500:\tlearn: 65.4190305\ttest: 62.4122609\tbest: 62.4122609 (500)\ttotal: 40.7s\tremaining: 7m 26s\n",
      "1000:\tlearn: 51.6372808\ttest: 50.9755789\tbest: 50.9755789 (1000)\ttotal: 1m 21s\tremaining: 6m 45s\n",
      "1500:\tlearn: 48.2308054\ttest: 48.7017443\tbest: 48.7017443 (1500)\ttotal: 1m 59s\tremaining: 5m 58s\n",
      "2000:\tlearn: 46.1837479\ttest: 47.4702213\tbest: 47.4702213 (2000)\ttotal: 2m 37s\tremaining: 5m 14s\n",
      "2500:\tlearn: 44.8693310\ttest: 46.6972801\tbest: 46.6972801 (2500)\ttotal: 3m 14s\tremaining: 4m 32s\n",
      "3000:\tlearn: 43.8522988\ttest: 46.1475983\tbest: 46.1475983 (3000)\ttotal: 3m 52s\tremaining: 3m 52s\n",
      "3500:\tlearn: 43.0694217\ttest: 45.7351049\tbest: 45.7350722 (3499)\ttotal: 4m 31s\tremaining: 3m 13s\n",
      "4000:\tlearn: 42.4326650\ttest: 45.4030184\tbest: 45.4030184 (4000)\ttotal: 5m 7s\tremaining: 2m 33s\n",
      "4500:\tlearn: 41.8268292\ttest: 45.0824234\tbest: 45.0823317 (4495)\ttotal: 5m 45s\tremaining: 1m 55s\n",
      "5000:\tlearn: 41.3049232\ttest: 44.8409479\tbest: 44.8408916 (4998)\ttotal: 6m 22s\tremaining: 1m 16s\n",
      "5500:\tlearn: 40.7736668\ttest: 44.5967102\tbest: 44.5966304 (5495)\ttotal: 7m\tremaining: 38.2s\n",
      "5999:\tlearn: 40.2153821\ttest: 44.3260718\tbest: 44.3260718 (5999)\ttotal: 7m 39s\tremaining: 0us\n",
      "bestTest = 44.32607182\n",
      "bestIteration = 5999\n",
      "CPU times: user 31min 5s, sys: 17min 26s, total: 48min 31s\n",
      "Wall time: 34min 22s\n"
     ]
    }
   ],
   "source": [
    "%%time\n",
    "\n",
    "FOLDS = 5\n",
    "\n",
    "skf = KFold(n_splits = FOLDS, shuffle=True, random_state = SEED)\n",
    "\n",
    "params = {'iterations':6000,\n",
    "          'learning_rate':0.005,\n",
    "          'depth':10,\n",
    "          'task_type':\"GPU\",\n",
    "          'use_best_model': True\n",
    "         }\n",
    "\n",
    "best_models = []\n",
    "\n",
    "i = 1\n",
    "for train_idx, valid_idx in skf.split(data_used):\n",
    "    print()\n",
    "    print('Processing fold:', i)\n",
    "    \n",
    "    data_train = data_used.iloc[train_idx]\n",
    "    data_valid = data_used.iloc[valid_idx]\n",
    "    \n",
    "    x_train = data_train[features]\n",
    "    y_train = data_train[TARGET]\n",
    "\n",
    "    x_valid = data_valid[features]\n",
    "    y_valid = data_valid[TARGET]\n",
    "    \n",
    "    model = cat.CatBoostRegressor(**params)\n",
    "\n",
    "    model.fit(x_train, y_train, cat_columns_idxs, verbose=500, early_stopping_rounds=50, eval_set=(x_valid, y_valid))\n",
    "    \n",
    "    best_models.append(model)\n",
    "    \n",
    "    i  += 1"
   ]
  },
  {
   "cell_type": "markdown",
   "id": "68c9bfdf",
   "metadata": {},
   "source": [
    "### Submission"
   ]
  },
  {
   "cell_type": "code",
   "execution_count": 8,
   "id": "8d8d031a",
   "metadata": {},
   "outputs": [],
   "source": [
    "test_orig = pd.read_csv(\"test.csv\")"
   ]
  },
  {
   "cell_type": "code",
   "execution_count": 9,
   "id": "0d8be6ae",
   "metadata": {},
   "outputs": [],
   "source": [
    "# add engineered features\n",
    "# feature engineering\n",
    "test_orig['datetime'] = pd.to_datetime(test_orig['datetime'])\n",
    "\n",
    "# this way I add 3 engineered features\n",
    "test_orig['hour'] = test_orig['datetime'].dt.hour\n",
    "#test_orig['month'] = test_orig['datetime'].dt.month\n",
    "test_orig['day'] = test_orig['datetime'].dt.day\n",
    "test_orig['year'] = test_orig['datetime'].dt.year"
   ]
  },
  {
   "cell_type": "code",
   "execution_count": 16,
   "id": "36aaad2c",
   "metadata": {},
   "outputs": [
    {
     "name": "stdout",
     "output_type": "stream",
     "text": [
      "\n",
      "Predictions from model 0\n",
      "\n",
      "Predictions from model 1\n",
      "\n",
      "Predictions from model 2\n",
      "\n",
      "Predictions from model 3\n",
      "\n",
      "Predictions from model 4\n"
     ]
    }
   ],
   "source": [
    "# data on which do scoring\n",
    "x_test = test_orig[features]\n",
    "\n",
    "avg_score = np.zeros((x_test.shape[0],))\n",
    "                     \n",
    "i = 0\n",
    "for model in best_models:\n",
    "    print()\n",
    "    print('Predictions from model', i)\n",
    "    \n",
    "    score_test = model.predict(x_test)\n",
    "    \n",
    "    avg_score += score_test/float(FOLDS)\n",
    "                     \n",
    "    i += 1"
   ]
  },
  {
   "cell_type": "code",
   "execution_count": 17,
   "id": "a885b216",
   "metadata": {},
   "outputs": [],
   "source": [
    "df_sub = pd.read_csv(\"sampleSubmission.csv\")"
   ]
  },
  {
   "cell_type": "code",
   "execution_count": 18,
   "id": "30d8dd94",
   "metadata": {},
   "outputs": [],
   "source": [
    "df_sub[\"count\"] = avg_score"
   ]
  },
  {
   "cell_type": "code",
   "execution_count": 19,
   "id": "52e3d0f5",
   "metadata": {},
   "outputs": [],
   "source": [
    "condition = df_sub[\"count\"] < 0\n",
    "\n",
    "df_sub.loc[condition, \"count\"] = 0"
   ]
  },
  {
   "cell_type": "code",
   "execution_count": 21,
   "id": "2955cf72",
   "metadata": {},
   "outputs": [],
   "source": [
    "FILE_SUB = \"submission8.csv\"\n",
    "\n",
    "df_sub.to_csv(FILE_SUB, index=False)"
   ]
  },
  {
   "cell_type": "code",
   "execution_count": 22,
   "id": "b4313a0d",
   "metadata": {},
   "outputs": [
    {
     "name": "stdout",
     "output_type": "stream",
     "text": [
      "100%|████████████████████████████████████████| 240k/240k [00:02<00:00, 98.4kB/s]\n",
      "Successfully submitted to Bike Sharing Demand"
     ]
    }
   ],
   "source": [
    "!kaggle competitions submit -c \"bike-sharing-demand\" -f $FILE_SUB -m \"sub8, kfold cv\""
   ]
  },
  {
   "cell_type": "code",
   "execution_count": null,
   "id": "73e4560b",
   "metadata": {},
   "outputs": [],
   "source": []
  }
 ],
 "metadata": {
  "kernelspec": {
   "display_name": "Python [conda env:tensorflow26_p37_gpu_v3]",
   "language": "python",
   "name": "conda-env-tensorflow26_p37_gpu_v3-py"
  },
  "language_info": {
   "codemirror_mode": {
    "name": "ipython",
    "version": 3
   },
   "file_extension": ".py",
   "mimetype": "text/x-python",
   "name": "python",
   "nbconvert_exporter": "python",
   "pygments_lexer": "ipython3",
   "version": "3.7.12"
  }
 },
 "nbformat": 4,
 "nbformat_minor": 5
}
