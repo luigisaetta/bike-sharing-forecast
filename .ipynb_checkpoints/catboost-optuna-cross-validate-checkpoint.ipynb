{
 "cells": [
  {
   "cell_type": "markdown",
   "id": "fa826f87",
   "metadata": {},
   "source": [
    "### Tuning HP: Catboost and Optuna\n",
    "* adopting sklearn cross validate\n",
    "* using rmsle as metric"
   ]
  },
  {
   "cell_type": "code",
   "execution_count": 1,
   "id": "a6b02034",
   "metadata": {},
   "outputs": [],
   "source": [
    "import pandas as pd\n",
    "import numpy as np\n",
    "\n",
    "# the GBM used\n",
    "import xgboost as xgb\n",
    "import catboost as cat\n",
    "import lightgbm as lgb\n",
    "\n",
    "from sklearn.model_selection import cross_validate\n",
    "from sklearn.metrics import make_scorer\n",
    "\n",
    "# to encode categoricals\n",
    "from sklearn.preprocessing import LabelEncoder\n",
    "\n",
    "# see utils.py\n",
    "from utils import add_features, rmsle, train_encoders, apply_encoders \n",
    "\n",
    "import optuna"
   ]
  },
  {
   "cell_type": "code",
   "execution_count": 2,
   "id": "8915e4dd",
   "metadata": {},
   "outputs": [],
   "source": [
    "# globals and load train dataset\n",
    "\n",
    "FILE_TRAIN = \"train.csv\""
   ]
  },
  {
   "cell_type": "code",
   "execution_count": 3,
   "id": "ce1f6761",
   "metadata": {},
   "outputs": [],
   "source": [
    "# load train dataset\n",
    "data_orig = pd.read_csv(FILE_TRAIN)\n",
    "\n",
    "#\n",
    "# Data preparation, feature engineering\n",
    "#\n",
    "\n",
    "# add features (hour, year) extracted form timestamp\n",
    "data_extended = add_features(data_orig)\n",
    "\n",
    "# ok, we will treat as categorical: holiday, hour, season, weather, workingday, year\n",
    "all_columns = data_extended.columns\n",
    "\n",
    "# cols to be ignored\n",
    "# atemp and temp are strongly correlated (0.98) we're taking only one\n",
    "del_columns = ['datetime', 'casual', 'registered', 'temp']\n",
    "\n",
    "TARGET = \"count\"\n",
    "cat_cols = ['season', 'holiday','workingday', 'weather', 'hour', 'year']\n",
    "num_cols = list(set(all_columns) - set([TARGET]) - set(del_columns) - set(cat_cols))\n",
    "features = sorted(cat_cols + num_cols)\n",
    "\n",
    "# drop ignored columns\n",
    "data_used = data_extended.drop(del_columns, axis=1)"
   ]
  },
  {
   "cell_type": "code",
   "execution_count": 4,
   "id": "aad0f053",
   "metadata": {},
   "outputs": [
    {
     "name": "stdout",
     "output_type": "stream",
     "text": [
      "train for coding: season \n",
      "train for coding: weather \n",
      "train for coding: year \n",
      "\n",
      "Coding: season \n",
      "Coding: weather \n",
      "Coding: year \n"
     ]
    }
   ],
   "source": [
    "# Code categorical columns (only season, weather, year)\n",
    "le_list = train_encoders(data_used)\n",
    "\n",
    "# coding\n",
    "data_used = apply_encoders(data_used, le_list)\n",
    "\n",
    "# define indexes for cat_cols\n",
    "cat_columns_idxs = [i for i, col in enumerate(features) if col in cat_cols]\n",
    "\n",
    "# finally we have the train dataset\n",
    "X = data_used[features].values\n",
    "y = data_used[TARGET].values"
   ]
  },
  {
   "cell_type": "code",
   "execution_count": 5,
   "id": "212183d0",
   "metadata": {},
   "outputs": [],
   "source": [
    "# general\n",
    "FOLDS = 5\n",
    "SEED = 4321\n",
    "N_TRIALS = 5\n",
    "STUDY_NAME = \"gbm1\""
   ]
  },
  {
   "cell_type": "code",
   "execution_count": 6,
   "id": "54b66070",
   "metadata": {},
   "outputs": [],
   "source": [
    "#\n",
    "# Here we define what we do using Optuna\n",
    "#\n",
    "def objective(trial):\n",
    "    \n",
    "    # tuning on max_depth, n_estimators for the example\n",
    "    dict_params = {'iterations': trial.suggest_categorical(\"num_boost_round\", [3000, 4000, 5000]),\n",
    "             'learning_rate': trial.suggest_loguniform(\"learning_rate\", low=1e-4, high=1e-2),\n",
    "             \"loss_function\": \"RMSE\",\n",
    "             'depth': trial.suggest_int(\"depth\", 5, 10),\n",
    "             \"verbose\" : 0\n",
    "    }\n",
    "    \n",
    "    regr = cat.CatBoostRegressor(**dict_params)\n",
    "    \n",
    "    # using rmsle for scoring\n",
    "    scorer = make_scorer(rmsle, greater_is_better=False)\n",
    "    \n",
    "    scores = cross_validate(regr, X, y, cv=FOLDS, scoring=scorer)\n",
    "    \n",
    "    avg_test_score = round(np.mean(scores['test_score']), 4)\n",
    "        \n",
    "    return avg_test_score"
   ]
  },
  {
   "cell_type": "code",
   "execution_count": 7,
   "id": "eeec9af9",
   "metadata": {},
   "outputs": [
    {
     "name": "stderr",
     "output_type": "stream",
     "text": [
      "\u001b[32m[I 2022-03-09 14:14:25,157]\u001b[0m A new study created in memory with name: gbm1\u001b[0m\n",
      "\u001b[32m[I 2022-03-09 14:14:49,508]\u001b[0m Trial 0 finished with value: -0.6352 and parameters: {'num_boost_round': 3000, 'learning_rate': 0.004836407679131681, 'depth': 6}. Best is trial 0 with value: -0.6352.\u001b[0m\n",
      "KeyboardInterrupt: "
     ]
    }
   ],
   "source": [
    "# launch Optuna Study\n",
    "study = optuna.create_study(study_name=STUDY_NAME, direction=\"maximize\")\n",
    "\n",
    "study.optimize(objective, n_trials=N_TRIALS)"
   ]
  },
  {
   "cell_type": "code",
   "execution_count": 8,
   "id": "1803c5c3",
   "metadata": {},
   "outputs": [
    {
     "data": {
      "text/plain": [
       "{'num_boost_round': 3000, 'learning_rate': 0.004836407679131681, 'depth': 6}"
      ]
     },
     "execution_count": 8,
     "metadata": {},
     "output_type": "execute_result"
    }
   ],
   "source": [
    "study.best_params"
   ]
  },
  {
   "cell_type": "code",
   "execution_count": 9,
   "id": "f3ee40e3",
   "metadata": {},
   "outputs": [
    {
     "data": {
      "text/html": [
       "<div>\n",
       "<style scoped>\n",
       "    .dataframe tbody tr th:only-of-type {\n",
       "        vertical-align: middle;\n",
       "    }\n",
       "\n",
       "    .dataframe tbody tr th {\n",
       "        vertical-align: top;\n",
       "    }\n",
       "\n",
       "    .dataframe thead th {\n",
       "        text-align: right;\n",
       "    }\n",
       "</style>\n",
       "<table border=\"1\" class=\"dataframe\">\n",
       "  <thead>\n",
       "    <tr style=\"text-align: right;\">\n",
       "      <th></th>\n",
       "      <th>number</th>\n",
       "      <th>value</th>\n",
       "      <th>datetime_start</th>\n",
       "      <th>datetime_complete</th>\n",
       "      <th>duration</th>\n",
       "      <th>params_depth</th>\n",
       "      <th>params_learning_rate</th>\n",
       "      <th>params_num_boost_round</th>\n",
       "      <th>state</th>\n",
       "    </tr>\n",
       "  </thead>\n",
       "  <tbody>\n",
       "    <tr>\n",
       "      <th>0</th>\n",
       "      <td>0</td>\n",
       "      <td>-0.6352</td>\n",
       "      <td>2022-03-09 14:14:25.165506</td>\n",
       "      <td>2022-03-09 14:14:49.508050</td>\n",
       "      <td>0 days 00:00:24.342544</td>\n",
       "      <td>6</td>\n",
       "      <td>0.004836</td>\n",
       "      <td>3000</td>\n",
       "      <td>COMPLETE</td>\n",
       "    </tr>\n",
       "  </tbody>\n",
       "</table>\n",
       "</div>"
      ],
      "text/plain": [
       "   number   value             datetime_start          datetime_complete  \\\n",
       "0       0 -0.6352 2022-03-09 14:14:25.165506 2022-03-09 14:14:49.508050   \n",
       "\n",
       "                duration  params_depth  params_learning_rate  \\\n",
       "0 0 days 00:00:24.342544             6              0.004836   \n",
       "\n",
       "   params_num_boost_round     state  \n",
       "0                    3000  COMPLETE  "
      ]
     },
     "execution_count": 9,
     "metadata": {},
     "output_type": "execute_result"
    }
   ],
   "source": [
    "# visualize trials as an ordered Pandas df\n",
    "df = study.trials_dataframe()\n",
    "\n",
    "result_df = df[df['state'] == 'COMPLETE'].sort_values(by=['value'], ascending=False)\n",
    "\n",
    "# best on top\n",
    "result_df.head()"
   ]
  },
  {
   "cell_type": "markdown",
   "id": "0dd5932a",
   "metadata": {},
   "source": [
    "### Train the model on entire train set and save"
   ]
  },
  {
   "cell_type": "code",
   "execution_count": null,
   "id": "0251fefa",
   "metadata": {},
   "outputs": [],
   "source": [
    "%%time\n",
    "model = cat.CatBoostRegressor(**study.best_params)\n",
    "\n",
    "model.fit(X, y, silent=True)"
   ]
  },
  {
   "cell_type": "code",
   "execution_count": null,
   "id": "5e72d394",
   "metadata": {},
   "outputs": [],
   "source": [
    "model_file = \"catboost.cbm\"\n",
    "\n",
    "model.save_model(model_file, format='cbm')"
   ]
  },
  {
   "cell_type": "code",
   "execution_count": null,
   "id": "e7b35be8",
   "metadata": {},
   "outputs": [],
   "source": []
  }
 ],
 "metadata": {
  "kernelspec": {
   "display_name": "Python 3 (ipykernel)",
   "language": "python",
   "name": "python3"
  },
  "language_info": {
   "codemirror_mode": {
    "name": "ipython",
    "version": 3
   },
   "file_extension": ".py",
   "mimetype": "text/x-python",
   "name": "python",
   "nbconvert_exporter": "python",
   "pygments_lexer": "ipython3",
   "version": "3.8.12"
  }
 },
 "nbformat": 4,
 "nbformat_minor": 5
}
