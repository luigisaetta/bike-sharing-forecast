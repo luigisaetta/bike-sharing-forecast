{
 "cells": [
  {
   "cell_type": "markdown",
   "id": "fa826f87",
   "metadata": {},
   "source": [
    "### XGBoost and Optuna"
   ]
  },
  {
   "cell_type": "code",
   "execution_count": 1,
   "id": "a6b02034",
   "metadata": {},
   "outputs": [],
   "source": [
    "import pandas as pd\n",
    "import numpy as np\n",
    "\n",
    "# the GBM used\n",
    "import xgboost as xgb\n",
    "\n",
    "from sklearn.model_selection import KFold\n",
    "\n",
    "# to encode categoricals\n",
    "from sklearn.preprocessing import LabelEncoder\n",
    "\n",
    "# see utils.py\n",
    "from utils import add_features, rmsle, train_encoders, apply_encoders \n",
    "\n",
    "import optuna"
   ]
  },
  {
   "cell_type": "code",
   "execution_count": 2,
   "id": "8915e4dd",
   "metadata": {},
   "outputs": [],
   "source": [
    "# globals and load train dataset\n",
    "\n",
    "FILE_TRAIN = \"train.csv\"\n",
    "FILE_TEST = \"test.csv\""
   ]
  },
  {
   "cell_type": "code",
   "execution_count": 3,
   "id": "ce1f6761",
   "metadata": {},
   "outputs": [],
   "source": [
    "# load train dataset\n",
    "data_orig = pd.read_csv(FILE_TRAIN)\n",
    "\n",
    "#\n",
    "# add features\n",
    "#\n",
    "data_extended = add_features(data_orig)"
   ]
  },
  {
   "cell_type": "code",
   "execution_count": 4,
   "id": "58d915ba",
   "metadata": {},
   "outputs": [],
   "source": [
    "# ok, we will treat as categorical: holiday, hour, season, weather, workingday, year"
   ]
  },
  {
   "cell_type": "code",
   "execution_count": 5,
   "id": "f6223fe1",
   "metadata": {},
   "outputs": [
    {
     "name": "stdout",
     "output_type": "stream",
     "text": [
      "All columns: 14\n",
      "Ignored columns: 4\n",
      "Target: 1\n",
      "Categorical columns: 7\n",
      "Numerical columns: 2\n",
      "All the features 9\n"
     ]
    }
   ],
   "source": [
    "all_columns = data_extended.columns\n",
    "\n",
    "# cols to be ignored\n",
    "# atemp and temp are strongly correlated (0.98) we're taking only one\n",
    "del_columns = ['datetime', 'casual', 'registered', 'temp']\n",
    "\n",
    "TARGET = \"count\"\n",
    "cat_cols = ['season', 'holiday','workingday', 'weather', 'windspeed', 'hour', 'year']\n",
    "num_cols = list(set(all_columns) - set([TARGET]) - set(del_columns) - set(cat_cols))\n",
    "features = sorted(cat_cols + num_cols)\n",
    "\n",
    "print('All columns:', len(all_columns))\n",
    "print('Ignored columns:', len(del_columns))\n",
    "print('Target:', len([TARGET]))\n",
    "print('Categorical columns:', len(cat_cols))\n",
    "print('Numerical columns:', len(num_cols))\n",
    "print('All the features', len(features))"
   ]
  },
  {
   "cell_type": "code",
   "execution_count": 6,
   "id": "90329ed6",
   "metadata": {},
   "outputs": [],
   "source": [
    "# drop ignored columns\n",
    "data_used = data_extended.drop(del_columns, axis=1)"
   ]
  },
  {
   "cell_type": "code",
   "execution_count": 7,
   "id": "aad0f053",
   "metadata": {},
   "outputs": [
    {
     "name": "stdout",
     "output_type": "stream",
     "text": [
      "train for coding: season \n",
      "train for coding: weather \n",
      "train for coding: year \n",
      "\n",
      "Coding: season \n",
      "Coding: weather \n",
      "Coding: year \n"
     ]
    }
   ],
   "source": [
    "# let's code categorical\n",
    "le_list = train_encoders(data_used)\n",
    "\n",
    "# coding\n",
    "data_used = apply_encoders(data_used, le_list)\n",
    "\n",
    "# define indexes for cat_cols\n",
    "# cat boost want indexes\n",
    "cat_columns_idxs = [i for i, col in enumerate(features) if col in cat_cols]"
   ]
  },
  {
   "cell_type": "code",
   "execution_count": 8,
   "id": "212183d0",
   "metadata": {},
   "outputs": [],
   "source": [
    "# general\n",
    "FOLDS = 7\n",
    "SEED = 4321\n",
    "# train for longer, see if I can reduce RMSLE from 0.7\n",
    "N_TRIALS = 60\n",
    "STUDY_NAME = \"gbm2\"\n",
    "\n",
    "\n",
    "X = data_used[features].values\n",
    "y = data_used[TARGET].values"
   ]
  },
  {
   "cell_type": "code",
   "execution_count": 9,
   "id": "731eab9a",
   "metadata": {},
   "outputs": [],
   "source": [
    "# for XGBoost\n",
    "\n",
    "dtrain = xgb.DMatrix(X, label=y)"
   ]
  },
  {
   "cell_type": "code",
   "execution_count": 10,
   "id": "54b66070",
   "metadata": {},
   "outputs": [],
   "source": [
    "#\n",
    "# Here we define what we do using Optuna\n",
    "#\n",
    "def objective(trial):\n",
    "    \n",
    "    # tuning on max_depth, n_estimators for the example\n",
    "    dict_params = {\n",
    "        \"verbosity\": 0,\n",
    "        \"objective\": \"reg:squarederror\",\n",
    "        \"learning_rate\": trial.suggest_loguniform(\"learning_rate\", low=1e-4, high=1e-2),\n",
    "        \"eval_metric\": \"rmse\",\n",
    "        \"max_depth\" : trial.suggest_int(\"max_depth\", 4, 10),\n",
    "    }\n",
    "    \n",
    "    # needed only for XGBoost\n",
    "    n_rounds = trial.suggest_categorical(\"num_boost_round\", [1000, 2000, 3000, 4000, 5000])\n",
    "    dict_params['num_boost_round']  = n_rounds\n",
    "\n",
    "    history = xgb.cv(params=dict_params, dtrain=dtrain, nfold=FOLDS, seed=SEED,\n",
    "                     # as far as I see we need this for XGBoost\n",
    "                     num_boost_round=n_rounds)\n",
    "    \n",
    "    # take the last\n",
    "    rmse = round(history[\"test-rmse-mean\"].values[-1], 4)\n",
    "        \n",
    "    return rmse"
   ]
  },
  {
   "cell_type": "code",
   "execution_count": null,
   "id": "eeec9af9",
   "metadata": {},
   "outputs": [
    {
     "name": "stderr",
     "output_type": "stream",
     "text": [
      "\u001b[32m[I 2022-03-08 17:09:17,851]\u001b[0m A new study created in memory with name: gbm2\u001b[0m\n",
      "\u001b[32m[I 2022-03-08 17:11:13,476]\u001b[0m Trial 0 finished with value: 50.3394 and parameters: {'learning_rate': 0.001338134232361574, 'max_depth': 10, 'num_boost_round': 2000}. Best is trial 0 with value: 50.3394.\u001b[0m\n",
      "\u001b[32m[I 2022-03-08 17:13:29,968]\u001b[0m Trial 1 finished with value: 43.3153 and parameters: {'learning_rate': 0.0035008245434434105, 'max_depth': 6, 'num_boost_round': 5000}. Best is trial 1 with value: 43.3153.\u001b[0m\n",
      "\u001b[32m[I 2022-03-08 17:16:44,695]\u001b[0m Trial 2 finished with value: 74.0092 and parameters: {'learning_rate': 0.00041053116341917425, 'max_depth': 9, 'num_boost_round': 4000}. Best is trial 1 with value: 43.3153.\u001b[0m\n",
      "\u001b[32m[I 2022-03-08 17:18:27,477]\u001b[0m Trial 3 finished with value: 81.1703 and parameters: {'learning_rate': 0.0005458897213907421, 'max_depth': 7, 'num_boost_round': 3000}. Best is trial 1 with value: 43.3153.\u001b[0m\n",
      "\u001b[32m[I 2022-03-08 17:19:01,876]\u001b[0m Trial 4 finished with value: 67.5695 and parameters: {'learning_rate': 0.002089996778149659, 'max_depth': 7, 'num_boost_round': 1000}. Best is trial 1 with value: 43.3153.\u001b[0m\n",
      "\u001b[32m[I 2022-03-08 17:19:29,508]\u001b[0m Trial 5 finished with value: 219.2211 and parameters: {'learning_rate': 0.0002218244368956882, 'max_depth': 6, 'num_boost_round': 1000}. Best is trial 1 with value: 43.3153.\u001b[0m\n",
      "\u001b[32m[I 2022-03-08 17:22:12,370]\u001b[0m Trial 6 finished with value: 155.6313 and parameters: {'learning_rate': 0.00015252196656444195, 'max_depth': 8, 'num_boost_round': 4000}. Best is trial 1 with value: 43.3153.\u001b[0m\n",
      "\u001b[32m[I 2022-03-08 17:24:05,535]\u001b[0m Trial 7 finished with value: 81.7071 and parameters: {'learning_rate': 0.00043178826427724864, 'max_depth': 5, 'num_boost_round': 5000}. Best is trial 1 with value: 43.3153.\u001b[0m\n",
      "\u001b[32m[I 2022-03-08 17:25:58,488]\u001b[0m Trial 8 finished with value: 195.5675 and parameters: {'learning_rate': 0.00016214092143516427, 'max_depth': 10, 'num_boost_round': 2000}. Best is trial 1 with value: 43.3153.\u001b[0m\n",
      "\u001b[32m[I 2022-03-08 17:26:26,154]\u001b[0m Trial 9 finished with value: 239.6618 and parameters: {'learning_rate': 0.000112097618717223, 'max_depth': 6, 'num_boost_round': 1000}. Best is trial 1 with value: 43.3153.\u001b[0m\n",
      "\u001b[32m[I 2022-03-08 17:27:53,872]\u001b[0m Trial 10 finished with value: 47.2315 and parameters: {'learning_rate': 0.006836983741565353, 'max_depth': 4, 'num_boost_round': 5000}. Best is trial 1 with value: 43.3153.\u001b[0m\n",
      "\u001b[32m[I 2022-03-08 17:29:22,140]\u001b[0m Trial 11 finished with value: 46.2447 and parameters: {'learning_rate': 0.00871587769999218, 'max_depth': 4, 'num_boost_round': 5000}. Best is trial 1 with value: 43.3153.\u001b[0m\n",
      "\u001b[32m[I 2022-03-08 17:30:50,433]\u001b[0m Trial 12 finished with value: 46.1442 and parameters: {'learning_rate': 0.009084630877320926, 'max_depth': 4, 'num_boost_round': 5000}. Best is trial 1 with value: 43.3153.\u001b[0m\n",
      "\u001b[32m[I 2022-03-08 17:32:41,069]\u001b[0m Trial 13 finished with value: 45.0998 and parameters: {'learning_rate': 0.003681464554750279, 'max_depth': 5, 'num_boost_round': 5000}. Best is trial 1 with value: 43.3153.\u001b[0m\n"
     ]
    }
   ],
   "source": [
    "# launch Optuna Study\n",
    "\n",
    "study = optuna.create_study(study_name=STUDY_NAME , direction=\"minimize\")\n",
    "\n",
    "study.optimize(objective, n_trials=N_TRIALS)"
   ]
  },
  {
   "cell_type": "code",
   "execution_count": null,
   "id": "1803c5c3",
   "metadata": {},
   "outputs": [],
   "source": [
    "study.best_params"
   ]
  },
  {
   "cell_type": "code",
   "execution_count": null,
   "id": "d1f30e9b",
   "metadata": {},
   "outputs": [],
   "source": [
    "# visualize trials as an ordered Pandas df\n",
    "df = study.trials_dataframe()\n",
    "\n",
    "result_df = df[df['state'] == 'COMPLETE'].sort_values(by=['value'], ascending=True)\n",
    "\n",
    "# best on top\n",
    "result_df.head()"
   ]
  },
  {
   "cell_type": "markdown",
   "id": "4fae60c4",
   "metadata": {},
   "source": [
    "### estimate RMSLE\n",
    "* it is the metric used in Kaggle competition"
   ]
  },
  {
   "cell_type": "code",
   "execution_count": null,
   "id": "e21101e6",
   "metadata": {},
   "outputs": [],
   "source": [
    "# make an estimation of rmsle on entire dataset\n",
    "\n",
    "kf = KFold(n_splits=FOLDS, shuffle=True, random_state=SEED)\n",
    "\n",
    "avg_rmsle = 0.\n",
    "\n",
    "#\n",
    "# at each iteration you get a different set of indexes\n",
    "# from which you get different samples for train and validation dataset\n",
    "#\n",
    "for i, (train_idx, valid_idx) in enumerate(kf.split(data_used)):\n",
    "    print(\"Processing fold:\", i + 1)\n",
    "    \n",
    "    # here we split the DataFrame, using the indexes for the fold\n",
    "    data_train = data_used.iloc[train_idx]\n",
    "    data_valid = data_used.iloc[valid_idx]\n",
    "    \n",
    "    x_train = data_train[features].values\n",
    "    y_train = data_train[TARGET].values\n",
    "    x_valid = data_valid[features].values\n",
    "    y_valid = data_valid[TARGET].values\n",
    "    \n",
    "    # it is important to pass explicitely n_estimators (only xgboost)\n",
    "    model = xgb.XGBRegressor(n_estimators = study.best_params['num_boost_round'], \n",
    "                             **study.best_params)\n",
    "\n",
    "    model.fit(x_train, y_train)\n",
    "    \n",
    "    y_valid_preds = model.predict(x_valid)\n",
    "    \n",
    "    # clip to zero (to avoid nan for rmsle)\n",
    "    y_valid_preds = np.where(y_valid_preds >= 0,  y_valid_preds, 0)\n",
    "    \n",
    "    avg_rmsle += rmsle(y_valid_preds, y_valid)/float(FOLDS)\n",
    "\n",
    "print()\n",
    "print('Avg. RMSLE:', round(avg_rmsle, 4))\n",
    "print()"
   ]
  },
  {
   "cell_type": "markdown",
   "id": "eefc5c56",
   "metadata": {},
   "source": [
    "### Train the model on entire train set and save"
   ]
  },
  {
   "cell_type": "code",
   "execution_count": null,
   "id": "f0ef9748",
   "metadata": {},
   "outputs": [],
   "source": [
    "%%time\n",
    "model = xgb.XGBRegressor(n_estimators = study.best_params['num_boost_round'], \n",
    "                         **study.best_params)\n",
    "\n",
    "model.fit(x_train, y_train)"
   ]
  },
  {
   "cell_type": "code",
   "execution_count": null,
   "id": "9be37609",
   "metadata": {},
   "outputs": [],
   "source": [
    "model.save_model(\"xgboost.txt\")"
   ]
  },
  {
   "cell_type": "code",
   "execution_count": null,
   "id": "83fe7ae2",
   "metadata": {},
   "outputs": [],
   "source": []
  }
 ],
 "metadata": {
  "kernelspec": {
   "display_name": "Python 3 (ipykernel)",
   "language": "python",
   "name": "python3"
  },
  "language_info": {
   "codemirror_mode": {
    "name": "ipython",
    "version": 3
   },
   "file_extension": ".py",
   "mimetype": "text/x-python",
   "name": "python",
   "nbconvert_exporter": "python",
   "pygments_lexer": "ipython3",
   "version": "3.8.12"
  }
 },
 "nbformat": 4,
 "nbformat_minor": 5
}
