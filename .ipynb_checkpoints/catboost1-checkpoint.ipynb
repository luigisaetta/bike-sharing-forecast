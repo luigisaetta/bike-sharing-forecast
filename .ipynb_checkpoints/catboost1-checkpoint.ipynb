{
 "cells": [
  {
   "cell_type": "markdown",
   "id": "416e1b0a",
   "metadata": {},
   "source": [
    "### Catboost1"
   ]
  },
  {
   "cell_type": "code",
   "execution_count": 29,
   "id": "6d9902c1",
   "metadata": {},
   "outputs": [],
   "source": [
    "import pandas as pd\n",
    "import numpy as np\n",
    "import catboost as cat"
   ]
  },
  {
   "cell_type": "code",
   "execution_count": 2,
   "id": "db8d133f",
   "metadata": {},
   "outputs": [
    {
     "name": "stdout",
     "output_type": "stream",
     "text": [
      "1.0.3\n"
     ]
    }
   ],
   "source": [
    "print(catboost.__version__)"
   ]
  },
  {
   "cell_type": "code",
   "execution_count": 14,
   "id": "8d8bb0b0",
   "metadata": {},
   "outputs": [],
   "source": [
    "# globals\n",
    "FIGSIZE = (9, 6)\n",
    "\n",
    "SEED = 42\n",
    "\n",
    "FILE_TRAIN = \"train.csv\""
   ]
  },
  {
   "cell_type": "code",
   "execution_count": 15,
   "id": "298ebd74",
   "metadata": {},
   "outputs": [],
   "source": [
    "#\n",
    "# my split in train, test set\n",
    "#\n",
    "def my_train_test_split(df, frac):\n",
    "    # frac: the fraction used for train\n",
    "    # df: the dataframe\n",
    "    \n",
    "    # shuffle before split\n",
    "    df = df.sample(frac=1., random_state=SEED)\n",
    "\n",
    "    # FRAC = 0.90\n",
    "    tot_rec = df.shape[0]\n",
    "    NUM_TRAIN = int(frac*tot_rec)\n",
    "    NUM_TEST = tot_rec - NUM_TRAIN\n",
    "\n",
    "    data_train = df[:NUM_TRAIN]\n",
    "    data_test = df[NUM_TRAIN:]\n",
    "\n",
    "    print()\n",
    "    print('Numero totale di campioni:', tot_rec)\n",
    "    print('Numero di campioni nel TRAIN SET:', data_train.shape[0])\n",
    "    print('Numero di campioni nel TEST SET:', data_test.shape[0])\n",
    "    \n",
    "    return data_train, data_test"
   ]
  },
  {
   "cell_type": "code",
   "execution_count": 16,
   "id": "f6c53200",
   "metadata": {},
   "outputs": [],
   "source": [
    "data_orig = pd.read_csv(FILE_TRAIN)"
   ]
  },
  {
   "cell_type": "code",
   "execution_count": 23,
   "id": "cd22e34c",
   "metadata": {},
   "outputs": [
    {
     "name": "stdout",
     "output_type": "stream",
     "text": [
      "Tutte le colonne: 12\n",
      "Colonne ignorate: 3\n",
      "target: 1\n",
      "Colonne cat: 4\n",
      "Colonne num: 4\n"
     ]
    }
   ],
   "source": [
    "all_columns = data_orig.columns\n",
    "\n",
    "# colonne da ignorare\n",
    "del_columns = ['datetime', 'casual', 'registered']\n",
    "\n",
    "TARGET = \"count\"\n",
    "\n",
    "cat_cols = ['season', 'holiday','workingday', 'weather']\n",
    "\n",
    "num_cols = list(set(all_columns) - set([TARGET]) - set(del_columns) - set(cat_cols))\n",
    "\n",
    "features = sorted(cat_cols + num_cols)\n",
    "\n",
    "print('Tutte le colonne:', len(all_columns))\n",
    "print('Colonne ignorate:', len(del_columns))\n",
    "print('target:', len([TARGET]))\n",
    "print('Colonne cat:', len(cat_cols))\n",
    "print('Colonne num:', len(num_cols))"
   ]
  },
  {
   "cell_type": "code",
   "execution_count": 24,
   "id": "35d84daa",
   "metadata": {},
   "outputs": [],
   "source": [
    "data_used = data_orig.drop(del_columns, axis=1)"
   ]
  },
  {
   "cell_type": "code",
   "execution_count": 25,
   "id": "cc42c351",
   "metadata": {},
   "outputs": [
    {
     "name": "stdout",
     "output_type": "stream",
     "text": [
      "\n",
      "Numero totale di campioni: 10886\n",
      "Numero di campioni nel TRAIN SET: 9797\n",
      "Numero di campioni nel TEST SET: 1089\n"
     ]
    }
   ],
   "source": [
    "FRAC = 0.90\n",
    "\n",
    "data_train, data_test = my_train_test_split(data_used, frac=FRAC)"
   ]
  },
  {
   "cell_type": "code",
   "execution_count": 28,
   "id": "88a3a9cf",
   "metadata": {},
   "outputs": [],
   "source": [
    "# separo X ed y\n",
    "x_train = data_train[features]\n",
    "y_train = data_train[TARGET]\n",
    "\n",
    "x_test = data_test[features]\n",
    "y_test = data_test[TARGET]\n",
    "\n",
    "# cat boost want indexes\n",
    "cat_columns_idxs = [i for i, col in enumerate(x_train.columns) if col in cat_cols]"
   ]
  },
  {
   "cell_type": "code",
   "execution_count": 38,
   "id": "c52f3504",
   "metadata": {},
   "outputs": [
    {
     "name": "stdout",
     "output_type": "stream",
     "text": [
      "0:\tlearn: 181.2785594\ttest: 177.2255208\tbest: 177.2255208 (0)\ttotal: 79.8ms\tremaining: 6m 38s\n",
      "500:\tlearn: 145.3967621\ttest: 147.3651038\tbest: 147.3651038 (500)\ttotal: 30.7s\tremaining: 4m 35s\n",
      "1000:\tlearn: 142.1507150\ttest: 145.6174908\tbest: 145.6166899 (998)\ttotal: 1m\tremaining: 4m 1s\n",
      "1500:\tlearn: 140.6573639\ttest: 144.9632169\tbest: 144.9632169 (1500)\ttotal: 1m 30s\tremaining: 3m 30s\n",
      "2000:\tlearn: 139.6254603\ttest: 144.5657187\tbest: 144.5654900 (1999)\ttotal: 1m 58s\tremaining: 2m 57s\n",
      "2500:\tlearn: 138.8805710\ttest: 144.3079110\tbest: 144.3079110 (2500)\ttotal: 2m 28s\tremaining: 2m 28s\n",
      "3000:\tlearn: 138.3326838\ttest: 144.1296414\tbest: 144.1290234 (2996)\ttotal: 3m 1s\tremaining: 2m\n",
      "3500:\tlearn: 137.9158833\ttest: 144.0259006\tbest: 144.0259006 (3500)\ttotal: 3m 32s\tremaining: 1m 31s\n",
      "4000:\tlearn: 137.5419615\ttest: 143.9360000\tbest: 143.9356491 (3999)\ttotal: 4m 3s\tremaining: 1m\n",
      "4500:\tlearn: 137.2085849\ttest: 143.8314619\tbest: 143.8314619 (4500)\ttotal: 4m 33s\tremaining: 30.4s\n",
      "4999:\tlearn: 136.9341973\ttest: 143.7650363\tbest: 143.7650363 (4999)\ttotal: 5m 3s\tremaining: 0us\n",
      "bestTest = 143.7650363\n",
      "bestIteration = 4999\n",
      "CPU times: user 4min 21s, sys: 2min 24s, total: 6min 46s\n",
      "Wall time: 5min 4s\n"
     ]
    },
    {
     "data": {
      "text/plain": [
       "<catboost.core.CatBoostRegressor at 0x7f5f2dafe390>"
      ]
     },
     "execution_count": 38,
     "metadata": {},
     "output_type": "execute_result"
    }
   ],
   "source": [
    "%%time\n",
    "# First: try without addressing data imbalance\n",
    "\n",
    "params = {'iterations':5000,\n",
    "          'learning_rate':0.005,\n",
    "          'depth':10,\n",
    "          'task_type':\"GPU\"\n",
    "         }\n",
    "\n",
    "model = cat.CatBoostRegressor(**params)\n",
    "\n",
    "model.fit(x_train, y_train, cat_columns_idxs, verbose=500, early_stopping_rounds=50, eval_set=(x_test, y_test))"
   ]
  },
  {
   "cell_type": "code",
   "execution_count": 43,
   "id": "13706fa3",
   "metadata": {},
   "outputs": [
    {
     "data": {
      "image/png": "[encoded data removed]",
      "text/plain": [
       "<Figure size 648x432 with 1 Axes>"
      ]
     },
     "metadata": {
      "needs_background": "light"
     },
     "output_type": "display_data"
    }
   ],
   "source": [
    "%matplotlib inline\n",
    "\n",
    "# eXplainability: Feature importance\n",
    "import seaborn as sns\n",
    "import matplotlib.pyplot as plt\n",
    "\n",
    "plt.figure(figsize = FIGSIZE)\n",
    "plt.grid(True)\n",
    "sns.barplot(x = model.get_feature_importance(), y = features);"
   ]
  },
  {
   "cell_type": "markdown",
   "id": "4ad9ea33",
   "metadata": {},
   "source": [
    "### Submission"
   ]
  },
  {
   "cell_type": "code",
   "execution_count": 66,
   "id": "a022ef1f",
   "metadata": {},
   "outputs": [],
   "source": [
    "test_orig = pd.read_csv(\"test.csv\")"
   ]
  },
  {
   "cell_type": "code",
   "execution_count": 67,
   "id": "6cb7f474",
   "metadata": {},
   "outputs": [],
   "source": [
    "v_test = test_orig[features]"
   ]
  },
  {
   "cell_type": "code",
   "execution_count": 68,
   "id": "8fef3417",
   "metadata": {},
   "outputs": [],
   "source": [
    "score_test = model.predict(v_test)"
   ]
  },
  {
   "cell_type": "code",
   "execution_count": 69,
   "id": "0d164f60",
   "metadata": {},
   "outputs": [
    {
     "data": {
      "text/plain": [
       "(6493,)"
      ]
     },
     "execution_count": 69,
     "metadata": {},
     "output_type": "execute_result"
    }
   ],
   "source": [
    "score_test.shape"
   ]
  },
  {
   "cell_type": "code",
   "execution_count": 70,
   "id": "2d1f17f8",
   "metadata": {},
   "outputs": [],
   "source": [
    "df_sub = pd.read_csv(\"sampleSubmission.csv\")"
   ]
  },
  {
   "cell_type": "code",
   "execution_count": 71,
   "id": "5b467511",
   "metadata": {},
   "outputs": [],
   "source": [
    "df_sub[\"count\"] = score_test"
   ]
  },
  {
   "cell_type": "code",
   "execution_count": 73,
   "id": "fe6b90f1",
   "metadata": {},
   "outputs": [],
   "source": [
    "condition = df_sub[\"count\"] < 0\n",
    "\n",
    "df_sub.loc[condition, \"count\"] = 0"
   ]
  },
  {
   "cell_type": "code",
   "execution_count": 74,
   "id": "de7f3812",
   "metadata": {},
   "outputs": [
    {
     "data": {
      "text/html": [
       "<div>\n",
       "<style scoped>\n",
       "    .dataframe tbody tr th:only-of-type {\n",
       "        vertical-align: middle;\n",
       "    }\n",
       "\n",
       "    .dataframe tbody tr th {\n",
       "        vertical-align: top;\n",
       "    }\n",
       "\n",
       "    .dataframe thead th {\n",
       "        text-align: right;\n",
       "    }\n",
       "</style>\n",
       "<table border=\"1\" class=\"dataframe\">\n",
       "  <thead>\n",
       "    <tr style=\"text-align: right;\">\n",
       "      <th></th>\n",
       "      <th>count</th>\n",
       "    </tr>\n",
       "  </thead>\n",
       "  <tbody>\n",
       "    <tr>\n",
       "      <th>count</th>\n",
       "      <td>6493.000000</td>\n",
       "    </tr>\n",
       "    <tr>\n",
       "      <th>mean</th>\n",
       "      <td>186.764388</td>\n",
       "    </tr>\n",
       "    <tr>\n",
       "      <th>std</th>\n",
       "      <td>106.194326</td>\n",
       "    </tr>\n",
       "    <tr>\n",
       "      <th>min</th>\n",
       "      <td>0.000000</td>\n",
       "    </tr>\n",
       "    <tr>\n",
       "      <th>25%</th>\n",
       "      <td>101.310298</td>\n",
       "    </tr>\n",
       "    <tr>\n",
       "      <th>50%</th>\n",
       "      <td>161.839960</td>\n",
       "    </tr>\n",
       "    <tr>\n",
       "      <th>75%</th>\n",
       "      <td>258.927484</td>\n",
       "    </tr>\n",
       "    <tr>\n",
       "      <th>max</th>\n",
       "      <td>554.101380</td>\n",
       "    </tr>\n",
       "  </tbody>\n",
       "</table>\n",
       "</div>"
      ],
      "text/plain": [
       "             count\n",
       "count  6493.000000\n",
       "mean    186.764388\n",
       "std     106.194326\n",
       "min       0.000000\n",
       "25%     101.310298\n",
       "50%     161.839960\n",
       "75%     258.927484\n",
       "max     554.101380"
      ]
     },
     "execution_count": 74,
     "metadata": {},
     "output_type": "execute_result"
    }
   ],
   "source": [
    "df_sub.describe()"
   ]
  },
  {
   "cell_type": "code",
   "execution_count": 75,
   "id": "9e0ef6d3",
   "metadata": {},
   "outputs": [],
   "source": [
    "FILE_SUB = \"submission1.csv\"\n",
    "\n",
    "df_sub.to_csv(FILE_SUB, index=False)"
   ]
  },
  {
   "cell_type": "code",
   "execution_count": 76,
   "id": "f52aecdb",
   "metadata": {},
   "outputs": [
    {
     "name": "stdout",
     "output_type": "stream",
     "text": [
      "100%|█████████████████████████████████████████| 244k/244k [00:01<00:00, 193kB/s]\n",
      "Successfully submitted to Bike Sharing Demand"
     ]
    }
   ],
   "source": [
    "!kaggle competitions submit -c \"bike-sharing-demand\" -f $FILE_SUB -m \"sub1\""
   ]
  },
  {
   "cell_type": "code",
   "execution_count": null,
   "id": "82b2ddc0",
   "metadata": {},
   "outputs": [],
   "source": []
  }
 ],
 "metadata": {
  "kernelspec": {
   "display_name": "Python [conda env:tensorflow26_p37_gpu_v3]",
   "language": "python",
   "name": "conda-env-tensorflow26_p37_gpu_v3-py"
  },
  "language_info": {
   "codemirror_mode": {
    "name": "ipython",
    "version": 3
   },
   "file_extension": ".py",
   "mimetype": "text/x-python",
   "name": "python",
   "nbconvert_exporter": "python",
   "pygments_lexer": "ipython3",
   "version": "3.7.12"
  }
 },
 "nbformat": 4,
 "nbformat_minor": 5
}
