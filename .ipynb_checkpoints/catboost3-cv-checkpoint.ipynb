{
 "cells": [
  {
   "cell_type": "markdown",
   "id": "fa826f87",
   "metadata": {},
   "source": [
    "### Catboost3\n",
    "* added feature engineering\n",
    "* added year, removed temp\n",
    "* removing day I got the best result (0.4998 so far). The range of days in the train set don't match with test set"
   ]
  },
  {
   "cell_type": "code",
   "execution_count": 1,
   "id": "a6b02034",
   "metadata": {},
   "outputs": [],
   "source": [
    "import pandas as pd\n",
    "import numpy as np\n",
    "import catboost as cat\n",
    "\n",
    "from sklearn.model_selection import KFold\n",
    "\n",
    "import seaborn as sns\n",
    "import matplotlib.pyplot as plt"
   ]
  },
  {
   "cell_type": "code",
   "execution_count": 2,
   "id": "8915e4dd",
   "metadata": {},
   "outputs": [],
   "source": [
    "# globals\n",
    "FIGSIZE = (9, 6)\n",
    "\n",
    "SEED = 42\n",
    "\n",
    "FILE_TRAIN = \"train.csv\""
   ]
  },
  {
   "cell_type": "code",
   "execution_count": 3,
   "id": "ce1f6761",
   "metadata": {},
   "outputs": [],
   "source": [
    "data_orig = pd.read_csv(FILE_TRAIN)\n",
    "\n",
    "# feature engineering\n",
    "data_orig['datetime'] = pd.to_datetime(data_orig['datetime'])\n",
    "\n",
    "# this way I add 3 engineered features\n",
    "data_orig['hour'] = data_orig['datetime'].dt.hour\n",
    "\n",
    "# mese di fatto è duplicato di season. rimuovo\n",
    "#data_orig['month'] = data_orig['datetime'].dt.month\n",
    "# rimuovo day\n",
    "# data_orig['day'] = data_orig['datetime'].dt.day\n",
    "data_orig['year'] = data_orig['datetime'].dt.year"
   ]
  },
  {
   "cell_type": "code",
   "execution_count": 4,
   "id": "f6223fe1",
   "metadata": {},
   "outputs": [
    {
     "name": "stdout",
     "output_type": "stream",
     "text": [
      "Tutte le colonne: 14\n",
      "Colonne ignorate: 4\n",
      "target: 1\n",
      "Colonne cat: 6\n",
      "Colonne num: 3\n",
      "Num. features 9\n"
     ]
    }
   ],
   "source": [
    "all_columns = data_orig.columns\n",
    "\n",
    "# colonne da ignorare\n",
    "# atemp and temp are strongly correlated (0.98) taking only one\n",
    "del_columns = ['datetime', 'casual', 'registered', 'temp']\n",
    "\n",
    "TARGET = \"count\"\n",
    "\n",
    "cat_cols = ['season', 'holiday','workingday', 'weather', 'hour', 'year']\n",
    "num_cols = list(set(all_columns) - set([TARGET]) - set(del_columns) - set(cat_cols))\n",
    "features = sorted(cat_cols + num_cols)\n",
    "\n",
    "print('Tutte le colonne:', len(all_columns))\n",
    "print('Colonne ignorate:', len(del_columns))\n",
    "print('target:', len([TARGET]))\n",
    "print('Colonne cat:', len(cat_cols))\n",
    "print('Colonne num:', len(num_cols))\n",
    "print('Num. features', len(features))"
   ]
  },
  {
   "cell_type": "code",
   "execution_count": 5,
   "id": "90329ed6",
   "metadata": {},
   "outputs": [],
   "source": [
    "data_used = data_orig.drop(del_columns, axis=1)"
   ]
  },
  {
   "cell_type": "code",
   "execution_count": 6,
   "id": "a7fbf244",
   "metadata": {},
   "outputs": [],
   "source": [
    "# define indexes for cat_cols\n",
    "# cat boost want indexes\n",
    "cat_columns_idxs = [i for i, col in enumerate(features) if col in cat_cols]"
   ]
  },
  {
   "cell_type": "code",
   "execution_count": 7,
   "id": "32702a7e",
   "metadata": {},
   "outputs": [
    {
     "name": "stdout",
     "output_type": "stream",
     "text": [
      "\n",
      "Processing fold: 1\n",
      "0:\tlearn: 180.4119412\ttest: 181.0975720\tbest: 181.0975720 (0)\ttotal: 49.3ms\tremaining: 4m 55s\n",
      "500:\tlearn: 70.8799440\ttest: 69.9929683\tbest: 69.9929683 (500)\ttotal: 32.4s\tremaining: 5m 55s\n",
      "1000:\tlearn: 54.7896277\ttest: 53.9784907\tbest: 53.9784907 (1000)\ttotal: 1m 8s\tremaining: 5m 40s\n",
      "1500:\tlearn: 50.4958009\ttest: 50.2592978\tbest: 50.2592978 (1500)\ttotal: 1m 42s\tremaining: 5m 7s\n",
      "2000:\tlearn: 48.7285965\ttest: 48.8938314\tbest: 48.8938314 (2000)\ttotal: 2m 15s\tremaining: 4m 31s\n",
      "2500:\tlearn: 47.5487227\ttest: 48.0098585\tbest: 48.0098585 (2500)\ttotal: 2m 50s\tremaining: 3m 58s\n",
      "3000:\tlearn: 46.8291199\ttest: 47.4904514\tbest: 47.4904514 (3000)\ttotal: 3m 23s\tremaining: 3m 23s\n",
      "3500:\tlearn: 46.0732750\ttest: 46.9403990\tbest: 46.9403990 (3500)\ttotal: 3m 54s\tremaining: 2m 47s\n",
      "4000:\tlearn: 45.3761293\ttest: 46.4503077\tbest: 46.4503077 (4000)\ttotal: 4m 25s\tremaining: 2m 12s\n",
      "4500:\tlearn: 44.8811527\ttest: 46.1060282\tbest: 46.1060282 (4500)\ttotal: 4m 56s\tremaining: 1m 38s\n",
      "5000:\tlearn: 44.4029240\ttest: 45.7911150\tbest: 45.7910975 (4999)\ttotal: 5m 29s\tremaining: 1m 5s\n",
      "bestTest = 45.76464675\n",
      "bestIteration = 5090\n",
      "Shrink model to first 5091 iterations.\n",
      "\n",
      "Processing fold: 2\n",
      "0:\tlearn: 181.3435828\ttest: 177.2935095\tbest: 177.2935095 (0)\ttotal: 42.1ms\tremaining: 4m 12s\n",
      "500:\tlearn: 67.4468257\ttest: 65.8576226\tbest: 65.8576226 (500)\ttotal: 31.7s\tremaining: 5m 48s\n",
      "1000:\tlearn: 53.2652281\ttest: 52.4603094\tbest: 52.4603094 (1000)\ttotal: 1m 7s\tremaining: 5m 38s\n",
      "1500:\tlearn: 49.4267936\ttest: 49.4097847\tbest: 49.4097847 (1500)\ttotal: 1m 41s\tremaining: 5m 5s\n",
      "2000:\tlearn: 47.2796398\ttest: 48.0175573\tbest: 48.0175573 (2000)\ttotal: 2m 14s\tremaining: 4m 29s\n",
      "2500:\tlearn: 46.0011956\ttest: 47.3380735\tbest: 47.3377605 (2499)\ttotal: 2m 49s\tremaining: 3m 57s\n",
      "3000:\tlearn: 45.2324827\ttest: 46.9552852\tbest: 46.9543803 (2979)\ttotal: 3m 23s\tremaining: 3m 23s\n",
      "bestTest = 46.89451997\n",
      "bestIteration = 3288\n",
      "Shrink model to first 3289 iterations.\n",
      "\n",
      "Processing fold: 3\n",
      "0:\tlearn: 180.1789595\ttest: 181.6976040\tbest: 181.6976040 (0)\ttotal: 82.1ms\tremaining: 8m 12s\n",
      "500:\tlearn: 68.1530802\ttest: 68.0297666\tbest: 68.0297666 (500)\ttotal: 33.1s\tremaining: 6m 2s\n",
      "1000:\tlearn: 53.9742393\ttest: 54.5042741\tbest: 54.5042741 (1000)\ttotal: 1m 9s\tremaining: 5m 46s\n",
      "1500:\tlearn: 49.7231028\ttest: 51.0038345\tbest: 51.0038345 (1500)\ttotal: 1m 45s\tremaining: 5m 15s\n",
      "2000:\tlearn: 47.3238295\ttest: 49.1943476\tbest: 49.1943476 (2000)\ttotal: 2m 21s\tremaining: 4m 42s\n",
      "2500:\tlearn: 45.6095321\ttest: 47.9769960\tbest: 47.9767878 (2498)\ttotal: 3m\tremaining: 4m 12s\n",
      "3000:\tlearn: 44.6870261\ttest: 47.3633736\tbest: 47.3633736 (3000)\ttotal: 3m 37s\tremaining: 3m 37s\n",
      "3500:\tlearn: 43.8489628\ttest: 46.8361696\tbest: 46.8361622 (3499)\ttotal: 4m 15s\tremaining: 3m 2s\n",
      "4000:\tlearn: 43.1515673\ttest: 46.4130365\tbest: 46.4130365 (4000)\ttotal: 4m 52s\tremaining: 2m 26s\n",
      "4500:\tlearn: 42.6082352\ttest: 46.1058876\tbest: 46.1058876 (4500)\ttotal: 5m 27s\tremaining: 1m 49s\n",
      "5000:\tlearn: 42.0477587\ttest: 45.7828200\tbest: 45.7828200 (5000)\ttotal: 6m 3s\tremaining: 1m 12s\n",
      "5500:\tlearn: 41.6477210\ttest: 45.5657540\tbest: 45.5657540 (5500)\ttotal: 6m 37s\tremaining: 36s\n",
      "5999:\tlearn: 41.3570996\ttest: 45.4168945\tbest: 45.4166745 (5995)\ttotal: 7m 7s\tremaining: 0us\n",
      "bestTest = 45.4166745\n",
      "bestIteration = 5995\n",
      "Shrink model to first 5996 iterations.\n",
      "\n",
      "Processing fold: 4\n",
      "0:\tlearn: 179.7817383\ttest: 183.3016044\tbest: 183.3016044 (0)\ttotal: 39.3ms\tremaining: 3m 55s\n",
      "500:\tlearn: 68.5525094\ttest: 66.6613108\tbest: 66.6613108 (500)\ttotal: 32.7s\tremaining: 5m 59s\n",
      "1000:\tlearn: 54.8935127\ttest: 53.0935810\tbest: 53.0935810 (1000)\ttotal: 1m 8s\tremaining: 5m 42s\n",
      "1500:\tlearn: 51.1154956\ttest: 50.0383156\tbest: 50.0383156 (1500)\ttotal: 1m 42s\tremaining: 5m 5s\n",
      "2000:\tlearn: 49.2377819\ttest: 48.7657234\tbest: 48.7657234 (2000)\ttotal: 2m 13s\tremaining: 4m 26s\n",
      "2500:\tlearn: 48.0120430\ttest: 48.0053444\tbest: 48.0053444 (2500)\ttotal: 2m 43s\tremaining: 3m 48s\n",
      "3000:\tlearn: 47.0036437\ttest: 47.4125940\tbest: 47.4125940 (3000)\ttotal: 3m 18s\tremaining: 3m 18s\n",
      "3500:\tlearn: 46.2214040\ttest: 46.9797184\tbest: 46.9797184 (3500)\ttotal: 3m 51s\tremaining: 2m 45s\n",
      "4000:\tlearn: 45.7008651\ttest: 46.7282653\tbest: 46.7282653 (4000)\ttotal: 4m 19s\tremaining: 2m 9s\n",
      "4500:\tlearn: 45.2753330\ttest: 46.5266456\tbest: 46.5266456 (4500)\ttotal: 4m 43s\tremaining: 1m 34s\n",
      "5000:\tlearn: 44.8375335\ttest: 46.3303579\tbest: 46.3302092 (4999)\ttotal: 5m 10s\tremaining: 1m 1s\n",
      "5500:\tlearn: 44.4762558\ttest: 46.1777263\tbest: 46.1771668 (5496)\ttotal: 5m 37s\tremaining: 30.6s\n",
      "5999:\tlearn: 44.1976427\ttest: 46.0679757\tbest: 46.0679757 (5998)\ttotal: 6m 2s\tremaining: 0us\n",
      "bestTest = 46.06797568\n",
      "bestIteration = 5998\n",
      "Shrink model to first 5999 iterations.\n",
      "\n",
      "Processing fold: 5\n",
      "0:\tlearn: 180.8311046\ttest: 179.2303558\tbest: 179.2303558 (0)\ttotal: 42ms\tremaining: 4m 11s\n",
      "500:\tlearn: 71.6691567\ttest: 68.2058275\tbest: 68.2058275 (500)\ttotal: 32s\tremaining: 5m 51s\n",
      "1000:\tlearn: 54.7070844\ttest: 53.4368593\tbest: 53.4368593 (1000)\ttotal: 1m 7s\tremaining: 5m 37s\n",
      "1500:\tlearn: 50.0074171\ttest: 49.8582948\tbest: 49.8582948 (1500)\ttotal: 1m 42s\tremaining: 5m 8s\n",
      "2000:\tlearn: 47.5509867\ttest: 48.2699736\tbest: 48.2699736 (2000)\ttotal: 2m 17s\tremaining: 4m 35s\n",
      "2500:\tlearn: 46.0767655\ttest: 47.3424205\tbest: 47.3424205 (2500)\ttotal: 2m 53s\tremaining: 4m 3s\n",
      "3000:\tlearn: 44.8341223\ttest: 46.5887337\tbest: 46.5887337 (3000)\ttotal: 3m 30s\tremaining: 3m 30s\n",
      "3500:\tlearn: 43.9792485\ttest: 46.0720437\tbest: 46.0719864 (3499)\ttotal: 4m 8s\tremaining: 2m 57s\n",
      "4000:\tlearn: 43.3069750\ttest: 45.6959982\tbest: 45.6959982 (4000)\ttotal: 4m 43s\tremaining: 2m 21s\n",
      "4500:\tlearn: 42.7299746\ttest: 45.3729429\tbest: 45.3729429 (4500)\ttotal: 5m 17s\tremaining: 1m 45s\n",
      "5000:\tlearn: 42.2648099\ttest: 45.1394715\tbest: 45.1394715 (5000)\ttotal: 5m 50s\tremaining: 1m 9s\n",
      "5500:\tlearn: 41.6908158\ttest: 44.8415165\tbest: 44.8414448 (5495)\ttotal: 6m 25s\tremaining: 34.9s\n",
      "5999:\tlearn: 41.2068638\ttest: 44.6215212\tbest: 44.6213977 (5996)\ttotal: 7m 2s\tremaining: 0us\n",
      "bestTest = 44.62139769\n",
      "bestIteration = 5996\n",
      "Shrink model to first 5997 iterations.\n",
      "CPU times: user 26min 27s, sys: 14min 54s, total: 41min 22s\n",
      "Wall time: 29min 44s\n"
     ]
    }
   ],
   "source": [
    "%%time\n",
    "\n",
    "FOLDS = 5\n",
    "\n",
    "skf = KFold(n_splits = FOLDS, shuffle=True, random_state = SEED)\n",
    "\n",
    "params = {'iterations':6000,\n",
    "          'learning_rate':0.005,\n",
    "          'depth':10,\n",
    "          'task_type':\"GPU\",\n",
    "          'use_best_model': True\n",
    "         }\n",
    "\n",
    "best_models = []\n",
    "\n",
    "i = 1\n",
    "for train_idx, valid_idx in skf.split(data_used):\n",
    "    print()\n",
    "    print('Processing fold:', i)\n",
    "    \n",
    "    data_train = data_used.iloc[train_idx]\n",
    "    data_valid = data_used.iloc[valid_idx]\n",
    "    \n",
    "    x_train = data_train[features]\n",
    "    y_train = data_train[TARGET]\n",
    "\n",
    "    x_valid = data_valid[features]\n",
    "    y_valid = data_valid[TARGET]\n",
    "    \n",
    "    model = cat.CatBoostRegressor(**params)\n",
    "\n",
    "    model.fit(x_train, y_train, cat_columns_idxs, verbose=500, early_stopping_rounds=50, eval_set=(x_valid, y_valid))\n",
    "    \n",
    "    best_models.append(model)\n",
    "    \n",
    "    i  += 1"
   ]
  },
  {
   "cell_type": "markdown",
   "id": "a81bed10",
   "metadata": {},
   "source": [
    "### Submission"
   ]
  },
  {
   "cell_type": "code",
   "execution_count": 8,
   "id": "bb783705",
   "metadata": {},
   "outputs": [],
   "source": [
    "test_orig = pd.read_csv(\"test.csv\")"
   ]
  },
  {
   "cell_type": "code",
   "execution_count": 9,
   "id": "2132143b",
   "metadata": {},
   "outputs": [],
   "source": [
    "# add engineered features\n",
    "# feature engineering\n",
    "test_orig['datetime'] = pd.to_datetime(test_orig['datetime'])\n",
    "\n",
    "# this way I add 3 engineered features\n",
    "test_orig['hour'] = test_orig['datetime'].dt.hour\n",
    "#test_orig['month'] = test_orig['datetime'].dt.month\n",
    "# test_orig['day'] = test_orig['datetime'].dt.day\n",
    "test_orig['year'] = test_orig['datetime'].dt.year"
   ]
  },
  {
   "cell_type": "code",
   "execution_count": 10,
   "id": "d931a530",
   "metadata": {},
   "outputs": [
    {
     "name": "stdout",
     "output_type": "stream",
     "text": [
      "\n",
      "Predictions from model 0\n",
      "\n",
      "Predictions from model 1\n",
      "\n",
      "Predictions from model 2\n",
      "\n",
      "Predictions from model 3\n",
      "\n",
      "Predictions from model 4\n"
     ]
    }
   ],
   "source": [
    "# data on which do scoring\n",
    "x_test = test_orig[features]\n",
    "\n",
    "avg_score = np.zeros((x_test.shape[0],))\n",
    "                     \n",
    "i = 0\n",
    "for model in best_models:\n",
    "    print()\n",
    "    print('Predictions from model', i)\n",
    "    \n",
    "    score_test = model.predict(x_test)\n",
    "    \n",
    "    avg_score += score_test/float(FOLDS)\n",
    "                     \n",
    "    i += 1"
   ]
  },
  {
   "cell_type": "code",
   "execution_count": 11,
   "id": "98c9a08a",
   "metadata": {},
   "outputs": [],
   "source": [
    "df_sub = pd.read_csv(\"sampleSubmission.csv\")"
   ]
  },
  {
   "cell_type": "code",
   "execution_count": 12,
   "id": "c5afcf00",
   "metadata": {},
   "outputs": [],
   "source": [
    "df_sub[\"count\"] = avg_score"
   ]
  },
  {
   "cell_type": "code",
   "execution_count": 13,
   "id": "440566b3",
   "metadata": {},
   "outputs": [],
   "source": [
    "condition = df_sub[\"count\"] < 0\n",
    "\n",
    "df_sub.loc[condition, \"count\"] = 0"
   ]
  },
  {
   "cell_type": "code",
   "execution_count": 14,
   "id": "c72fc16b",
   "metadata": {},
   "outputs": [],
   "source": [
    "FILE_SUB = \"submission10.csv\"\n",
    "\n",
    "df_sub.to_csv(FILE_SUB, index=False)"
   ]
  },
  {
   "cell_type": "code",
   "execution_count": 15,
   "id": "832a13d4",
   "metadata": {},
   "outputs": [
    {
     "name": "stdout",
     "output_type": "stream",
     "text": [
      "100%|█████████████████████████████████████████| 243k/243k [00:02<00:00, 112kB/s]\n",
      "Successfully submitted to Bike Sharing Demand"
     ]
    }
   ],
   "source": [
    "!kaggle competitions submit -c \"bike-sharing-demand\" -f $FILE_SUB -m \"sub10, kfold cv, no day\""
   ]
  },
  {
   "cell_type": "markdown",
   "id": "10fee6e1",
   "metadata": {},
   "source": [
    "## Compute rmsle, to get an idea before submission"
   ]
  },
  {
   "cell_type": "code",
   "execution_count": 16,
   "id": "f49a4e5a",
   "metadata": {},
   "outputs": [],
   "source": [
    "def get_rmsle(y_pred, y_actual):\n",
    "    diff = np.log(y_pred + 1) - np.log(y_actual + 1)\n",
    "    mean_error = np.square(diff).mean()\n",
    "    return np.sqrt(mean_error)"
   ]
  },
  {
   "cell_type": "code",
   "execution_count": 23,
   "id": "bcb45d96",
   "metadata": {},
   "outputs": [
    {
     "name": "stdout",
     "output_type": "stream",
     "text": [
      "\n",
      "Processing fold: 1\n",
      "RMSLE for split is: 0.4776\n",
      "\n",
      "Processing fold: 2\n",
      "RMSLE for split is: 0.4729\n",
      "\n",
      "Processing fold: 3\n",
      "RMSLE for split is: 0.4184\n",
      "\n",
      "Processing fold: 4\n",
      "RMSLE for split is: 0.4463\n",
      "\n",
      "Processing fold: 5\n",
      "RMSLE for split is: 0.4165\n",
      "\n",
      "Avg rmsle is: 0.4463\n"
     ]
    },
    {
     "name": "stderr",
     "output_type": "stream",
     "text": [
      "/home/datascience/conda/tensorflow26_p37_gpu_v3/lib/python3.7/site-packages/ipykernel_launcher.py:2: RuntimeWarning: invalid value encountered in log\n",
      "  \n"
     ]
    }
   ],
   "source": [
    "skf = KFold(n_splits = FOLDS, shuffle=True, random_state = SEED)\n",
    "\n",
    "avg_rmsle = 0.\n",
    "\n",
    "i = 0\n",
    "for train_idx, valid_idx in skf.split(data_used):\n",
    "    print()\n",
    "    print('Processing fold:', i+1)\n",
    "    \n",
    "    data_train = data_used.iloc[train_idx]\n",
    "    data_valid = data_used.iloc[valid_idx]\n",
    "\n",
    "    x_valid = data_valid[features]\n",
    "    y_valid = data_valid[TARGET]\n",
    "    \n",
    "    model = best_models[i]\n",
    "    \n",
    "    y_pred = model.predict(x_valid)\n",
    "    \n",
    "    rmsle = get_rmsle(y_pred, y_valid)\n",
    "    \n",
    "    print('RMSLE for split is:', round(rmsle, 4))\n",
    "    \n",
    "    avg_rmsle += rmsle/float(FOLDS)\n",
    "    \n",
    "    i += 1\n",
    "\n",
    "print()\n",
    "print('Avg rmsle is:', round(avg_rmsle, 4))"
   ]
  },
  {
   "cell_type": "code",
   "execution_count": null,
   "id": "6e6965ec",
   "metadata": {},
   "outputs": [],
   "source": []
  }
 ],
 "metadata": {
  "kernelspec": {
   "display_name": "Python [conda env:tensorflow26_p37_gpu_v3]",
   "language": "python",
   "name": "conda-env-tensorflow26_p37_gpu_v3-py"
  },
  "language_info": {
   "codemirror_mode": {
    "name": "ipython",
    "version": 3
   },
   "file_extension": ".py",
   "mimetype": "text/x-python",
   "name": "python",
   "nbconvert_exporter": "python",
   "pygments_lexer": "ipython3",
   "version": "3.7.12"
  }
 },
 "nbformat": 4,
 "nbformat_minor": 5
}
