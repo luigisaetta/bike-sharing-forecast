{
 "cells": [
  {
   "cell_type": "markdown",
   "id": "b9561f69",
   "metadata": {},
   "source": [
    "### Catboost2\n",
    "* added feature engineering"
   ]
  },
  {
   "cell_type": "code",
   "execution_count": 14,
   "id": "208bc0be",
   "metadata": {},
   "outputs": [],
   "source": [
    "import pandas as pd\n",
    "import numpy as np\n",
    "import catboost as cat\n",
    "\n",
    "import seaborn as sns\n",
    "import matplotlib.pyplot as plt"
   ]
  },
  {
   "cell_type": "code",
   "execution_count": 2,
   "id": "03396592",
   "metadata": {},
   "outputs": [
    {
     "name": "stdout",
     "output_type": "stream",
     "text": [
      "1.0.3\n"
     ]
    }
   ],
   "source": [
    "print(cat.__version__)"
   ]
  },
  {
   "cell_type": "code",
   "execution_count": 3,
   "id": "4691ea33",
   "metadata": {},
   "outputs": [],
   "source": [
    "# globals\n",
    "FIGSIZE = (9, 6)\n",
    "\n",
    "SEED = 42\n",
    "\n",
    "FILE_TRAIN = \"train.csv\""
   ]
  },
  {
   "cell_type": "code",
   "execution_count": 4,
   "id": "fb1be052",
   "metadata": {},
   "outputs": [],
   "source": [
    "#\n",
    "# my split in train, test set\n",
    "#\n",
    "def my_train_test_split(df, frac):\n",
    "    # frac: the fraction used for train\n",
    "    # df: the dataframe\n",
    "    \n",
    "    # shuffle before split\n",
    "    df = df.sample(frac=1., random_state=SEED)\n",
    "\n",
    "    # FRAC = 0.90\n",
    "    tot_rec = df.shape[0]\n",
    "    NUM_TRAIN = int(frac*tot_rec)\n",
    "    NUM_TEST = tot_rec - NUM_TRAIN\n",
    "\n",
    "    data_train = df[:NUM_TRAIN]\n",
    "    data_test = df[NUM_TRAIN:]\n",
    "\n",
    "    print()\n",
    "    print('Numero totale di campioni:', tot_rec)\n",
    "    print('Numero di campioni nel TRAIN SET:', data_train.shape[0])\n",
    "    print('Numero di campioni nel TEST SET:', data_test.shape[0])\n",
    "    \n",
    "    return data_train, data_test"
   ]
  },
  {
   "cell_type": "code",
   "execution_count": 5,
   "id": "7594f1cd",
   "metadata": {},
   "outputs": [],
   "source": [
    "data_orig = pd.read_csv(FILE_TRAIN)\n",
    "\n",
    "# feature engineering\n",
    "data_orig['datetime'] = pd.to_datetime(data_orig['datetime'])\n",
    "\n",
    "# this way I add 3 engineered features\n",
    "data_orig['hour'] = data_orig['datetime'].dt.hour\n",
    "\n",
    "# mese di fatto è duplicato di season. rimuovo\n",
    "#data_orig['month'] = data_orig['datetime'].dt.month\n",
    "data_orig['day'] = data_orig['datetime'].dt.day"
   ]
  },
  {
   "cell_type": "code",
   "execution_count": 6,
   "id": "29e2f240",
   "metadata": {},
   "outputs": [
    {
     "data": {
      "text/html": [
       "<div>\n",
       "<style scoped>\n",
       "    .dataframe tbody tr th:only-of-type {\n",
       "        vertical-align: middle;\n",
       "    }\n",
       "\n",
       "    .dataframe tbody tr th {\n",
       "        vertical-align: top;\n",
       "    }\n",
       "\n",
       "    .dataframe thead th {\n",
       "        text-align: right;\n",
       "    }\n",
       "</style>\n",
       "<table border=\"1\" class=\"dataframe\">\n",
       "  <thead>\n",
       "    <tr style=\"text-align: right;\">\n",
       "      <th></th>\n",
       "      <th>datetime</th>\n",
       "      <th>season</th>\n",
       "      <th>holiday</th>\n",
       "      <th>workingday</th>\n",
       "      <th>weather</th>\n",
       "      <th>temp</th>\n",
       "      <th>atemp</th>\n",
       "      <th>humidity</th>\n",
       "      <th>windspeed</th>\n",
       "      <th>casual</th>\n",
       "      <th>registered</th>\n",
       "      <th>count</th>\n",
       "      <th>hour</th>\n",
       "      <th>day</th>\n",
       "    </tr>\n",
       "  </thead>\n",
       "  <tbody>\n",
       "    <tr>\n",
       "      <th>10881</th>\n",
       "      <td>2012-12-19 19:00:00</td>\n",
       "      <td>4</td>\n",
       "      <td>0</td>\n",
       "      <td>1</td>\n",
       "      <td>1</td>\n",
       "      <td>15.58</td>\n",
       "      <td>19.695</td>\n",
       "      <td>50</td>\n",
       "      <td>26.0027</td>\n",
       "      <td>7</td>\n",
       "      <td>329</td>\n",
       "      <td>336</td>\n",
       "      <td>19</td>\n",
       "      <td>19</td>\n",
       "    </tr>\n",
       "    <tr>\n",
       "      <th>10882</th>\n",
       "      <td>2012-12-19 20:00:00</td>\n",
       "      <td>4</td>\n",
       "      <td>0</td>\n",
       "      <td>1</td>\n",
       "      <td>1</td>\n",
       "      <td>14.76</td>\n",
       "      <td>17.425</td>\n",
       "      <td>57</td>\n",
       "      <td>15.0013</td>\n",
       "      <td>10</td>\n",
       "      <td>231</td>\n",
       "      <td>241</td>\n",
       "      <td>20</td>\n",
       "      <td>19</td>\n",
       "    </tr>\n",
       "    <tr>\n",
       "      <th>10883</th>\n",
       "      <td>2012-12-19 21:00:00</td>\n",
       "      <td>4</td>\n",
       "      <td>0</td>\n",
       "      <td>1</td>\n",
       "      <td>1</td>\n",
       "      <td>13.94</td>\n",
       "      <td>15.910</td>\n",
       "      <td>61</td>\n",
       "      <td>15.0013</td>\n",
       "      <td>4</td>\n",
       "      <td>164</td>\n",
       "      <td>168</td>\n",
       "      <td>21</td>\n",
       "      <td>19</td>\n",
       "    </tr>\n",
       "    <tr>\n",
       "      <th>10884</th>\n",
       "      <td>2012-12-19 22:00:00</td>\n",
       "      <td>4</td>\n",
       "      <td>0</td>\n",
       "      <td>1</td>\n",
       "      <td>1</td>\n",
       "      <td>13.94</td>\n",
       "      <td>17.425</td>\n",
       "      <td>61</td>\n",
       "      <td>6.0032</td>\n",
       "      <td>12</td>\n",
       "      <td>117</td>\n",
       "      <td>129</td>\n",
       "      <td>22</td>\n",
       "      <td>19</td>\n",
       "    </tr>\n",
       "    <tr>\n",
       "      <th>10885</th>\n",
       "      <td>2012-12-19 23:00:00</td>\n",
       "      <td>4</td>\n",
       "      <td>0</td>\n",
       "      <td>1</td>\n",
       "      <td>1</td>\n",
       "      <td>13.12</td>\n",
       "      <td>16.665</td>\n",
       "      <td>66</td>\n",
       "      <td>8.9981</td>\n",
       "      <td>4</td>\n",
       "      <td>84</td>\n",
       "      <td>88</td>\n",
       "      <td>23</td>\n",
       "      <td>19</td>\n",
       "    </tr>\n",
       "  </tbody>\n",
       "</table>\n",
       "</div>"
      ],
      "text/plain": [
       "                 datetime  season  holiday  workingday  weather   temp  \\\n",
       "10881 2012-12-19 19:00:00       4        0           1        1  15.58   \n",
       "10882 2012-12-19 20:00:00       4        0           1        1  14.76   \n",
       "10883 2012-12-19 21:00:00       4        0           1        1  13.94   \n",
       "10884 2012-12-19 22:00:00       4        0           1        1  13.94   \n",
       "10885 2012-12-19 23:00:00       4        0           1        1  13.12   \n",
       "\n",
       "        atemp  humidity  windspeed  casual  registered  count  hour  day  \n",
       "10881  19.695        50    26.0027       7         329    336    19   19  \n",
       "10882  17.425        57    15.0013      10         231    241    20   19  \n",
       "10883  15.910        61    15.0013       4         164    168    21   19  \n",
       "10884  17.425        61     6.0032      12         117    129    22   19  \n",
       "10885  16.665        66     8.9981       4          84     88    23   19  "
      ]
     },
     "execution_count": 6,
     "metadata": {},
     "output_type": "execute_result"
    }
   ],
   "source": [
    "data_orig.tail()"
   ]
  },
  {
   "cell_type": "code",
   "execution_count": 7,
   "id": "c3557940",
   "metadata": {},
   "outputs": [
    {
     "name": "stdout",
     "output_type": "stream",
     "text": [
      "Tutte le colonne: 14\n",
      "Colonne ignorate: 3\n",
      "target: 1\n",
      "Colonne cat: 6\n",
      "Colonne num: 4\n"
     ]
    }
   ],
   "source": [
    "all_columns = data_orig.columns\n",
    "\n",
    "# colonne da ignorare\n",
    "# atemp and temp are strongly correlated (0.98) taking only one\n",
    "del_columns = ['datetime', 'casual', 'registered', 'temp']\n",
    "\n",
    "TARGET = \"count\"\n",
    "\n",
    "cat_cols = ['season', 'holiday','workingday', 'weather', 'hour', 'day']\n",
    "\n",
    "num_cols = list(set(all_columns) - set([TARGET]) - set(del_columns) - set(cat_cols))\n",
    "\n",
    "features = sorted(cat_cols + num_cols)\n",
    "\n",
    "print('Tutte le colonne:', len(all_columns))\n",
    "print('Colonne ignorate:', len(del_columns))\n",
    "print('target:', len([TARGET]))\n",
    "print('Colonne cat:', len(cat_cols))\n",
    "print('Colonne num:', len(num_cols))"
   ]
  },
  {
   "cell_type": "code",
   "execution_count": 8,
   "id": "e7b06e04",
   "metadata": {},
   "outputs": [],
   "source": [
    "data_used = data_orig.drop(del_columns, axis=1)"
   ]
  },
  {
   "cell_type": "code",
   "execution_count": 9,
   "id": "3175a7dc",
   "metadata": {},
   "outputs": [
    {
     "name": "stdout",
     "output_type": "stream",
     "text": [
      "\n",
      "Numero totale di campioni: 10886\n",
      "Numero di campioni nel TRAIN SET: 9797\n",
      "Numero di campioni nel TEST SET: 1089\n"
     ]
    }
   ],
   "source": [
    "FRAC = 0.90\n",
    "\n",
    "data_train, data_test = my_train_test_split(data_used, frac=FRAC)"
   ]
  },
  {
   "cell_type": "code",
   "execution_count": 10,
   "id": "6f870e2d",
   "metadata": {},
   "outputs": [],
   "source": [
    "# separo X ed y\n",
    "x_train = data_train[features]\n",
    "y_train = data_train[TARGET]\n",
    "\n",
    "x_test = data_test[features]\n",
    "y_test = data_test[TARGET]\n",
    "\n",
    "# cat boost want indexes\n",
    "cat_columns_idxs = [i for i, col in enumerate(x_train.columns) if col in cat_cols]"
   ]
  },
  {
   "cell_type": "code",
   "execution_count": 27,
   "id": "ee485b29",
   "metadata": {},
   "outputs": [
    {
     "name": "stdout",
     "output_type": "stream",
     "text": [
      "0:\tlearn: 180.9756012\ttest: 176.9140220\tbest: 176.9140220 (0)\ttotal: 98.2ms\tremaining: 9m 49s\n",
      "500:\tlearn: 81.4733422\ttest: 78.1463303\tbest: 78.1463303 (500)\ttotal: 41.5s\tremaining: 7m 35s\n",
      "1000:\tlearn: 72.6826315\ttest: 71.6183930\tbest: 71.6183930 (1000)\ttotal: 1m 22s\tremaining: 6m 53s\n",
      "1500:\tlearn: 69.3332453\ttest: 69.5986757\tbest: 69.5986757 (1500)\ttotal: 2m 3s\tremaining: 6m 10s\n",
      "2000:\tlearn: 66.9343088\ttest: 68.2536524\tbest: 68.2536524 (2000)\ttotal: 2m 42s\tremaining: 5m 25s\n",
      "2500:\tlearn: 65.3027184\ttest: 67.4726996\tbest: 67.4726690 (2499)\ttotal: 3m 24s\tremaining: 4m 45s\n",
      "3000:\tlearn: 64.0373443\ttest: 66.8934572\tbest: 66.8930557 (2993)\ttotal: 4m 3s\tremaining: 4m 3s\n",
      "3500:\tlearn: 62.9809785\ttest: 66.4273425\tbest: 66.4269589 (3499)\ttotal: 4m 41s\tremaining: 3m 21s\n",
      "4000:\tlearn: 62.1230558\ttest: 66.0495577\tbest: 66.0495056 (3998)\ttotal: 5m 20s\tremaining: 2m 40s\n",
      "4500:\tlearn: 61.3294482\ttest: 65.7354173\tbest: 65.7354173 (4500)\ttotal: 6m\tremaining: 2m\n",
      "5000:\tlearn: 60.5159842\ttest: 65.3996894\tbest: 65.3973516 (4988)\ttotal: 6m 42s\tremaining: 1m 20s\n",
      "5500:\tlearn: 59.8487632\ttest: 65.1587734\tbest: 65.1584105 (5493)\ttotal: 7m 24s\tremaining: 40.3s\n",
      "5999:\tlearn: 59.2353818\ttest: 64.9403343\tbest: 64.9403343 (5999)\ttotal: 8m 5s\tremaining: 0us\n",
      "bestTest = 64.94033427\n",
      "bestIteration = 5999\n",
      "CPU times: user 7min 16s, sys: 4min 5s, total: 11min 22s\n",
      "Wall time: 8min 7s\n"
     ]
    },
    {
     "data": {
      "text/plain": [
       "<catboost.core.CatBoostRegressor at 0x7f6889c3d050>"
      ]
     },
     "execution_count": 27,
     "metadata": {},
     "output_type": "execute_result"
    }
   ],
   "source": [
    "%%time\n",
    "# First: try without addressing data imbalance\n",
    "\n",
    "params = {'iterations':6000,\n",
    "          'learning_rate':0.005,\n",
    "          'depth':10,\n",
    "          'task_type':\"GPU\"\n",
    "         }\n",
    "\n",
    "model = cat.CatBoostRegressor(**params)\n",
    "\n",
    "model.fit(x_train, y_train, cat_columns_idxs, verbose=500, early_stopping_rounds=50, eval_set=(x_test, y_test))"
   ]
  },
  {
   "cell_type": "code",
   "execution_count": 28,
   "id": "ab5b11b3",
   "metadata": {},
   "outputs": [],
   "source": [
    "history = model.evals_result_"
   ]
  },
  {
   "cell_type": "code",
   "execution_count": 29,
   "id": "5ce07167",
   "metadata": {},
   "outputs": [
    {
     "data": {
      "image/png": "[encoded data removed]",
      "text/plain": [
       "<Figure size 648x432 with 1 Axes>"
      ]
     },
     "metadata": {
      "needs_background": "light"
     },
     "output_type": "display_data"
    }
   ],
   "source": [
    "plt.figure(figsize=FIGSIZE)\n",
    "plt.title('RMSE vs epochs')\n",
    "plt.plot(history['learn']['RMSE'])\n",
    "plt.plot(history['validation']['RMSE'])\n",
    "plt.xlabel('Epochs')\n",
    "plt.ylabel('RMSE')\n",
    "plt.grid(True)\n",
    "plt.show();"
   ]
  },
  {
   "cell_type": "code",
   "execution_count": 30,
   "id": "4d746028",
   "metadata": {},
   "outputs": [
    {
     "data": {
      "image/png": "[encoded data removed]",
      "text/plain": [
       "<Figure size 648x432 with 1 Axes>"
      ]
     },
     "metadata": {
      "needs_background": "light"
     },
     "output_type": "display_data"
    }
   ],
   "source": [
    "%matplotlib inline\n",
    "\n",
    "# eXplainability: Feature importance\n",
    "\n",
    "\n",
    "plt.figure(figsize = FIGSIZE)\n",
    "plt.grid(True)\n",
    "sns.barplot(x = model.get_feature_importance(), y = features);"
   ]
  },
  {
   "cell_type": "markdown",
   "id": "84ef4feb",
   "metadata": {},
   "source": [
    "### Submission"
   ]
  },
  {
   "cell_type": "code",
   "execution_count": 31,
   "id": "9c80a85d",
   "metadata": {},
   "outputs": [],
   "source": [
    "test_orig = pd.read_csv(\"test.csv\")"
   ]
  },
  {
   "cell_type": "code",
   "execution_count": 32,
   "id": "bf8aa9c8",
   "metadata": {},
   "outputs": [],
   "source": [
    "# add engineered features\n",
    "# feature engineering\n",
    "test_orig['datetime'] = pd.to_datetime(test_orig['datetime'])\n",
    "\n",
    "# this way I add 3 engineered features\n",
    "test_orig['hour'] = test_orig['datetime'].dt.hour\n",
    "#test_orig['month'] = test_orig['datetime'].dt.month\n",
    "test_orig['day'] = test_orig['datetime'].dt.day"
   ]
  },
  {
   "cell_type": "code",
   "execution_count": 33,
   "id": "7139a720",
   "metadata": {},
   "outputs": [],
   "source": [
    "v_test = test_orig[features]"
   ]
  },
  {
   "cell_type": "code",
   "execution_count": 34,
   "id": "db3a98d4",
   "metadata": {},
   "outputs": [],
   "source": [
    "score_test = model.predict(v_test)"
   ]
  },
  {
   "cell_type": "code",
   "execution_count": 35,
   "id": "b97d0b60",
   "metadata": {},
   "outputs": [],
   "source": [
    "df_sub = pd.read_csv(\"sampleSubmission.csv\")"
   ]
  },
  {
   "cell_type": "code",
   "execution_count": 36,
   "id": "aa7e9846",
   "metadata": {},
   "outputs": [],
   "source": [
    "df_sub[\"count\"] = score_test"
   ]
  },
  {
   "cell_type": "code",
   "execution_count": 37,
   "id": "d59d51a9",
   "metadata": {},
   "outputs": [],
   "source": [
    "condition = df_sub[\"count\"] < 0\n",
    "\n",
    "df_sub.loc[condition, \"count\"] = 0"
   ]
  },
  {
   "cell_type": "code",
   "execution_count": 38,
   "id": "3849e878",
   "metadata": {},
   "outputs": [
    {
     "data": {
      "text/html": [
       "<div>\n",
       "<style scoped>\n",
       "    .dataframe tbody tr th:only-of-type {\n",
       "        vertical-align: middle;\n",
       "    }\n",
       "\n",
       "    .dataframe tbody tr th {\n",
       "        vertical-align: top;\n",
       "    }\n",
       "\n",
       "    .dataframe thead th {\n",
       "        text-align: right;\n",
       "    }\n",
       "</style>\n",
       "<table border=\"1\" class=\"dataframe\">\n",
       "  <thead>\n",
       "    <tr style=\"text-align: right;\">\n",
       "      <th></th>\n",
       "      <th>count</th>\n",
       "    </tr>\n",
       "  </thead>\n",
       "  <tbody>\n",
       "    <tr>\n",
       "      <th>count</th>\n",
       "      <td>6493.000000</td>\n",
       "    </tr>\n",
       "    <tr>\n",
       "      <th>mean</th>\n",
       "      <td>171.641198</td>\n",
       "    </tr>\n",
       "    <tr>\n",
       "      <th>std</th>\n",
       "      <td>153.576860</td>\n",
       "    </tr>\n",
       "    <tr>\n",
       "      <th>min</th>\n",
       "      <td>0.000000</td>\n",
       "    </tr>\n",
       "    <tr>\n",
       "      <th>25%</th>\n",
       "      <td>40.643456</td>\n",
       "    </tr>\n",
       "    <tr>\n",
       "      <th>50%</th>\n",
       "      <td>136.999857</td>\n",
       "    </tr>\n",
       "    <tr>\n",
       "      <th>75%</th>\n",
       "      <td>251.128252</td>\n",
       "    </tr>\n",
       "    <tr>\n",
       "      <th>max</th>\n",
       "      <td>700.873787</td>\n",
       "    </tr>\n",
       "  </tbody>\n",
       "</table>\n",
       "</div>"
      ],
      "text/plain": [
       "             count\n",
       "count  6493.000000\n",
       "mean    171.641198\n",
       "std     153.576860\n",
       "min       0.000000\n",
       "25%      40.643456\n",
       "50%     136.999857\n",
       "75%     251.128252\n",
       "max     700.873787"
      ]
     },
     "execution_count": 38,
     "metadata": {},
     "output_type": "execute_result"
    }
   ],
   "source": [
    "df_sub.describe()"
   ]
  },
  {
   "cell_type": "code",
   "execution_count": 39,
   "id": "64b0125d",
   "metadata": {},
   "outputs": [],
   "source": [
    "FILE_SUB = \"submission5.csv\"\n",
    "\n",
    "df_sub.to_csv(FILE_SUB, index=False)"
   ]
  },
  {
   "cell_type": "code",
   "execution_count": 40,
   "id": "4aaa700f",
   "metadata": {},
   "outputs": [
    {
     "name": "stdout",
     "output_type": "stream",
     "text": [
      "100%|█████████████████████████████████████████| 237k/237k [00:01<00:00, 147kB/s]\n",
      "Successfully submitted to Bike Sharing Demand"
     ]
    }
   ],
   "source": [
    "!kaggle competitions submit -c \"bike-sharing-demand\" -f $FILE_SUB -m \"sub4\""
   ]
  },
  {
   "cell_type": "code",
   "execution_count": null,
   "id": "0dfdb046",
   "metadata": {},
   "outputs": [],
   "source": []
  }
 ],
 "metadata": {
  "kernelspec": {
   "display_name": "Python [conda env:tensorflow26_p37_gpu_v3]",
   "language": "python",
   "name": "conda-env-tensorflow26_p37_gpu_v3-py"
  },
  "language_info": {
   "codemirror_mode": {
    "name": "ipython",
    "version": 3
   },
   "file_extension": ".py",
   "mimetype": "text/x-python",
   "name": "python",
   "nbconvert_exporter": "python",
   "pygments_lexer": "ipython3",
   "version": "3.7.12"
  }
 },
 "nbformat": 4,
 "nbformat_minor": 5
}
