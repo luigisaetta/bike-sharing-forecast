{
 "cells": [
  {
   "cell_type": "markdown",
   "id": "503c37fe",
   "metadata": {},
   "source": [
    "### Catboost3\n",
    "* added feature engineering\n",
    "* added year, removed temp"
   ]
  },
  {
   "cell_type": "code",
   "execution_count": 1,
   "id": "d31f8255",
   "metadata": {},
   "outputs": [],
   "source": [
    "import pandas as pd\n",
    "import numpy as np\n",
    "import catboost as cat\n",
    "\n",
    "import seaborn as sns\n",
    "import matplotlib.pyplot as plt"
   ]
  },
  {
   "cell_type": "code",
   "execution_count": 2,
   "id": "f095b3a3",
   "metadata": {},
   "outputs": [
    {
     "name": "stdout",
     "output_type": "stream",
     "text": [
      "1.0.3\n"
     ]
    }
   ],
   "source": [
    "print(cat.__version__)"
   ]
  },
  {
   "cell_type": "code",
   "execution_count": 3,
   "id": "25efe1b4",
   "metadata": {},
   "outputs": [],
   "source": [
    "# globals\n",
    "FIGSIZE = (9, 6)\n",
    "\n",
    "SEED = 42\n",
    "\n",
    "FILE_TRAIN = \"train.csv\""
   ]
  },
  {
   "cell_type": "code",
   "execution_count": 4,
   "id": "af06c554",
   "metadata": {},
   "outputs": [],
   "source": [
    "#\n",
    "# my split in train, test set\n",
    "#\n",
    "def my_train_test_split(df, frac):\n",
    "    # frac: the fraction used for train\n",
    "    # df: the dataframe\n",
    "    \n",
    "    # shuffle before split\n",
    "    df = df.sample(frac=1., random_state=SEED)\n",
    "\n",
    "    # FRAC = 0.90\n",
    "    tot_rec = df.shape[0]\n",
    "    NUM_TRAIN = int(frac*tot_rec)\n",
    "    NUM_TEST = tot_rec - NUM_TRAIN\n",
    "\n",
    "    data_train = df[:NUM_TRAIN]\n",
    "    data_test = df[NUM_TRAIN:]\n",
    "\n",
    "    print()\n",
    "    print('Numero totale di campioni:', tot_rec)\n",
    "    print('Numero di campioni nel TRAIN SET:', data_train.shape[0])\n",
    "    print('Numero di campioni nel TEST SET:', data_test.shape[0])\n",
    "    \n",
    "    return data_train, data_test"
   ]
  },
  {
   "cell_type": "code",
   "execution_count": 5,
   "id": "262a72df",
   "metadata": {},
   "outputs": [],
   "source": [
    "data_orig = pd.read_csv(FILE_TRAIN)\n",
    "\n",
    "# feature engineering\n",
    "data_orig['datetime'] = pd.to_datetime(data_orig['datetime'])\n",
    "\n",
    "# this way I add 3 engineered features\n",
    "data_orig['hour'] = data_orig['datetime'].dt.hour\n",
    "\n",
    "# mese di fatto è duplicato di season. rimuovo\n",
    "#data_orig['month'] = data_orig['datetime'].dt.month\n",
    "data_orig['day'] = data_orig['datetime'].dt.day\n",
    "data_orig['year'] = data_orig['datetime'].dt.year"
   ]
  },
  {
   "cell_type": "code",
   "execution_count": 6,
   "id": "19338866",
   "metadata": {},
   "outputs": [
    {
     "data": {
      "text/html": [
       "<div>\n",
       "<style scoped>\n",
       "    .dataframe tbody tr th:only-of-type {\n",
       "        vertical-align: middle;\n",
       "    }\n",
       "\n",
       "    .dataframe tbody tr th {\n",
       "        vertical-align: top;\n",
       "    }\n",
       "\n",
       "    .dataframe thead th {\n",
       "        text-align: right;\n",
       "    }\n",
       "</style>\n",
       "<table border=\"1\" class=\"dataframe\">\n",
       "  <thead>\n",
       "    <tr style=\"text-align: right;\">\n",
       "      <th></th>\n",
       "      <th>datetime</th>\n",
       "      <th>season</th>\n",
       "      <th>holiday</th>\n",
       "      <th>workingday</th>\n",
       "      <th>weather</th>\n",
       "      <th>temp</th>\n",
       "      <th>atemp</th>\n",
       "      <th>humidity</th>\n",
       "      <th>windspeed</th>\n",
       "      <th>casual</th>\n",
       "      <th>registered</th>\n",
       "      <th>count</th>\n",
       "      <th>hour</th>\n",
       "      <th>day</th>\n",
       "    </tr>\n",
       "  </thead>\n",
       "  <tbody>\n",
       "    <tr>\n",
       "      <th>10881</th>\n",
       "      <td>2012-12-19 19:00:00</td>\n",
       "      <td>4</td>\n",
       "      <td>0</td>\n",
       "      <td>1</td>\n",
       "      <td>1</td>\n",
       "      <td>15.58</td>\n",
       "      <td>19.695</td>\n",
       "      <td>50</td>\n",
       "      <td>26.0027</td>\n",
       "      <td>7</td>\n",
       "      <td>329</td>\n",
       "      <td>336</td>\n",
       "      <td>19</td>\n",
       "      <td>19</td>\n",
       "    </tr>\n",
       "    <tr>\n",
       "      <th>10882</th>\n",
       "      <td>2012-12-19 20:00:00</td>\n",
       "      <td>4</td>\n",
       "      <td>0</td>\n",
       "      <td>1</td>\n",
       "      <td>1</td>\n",
       "      <td>14.76</td>\n",
       "      <td>17.425</td>\n",
       "      <td>57</td>\n",
       "      <td>15.0013</td>\n",
       "      <td>10</td>\n",
       "      <td>231</td>\n",
       "      <td>241</td>\n",
       "      <td>20</td>\n",
       "      <td>19</td>\n",
       "    </tr>\n",
       "    <tr>\n",
       "      <th>10883</th>\n",
       "      <td>2012-12-19 21:00:00</td>\n",
       "      <td>4</td>\n",
       "      <td>0</td>\n",
       "      <td>1</td>\n",
       "      <td>1</td>\n",
       "      <td>13.94</td>\n",
       "      <td>15.910</td>\n",
       "      <td>61</td>\n",
       "      <td>15.0013</td>\n",
       "      <td>4</td>\n",
       "      <td>164</td>\n",
       "      <td>168</td>\n",
       "      <td>21</td>\n",
       "      <td>19</td>\n",
       "    </tr>\n",
       "    <tr>\n",
       "      <th>10884</th>\n",
       "      <td>2012-12-19 22:00:00</td>\n",
       "      <td>4</td>\n",
       "      <td>0</td>\n",
       "      <td>1</td>\n",
       "      <td>1</td>\n",
       "      <td>13.94</td>\n",
       "      <td>17.425</td>\n",
       "      <td>61</td>\n",
       "      <td>6.0032</td>\n",
       "      <td>12</td>\n",
       "      <td>117</td>\n",
       "      <td>129</td>\n",
       "      <td>22</td>\n",
       "      <td>19</td>\n",
       "    </tr>\n",
       "    <tr>\n",
       "      <th>10885</th>\n",
       "      <td>2012-12-19 23:00:00</td>\n",
       "      <td>4</td>\n",
       "      <td>0</td>\n",
       "      <td>1</td>\n",
       "      <td>1</td>\n",
       "      <td>13.12</td>\n",
       "      <td>16.665</td>\n",
       "      <td>66</td>\n",
       "      <td>8.9981</td>\n",
       "      <td>4</td>\n",
       "      <td>84</td>\n",
       "      <td>88</td>\n",
       "      <td>23</td>\n",
       "      <td>19</td>\n",
       "    </tr>\n",
       "  </tbody>\n",
       "</table>\n",
       "</div>"
      ],
      "text/plain": [
       "                 datetime  season  holiday  workingday  weather   temp  \\\n",
       "10881 2012-12-19 19:00:00       4        0           1        1  15.58   \n",
       "10882 2012-12-19 20:00:00       4        0           1        1  14.76   \n",
       "10883 2012-12-19 21:00:00       4        0           1        1  13.94   \n",
       "10884 2012-12-19 22:00:00       4        0           1        1  13.94   \n",
       "10885 2012-12-19 23:00:00       4        0           1        1  13.12   \n",
       "\n",
       "        atemp  humidity  windspeed  casual  registered  count  hour  day  \n",
       "10881  19.695        50    26.0027       7         329    336    19   19  \n",
       "10882  17.425        57    15.0013      10         231    241    20   19  \n",
       "10883  15.910        61    15.0013       4         164    168    21   19  \n",
       "10884  17.425        61     6.0032      12         117    129    22   19  \n",
       "10885  16.665        66     8.9981       4          84     88    23   19  "
      ]
     },
     "execution_count": 6,
     "metadata": {},
     "output_type": "execute_result"
    }
   ],
   "source": [
    "data_orig.tail()"
   ]
  },
  {
   "cell_type": "code",
   "execution_count": 8,
   "id": "14b692fc",
   "metadata": {},
   "outputs": [
    {
     "name": "stdout",
     "output_type": "stream",
     "text": [
      "Tutte le colonne: 14\n",
      "Colonne ignorate: 4\n",
      "target: 1\n",
      "Colonne cat: 6\n",
      "Colonne num: 3\n",
      "Num. features 9\n"
     ]
    }
   ],
   "source": [
    "all_columns = data_orig.columns\n",
    "\n",
    "# colonne da ignorare\n",
    "# atemp and temp are strongly correlated (0.98) taking only one\n",
    "del_columns = ['datetime', 'casual', 'registered', 'temp']\n",
    "\n",
    "TARGET = \"count\"\n",
    "\n",
    "cat_cols = ['season', 'holiday','workingday', 'weather', 'hour', 'day', 'year']\n",
    "\n",
    "num_cols = list(set(all_columns) - set([TARGET]) - set(del_columns) - set(cat_cols))\n",
    "\n",
    "features = sorted(cat_cols + num_cols)\n",
    "\n",
    "print('Tutte le colonne:', len(all_columns))\n",
    "print('Colonne ignorate:', len(del_columns))\n",
    "print('target:', len([TARGET]))\n",
    "print('Colonne cat:', len(cat_cols))\n",
    "print('Colonne num:', len(num_cols))\n",
    "print('Num. features', len(features))"
   ]
  },
  {
   "cell_type": "code",
   "execution_count": 9,
   "id": "fd56a0ef",
   "metadata": {},
   "outputs": [],
   "source": [
    "data_used = data_orig.drop(del_columns, axis=1)"
   ]
  },
  {
   "cell_type": "code",
   "execution_count": 10,
   "id": "8ca61d7f",
   "metadata": {},
   "outputs": [
    {
     "name": "stdout",
     "output_type": "stream",
     "text": [
      "\n",
      "Numero totale di campioni: 10886\n",
      "Numero di campioni nel TRAIN SET: 9797\n",
      "Numero di campioni nel TEST SET: 1089\n"
     ]
    }
   ],
   "source": [
    "FRAC = 0.90\n",
    "\n",
    "data_train, data_test = my_train_test_split(data_used, frac=FRAC)"
   ]
  },
  {
   "cell_type": "code",
   "execution_count": 11,
   "id": "43fbd883",
   "metadata": {},
   "outputs": [],
   "source": [
    "# separo X ed y\n",
    "x_train = data_train[features]\n",
    "y_train = data_train[TARGET]\n",
    "\n",
    "x_test = data_test[features]\n",
    "y_test = data_test[TARGET]\n",
    "\n",
    "# cat boost want indexes\n",
    "cat_columns_idxs = [i for i, col in enumerate(x_train.columns) if col in cat_cols]"
   ]
  },
  {
   "cell_type": "code",
   "execution_count": 12,
   "id": "2028fa79",
   "metadata": {},
   "outputs": [
    {
     "name": "stdout",
     "output_type": "stream",
     "text": [
      "0:\tlearn: 180.9331736\ttest: 176.8725657\tbest: 176.8725657 (0)\ttotal: 102ms\tremaining: 10m 9s\n",
      "500:\tlearn: 81.2315384\ttest: 78.0705515\tbest: 78.0705515 (500)\ttotal: 41.2s\tremaining: 7m 31s\n",
      "1000:\tlearn: 72.9542903\ttest: 71.9378973\tbest: 71.9378973 (1000)\ttotal: 1m 22s\tremaining: 6m 51s\n",
      "1500:\tlearn: 69.7462585\ttest: 70.0464427\tbest: 70.0464427 (1500)\ttotal: 2m 2s\tremaining: 6m 7s\n",
      "2000:\tlearn: 67.4366362\ttest: 68.7930815\tbest: 68.7930815 (2000)\ttotal: 2m 42s\tremaining: 5m 24s\n",
      "2500:\tlearn: 65.7191652\ttest: 67.9316420\tbest: 67.9316420 (2500)\ttotal: 3m 22s\tremaining: 4m 43s\n",
      "3000:\tlearn: 64.3195808\ttest: 67.2625914\tbest: 67.2625914 (3000)\ttotal: 4m 3s\tremaining: 4m 2s\n",
      "3500:\tlearn: 63.0910012\ttest: 66.6777608\tbest: 66.6777436 (3499)\ttotal: 4m 42s\tremaining: 3m 21s\n",
      "4000:\tlearn: 62.1985087\ttest: 66.2944845\tbest: 66.2944845 (4000)\ttotal: 5m 21s\tremaining: 2m 40s\n",
      "4500:\tlearn: 61.3600874\ttest: 65.9548465\tbest: 65.9541434 (4499)\ttotal: 6m\tremaining: 2m\n",
      "5000:\tlearn: 60.5163553\ttest: 65.6090978\tbest: 65.6090174 (4996)\ttotal: 6m 40s\tremaining: 1m 19s\n",
      "5500:\tlearn: 59.8548276\ttest: 65.3319208\tbest: 65.3317029 (5494)\ttotal: 7m 19s\tremaining: 39.9s\n",
      "5999:\tlearn: 59.2568623\ttest: 65.1121128\tbest: 65.1121128 (5999)\ttotal: 7m 59s\tremaining: 0us\n",
      "bestTest = 65.11211282\n",
      "bestIteration = 5999\n",
      "CPU times: user 7min 14s, sys: 4min 2s, total: 11min 16s\n",
      "Wall time: 8min 4s\n"
     ]
    },
    {
     "data": {
      "text/plain": [
       "<catboost.core.CatBoostRegressor at 0x7f9d18d869d0>"
      ]
     },
     "execution_count": 12,
     "metadata": {},
     "output_type": "execute_result"
    }
   ],
   "source": [
    "%%time\n",
    "\n",
    "params = {'iterations':6000,\n",
    "          'learning_rate':0.005,\n",
    "          'depth':10,\n",
    "          'task_type':\"GPU\"\n",
    "         }\n",
    "\n",
    "model = cat.CatBoostRegressor(**params)\n",
    "\n",
    "model.fit(x_train, y_train, cat_columns_idxs, verbose=500, early_stopping_rounds=50, eval_set=(x_test, y_test))"
   ]
  },
  {
   "cell_type": "code",
   "execution_count": 13,
   "id": "d3ce6972",
   "metadata": {},
   "outputs": [],
   "source": [
    "history = model.evals_result_"
   ]
  },
  {
   "cell_type": "code",
   "execution_count": 14,
   "id": "c2ba7f22",
   "metadata": {},
   "outputs": [
    {
     "data": {
      "image/png": "[encoded data removed]",
      "text/plain": [
       "<Figure size 900x600 with 1 Axes>"
      ]
     },
     "metadata": {},
     "output_type": "display_data"
    }
   ],
   "source": [
    "plt.figure(figsize=FIGSIZE)\n",
    "plt.title('RMSE vs epochs')\n",
    "plt.plot(history['learn']['RMSE'])\n",
    "plt.plot(history['validation']['RMSE'])\n",
    "plt.xlabel('Epochs')\n",
    "plt.ylabel('RMSE')\n",
    "plt.grid(True)\n",
    "plt.show();"
   ]
  },
  {
   "cell_type": "code",
   "execution_count": 15,
   "id": "2fd3f38d",
   "metadata": {},
   "outputs": [
    {
     "data": {
      "image/png": "[encoded data removed]",
      "text/plain": [
       "<Figure size 648x432 with 1 Axes>"
      ]
     },
     "metadata": {
      "needs_background": "light"
     },
     "output_type": "display_data"
    }
   ],
   "source": [
    "%matplotlib inline\n",
    "\n",
    "# eXplainability: Feature importance\n",
    "\n",
    "\n",
    "plt.figure(figsize = FIGSIZE)\n",
    "plt.grid(True)\n",
    "sns.barplot(x = model.get_feature_importance(), y = features);"
   ]
  },
  {
   "cell_type": "markdown",
   "id": "6872a07e",
   "metadata": {},
   "source": [
    "### Submission"
   ]
  },
  {
   "cell_type": "code",
   "execution_count": 16,
   "id": "c75a3ac5",
   "metadata": {},
   "outputs": [],
   "source": [
    "test_orig = pd.read_csv(\"test.csv\")"
   ]
  },
  {
   "cell_type": "code",
   "execution_count": 17,
   "id": "885a3c77",
   "metadata": {},
   "outputs": [],
   "source": [
    "# add engineered features\n",
    "# feature engineering\n",
    "test_orig['datetime'] = pd.to_datetime(test_orig['datetime'])\n",
    "\n",
    "# this way I add 3 engineered features\n",
    "test_orig['hour'] = test_orig['datetime'].dt.hour\n",
    "#test_orig['month'] = test_orig['datetime'].dt.month\n",
    "test_orig['day'] = test_orig['datetime'].dt.day\n",
    "test_orig['year'] = test_orig['datetime'].dt.year"
   ]
  },
  {
   "cell_type": "code",
   "execution_count": 18,
   "id": "c7223dc0",
   "metadata": {},
   "outputs": [],
   "source": [
    "v_test = test_orig[features]"
   ]
  },
  {
   "cell_type": "code",
   "execution_count": 19,
   "id": "045d449d",
   "metadata": {},
   "outputs": [],
   "source": [
    "score_test = model.predict(v_test)"
   ]
  },
  {
   "cell_type": "code",
   "execution_count": 20,
   "id": "06ef5ccd",
   "metadata": {},
   "outputs": [],
   "source": [
    "df_sub = pd.read_csv(\"sampleSubmission.csv\")"
   ]
  },
  {
   "cell_type": "code",
   "execution_count": 21,
   "id": "3640eedc",
   "metadata": {},
   "outputs": [],
   "source": [
    "df_sub[\"count\"] = score_test"
   ]
  },
  {
   "cell_type": "code",
   "execution_count": 22,
   "id": "7d1cb704",
   "metadata": {},
   "outputs": [],
   "source": [
    "condition = df_sub[\"count\"] < 0\n",
    "\n",
    "df_sub.loc[condition, \"count\"] = 0"
   ]
  },
  {
   "cell_type": "code",
   "execution_count": 23,
   "id": "cf95290f",
   "metadata": {},
   "outputs": [
    {
     "data": {
      "text/html": [
       "<div>\n",
       "<style scoped>\n",
       "    .dataframe tbody tr th:only-of-type {\n",
       "        vertical-align: middle;\n",
       "    }\n",
       "\n",
       "    .dataframe tbody tr th {\n",
       "        vertical-align: top;\n",
       "    }\n",
       "\n",
       "    .dataframe thead th {\n",
       "        text-align: right;\n",
       "    }\n",
       "</style>\n",
       "<table border=\"1\" class=\"dataframe\">\n",
       "  <thead>\n",
       "    <tr style=\"text-align: right;\">\n",
       "      <th></th>\n",
       "      <th>count</th>\n",
       "    </tr>\n",
       "  </thead>\n",
       "  <tbody>\n",
       "    <tr>\n",
       "      <th>count</th>\n",
       "      <td>6493.000000</td>\n",
       "    </tr>\n",
       "    <tr>\n",
       "      <th>mean</th>\n",
       "      <td>170.065459</td>\n",
       "    </tr>\n",
       "    <tr>\n",
       "      <th>std</th>\n",
       "      <td>154.183738</td>\n",
       "    </tr>\n",
       "    <tr>\n",
       "      <th>min</th>\n",
       "      <td>0.000000</td>\n",
       "    </tr>\n",
       "    <tr>\n",
       "      <th>25%</th>\n",
       "      <td>37.109500</td>\n",
       "    </tr>\n",
       "    <tr>\n",
       "      <th>50%</th>\n",
       "      <td>136.553745</td>\n",
       "    </tr>\n",
       "    <tr>\n",
       "      <th>75%</th>\n",
       "      <td>248.030347</td>\n",
       "    </tr>\n",
       "    <tr>\n",
       "      <th>max</th>\n",
       "      <td>700.128825</td>\n",
       "    </tr>\n",
       "  </tbody>\n",
       "</table>\n",
       "</div>"
      ],
      "text/plain": [
       "             count\n",
       "count  6493.000000\n",
       "mean    170.065459\n",
       "std     154.183738\n",
       "min       0.000000\n",
       "25%      37.109500\n",
       "50%     136.553745\n",
       "75%     248.030347\n",
       "max     700.128825"
      ]
     },
     "execution_count": 23,
     "metadata": {},
     "output_type": "execute_result"
    }
   ],
   "source": [
    "df_sub.describe()"
   ]
  },
  {
   "cell_type": "code",
   "execution_count": 24,
   "id": "a6fda025",
   "metadata": {},
   "outputs": [],
   "source": [
    "FILE_SUB = \"submission6.csv\"\n",
    "\n",
    "df_sub.to_csv(FILE_SUB, index=False)"
   ]
  },
  {
   "cell_type": "code",
   "execution_count": 25,
   "id": "9ed0d731",
   "metadata": {},
   "outputs": [
    {
     "name": "stdout",
     "output_type": "stream",
     "text": [
      "100%|█████████████████████████████████████████| 237k/237k [00:02<00:00, 111kB/s]\n",
      "Successfully submitted to Bike Sharing Demand"
     ]
    }
   ],
   "source": [
    "!kaggle competitions submit -c \"bike-sharing-demand\" -f $FILE_SUB -m \"sub6\""
   ]
  },
  {
   "cell_type": "code",
   "execution_count": null,
   "id": "87925878",
   "metadata": {},
   "outputs": [],
   "source": []
  }
 ],
 "metadata": {
  "kernelspec": {
   "display_name": "Python [conda env:tensorflow26_p37_gpu_v3]",
   "language": "python",
   "name": "conda-env-tensorflow26_p37_gpu_v3-py"
  },
  "language_info": {
   "codemirror_mode": {
    "name": "ipython",
    "version": 3
   },
   "file_extension": ".py",
   "mimetype": "text/x-python",
   "name": "python",
   "nbconvert_exporter": "python",
   "pygments_lexer": "ipython3",
   "version": "3.7.12"
  }
 },
 "nbformat": 4,
 "nbformat_minor": 5
}
