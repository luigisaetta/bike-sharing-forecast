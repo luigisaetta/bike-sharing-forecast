{
 "cells": [
  {
   "cell_type": "markdown",
   "id": "1018bffa",
   "metadata": {},
   "source": [
    "### EDA1"
   ]
  },
  {
   "cell_type": "code",
   "execution_count": 1,
   "id": "5f19f420",
   "metadata": {},
   "outputs": [],
   "source": [
    "import pandas as pd\n",
    "import numpy as np"
   ]
  },
  {
   "cell_type": "code",
   "execution_count": 3,
   "id": "fed7c72c",
   "metadata": {},
   "outputs": [],
   "source": [
    "# globals\n",
    "FILE_TRAIN = \"train.csv\""
   ]
  },
  {
   "cell_type": "code",
   "execution_count": 8,
   "id": "a98ef5a1",
   "metadata": {},
   "outputs": [],
   "source": [
    "train_orig = pd.read_csv(FILE_TRAIN)\n",
    "\n",
    "all_columns = train_orig.columns"
   ]
  },
  {
   "cell_type": "code",
   "execution_count": 10,
   "id": "da3c0f5f",
   "metadata": {},
   "outputs": [
    {
     "name": "stdout",
     "output_type": "stream",
     "text": [
      "<class 'pandas.core.frame.DataFrame'>\n",
      "RangeIndex: 10886 entries, 0 to 10885\n",
      "Data columns (total 12 columns):\n",
      " #   Column      Non-Null Count  Dtype  \n",
      "---  ------      --------------  -----  \n",
      " 0   datetime    10886 non-null  object \n",
      " 1   season      10886 non-null  int64  \n",
      " 2   holiday     10886 non-null  int64  \n",
      " 3   workingday  10886 non-null  int64  \n",
      " 4   weather     10886 non-null  int64  \n",
      " 5   temp        10886 non-null  float64\n",
      " 6   atemp       10886 non-null  float64\n",
      " 7   humidity    10886 non-null  int64  \n",
      " 8   windspeed   10886 non-null  float64\n",
      " 9   casual      10886 non-null  int64  \n",
      " 10  registered  10886 non-null  int64  \n",
      " 11  count       10886 non-null  int64  \n",
      "dtypes: float64(3), int64(8), object(1)\n",
      "memory usage: 1020.7+ KB\n"
     ]
    }
   ],
   "source": [
    "train_orig.info()"
   ]
  },
  {
   "cell_type": "code",
   "execution_count": 9,
   "id": "33a79118",
   "metadata": {},
   "outputs": [
    {
     "name": "stdout",
     "output_type": "stream",
     "text": [
      "# distinct values for: datetime is 10886\n",
      "# distinct values for: season is 4\n",
      "# distinct values for: holiday is 2\n",
      "# distinct values for: workingday is 2\n",
      "# distinct values for: weather is 4\n",
      "# distinct values for: temp is 49\n",
      "# distinct values for: atemp is 60\n",
      "# distinct values for: humidity is 89\n",
      "# distinct values for: windspeed is 28\n",
      "# distinct values for: casual is 309\n",
      "# distinct values for: registered is 731\n",
      "# distinct values for: count is 822\n"
     ]
    }
   ],
   "source": [
    "for col in all_columns:\n",
    "    print('# distinct values for:', col, 'is', train_orig[col].nunique())"
   ]
  },
  {
   "cell_type": "code",
   "execution_count": 19,
   "id": "82fdae75",
   "metadata": {},
   "outputs": [
    {
     "name": "stdout",
     "output_type": "stream",
     "text": [
      "Tutte le colonne: 12\n",
      "Colonne ignorate: 3\n",
      "target: 1\n",
      "Colonne cat: 4\n",
      "Colonne num: 4\n"
     ]
    }
   ],
   "source": [
    "# colonne da ignorare\n",
    "del_columns = ['datetime', 'casual', 'registered']\n",
    "\n",
    "TARGET = \"count\"\n",
    "\n",
    "cat_cols = ['season', 'holiday','workingday', 'weather']\n",
    "\n",
    "num_cols = set(all_columns) - set([TARGET]) - set(del_columns) - set(cat_cols)\n",
    "\n",
    "print('Tutte le colonne:', len(all_columns))\n",
    "print('Colonne ignorate:', len(del_columns))\n",
    "print('target:', len([TARGET]))\n",
    "print('Colonne cat:', len(cat_cols))\n",
    "print('Colonne num:', len(num_cols))"
   ]
  },
  {
   "cell_type": "code",
   "execution_count": 16,
   "id": "990bbd3e",
   "metadata": {},
   "outputs": [
    {
     "data": {
      "text/plain": [
       "{'atemp', 'humidity', 'temp', 'windspeed'}"
      ]
     },
     "execution_count": 16,
     "metadata": {},
     "output_type": "execute_result"
    }
   ],
   "source": []
  },
  {
   "cell_type": "code",
   "execution_count": null,
   "id": "5e69d3e9",
   "metadata": {},
   "outputs": [],
   "source": []
  }
 ],
 "metadata": {
  "kernelspec": {
   "display_name": "Python [conda env:tensorflow26_p37_gpu_v3]",
   "language": "python",
   "name": "conda-env-tensorflow26_p37_gpu_v3-py"
  },
  "language_info": {
   "codemirror_mode": {
    "name": "ipython",
    "version": 3
   },
   "file_extension": ".py",
   "mimetype": "text/x-python",
   "name": "python",
   "nbconvert_exporter": "python",
   "pygments_lexer": "ipython3",
   "version": "3.7.12"
  }
 },
 "nbformat": 4,
 "nbformat_minor": 5
}
