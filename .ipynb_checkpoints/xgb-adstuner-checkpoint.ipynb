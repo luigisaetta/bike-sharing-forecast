{
 "cells": [
  {
   "cell_type": "markdown",
   "id": "fa826f87",
   "metadata": {},
   "source": [
    "### XGBoost + ADSTuner\n",
    "* added feature engineering\n",
    "* added year, removed temp\n",
    "* removing day I got the best results. (The range of days in the train set don't match with test set)\n"
   ]
  },
  {
   "cell_type": "code",
   "execution_count": null,
   "id": "a6b02034",
   "metadata": {},
   "outputs": [],
   "source": [
    "import pandas as pd\n",
    "import numpy as np\n",
    "\n",
    "import lightgbm as lgb\n",
    "\n",
    "# to use ADSTuner\n",
    "from ads.hpo.search_cv import ADSTuner\n",
    "from ads.hpo.stopping_criterion import *\n",
    "from ads.hpo.distributions import *\n",
    "\n",
    "# to encode categoricals\n",
    "from sklearn.preprocessing import LabelEncoder\n",
    "\n",
    "from sklearn.metrics import make_scorer\n",
    "\n",
    "import seaborn as sns\n",
    "import matplotlib.pyplot as plt\n",
    "\n",
    "# see utils.py\n",
    "from utils import add_features, rmsle, train_encoders, apply_encoders \n",
    "from utils import show_tuner_results, show_categoricals\n",
    "\n",
    "# set seaborn look&feel\n",
    "sns.set()"
   ]
  },
  {
   "cell_type": "code",
   "execution_count": null,
   "id": "8915e4dd",
   "metadata": {},
   "outputs": [],
   "source": [
    "# globals and load train dataset\n",
    "\n",
    "STUDY_NAME = \"Bike sharing11\"\n",
    "\n",
    "# number of folds for K-fold cv in ADSTuner\n",
    "FOLDS = 7\n",
    "\n",
    "# in secs\n",
    "TIME_BUDGET = 3600\n",
    "\n",
    "FILE_TRAIN = \"train.csv\"\n",
    "FILE_TEST = \"test.csv\""
   ]
  },
  {
   "cell_type": "code",
   "execution_count": null,
   "id": "ce1f6761",
   "metadata": {},
   "outputs": [],
   "source": [
    "# load train dataset\n",
    "data_orig = pd.read_csv(FILE_TRAIN)\n",
    "\n",
    "#\n",
    "# add features\n",
    "#\n",
    "data_extended = add_features(data_orig)\n",
    "\n",
    "# have a look\n",
    "data_extended.tail()"
   ]
  },
  {
   "cell_type": "code",
   "execution_count": null,
   "id": "07c5cc56",
   "metadata": {},
   "outputs": [],
   "source": [
    "show_categoricals(data_extended, thr=100)"
   ]
  },
  {
   "cell_type": "code",
   "execution_count": null,
   "id": "58d915ba",
   "metadata": {},
   "outputs": [],
   "source": [
    "# ok, we will treat as categorical: holiday, hour, season, weather, windspeed, workingday, year"
   ]
  },
  {
   "cell_type": "code",
   "execution_count": null,
   "id": "f6223fe1",
   "metadata": {},
   "outputs": [],
   "source": [
    "all_columns = data_extended.columns\n",
    "\n",
    "# cols to be ignored\n",
    "# atemp and temp are strongly correlated (0.98) we're taking only one\n",
    "del_columns = ['datetime', 'casual', 'registered', 'temp']\n",
    "\n",
    "TARGET = \"count\"\n",
    "cat_cols = ['season', 'holiday','workingday', 'weather', 'windspeed', 'hour', 'year']\n",
    "num_cols = list(set(all_columns) - set([TARGET]) - set(del_columns) - set(cat_cols))\n",
    "features = sorted(cat_cols + num_cols)\n",
    "\n",
    "print('All columns:', len(all_columns))\n",
    "print('Ignored columns:', len(del_columns))\n",
    "print('Target:', len([TARGET]))\n",
    "print('Categorical columns:', len(cat_cols))\n",
    "print('Numerical columns:', len(num_cols))\n",
    "print('All the features', len(features))"
   ]
  },
  {
   "cell_type": "code",
   "execution_count": null,
   "id": "90329ed6",
   "metadata": {},
   "outputs": [],
   "source": [
    "# drop ignored columns\n",
    "data_used = data_extended.drop(del_columns, axis=1)"
   ]
  },
  {
   "cell_type": "code",
   "execution_count": null,
   "id": "aad0f053",
   "metadata": {},
   "outputs": [],
   "source": [
    "# let's code categorical\n",
    "# windspeed need a special treatment\n",
    "le_list = train_encoders(data_extended)\n",
    "\n",
    "# coding\n",
    "data_used = apply_encoders(data_used, le_list)\n",
    "\n",
    "# define indexes for cat_cols\n",
    "# cat boost want indexes\n",
    "cat_columns_idxs = [i for i, col in enumerate(features) if col in cat_cols]"
   ]
  },
  {
   "cell_type": "markdown",
   "id": "44c97648",
   "metadata": {},
   "source": [
    "### ADSTuner session"
   ]
  },
  {
   "cell_type": "code",
   "execution_count": null,
   "id": "32702a7e",
   "metadata": {},
   "outputs": [],
   "source": [
    "#\n",
    "# Here we define the strategy, the space for hyper-parameters we want to explore\n",
    "#\n",
    "params = {'n_estimators': CategoricalDistribution([1000, 2000, 3000, 4000, 5000]),\n",
    "          'learning_rate': LogUniformDistribution(low=1e-4, high=1e-2),\n",
    "          'max_depth': IntUniformDistribution(5, 10),\n",
    "          'use_best_model': True,\n",
    "          'categorical_feature' : cat_columns_idxs,\n",
    "         }\n",
    "\n",
    "alg_reg = lgb.LGBMRegressor()\n",
    "\n",
    "# define the scorer function for ADSTuner, see def for rmsle before\n",
    "scorer = make_scorer(rmsle, greater_is_better=False)\n",
    "\n",
    "# per lista scorer sorted(sklearn.metrics.SCORERS.keys())\n",
    "tuner = ADSTuner(alg_reg, cv=FOLDS, strategy=params, scoring=scorer, study_name=STUDY_NAME)\n",
    "\n",
    "x_train = data_used[features]\n",
    "y_train = data_used[TARGET]\n",
    "\n",
    "tuner.tune(x_train, y_train, exit_criterion=[TimeBudget(TIME_BUDGET)])"
   ]
  },
  {
   "cell_type": "markdown",
   "id": "2ae45af1",
   "metadata": {},
   "source": [
    "### Analyze trials"
   ]
  },
  {
   "cell_type": "code",
   "execution_count": null,
   "id": "27103d81",
   "metadata": {},
   "outputs": [],
   "source": [
    "# get the status to see if completed\n",
    "print(f'The tuner status is: {tuner.get_status()}')\n",
    "\n",
    "print(f'Remaining time is: {round(tuner.time_remaining, 1)} sec.')"
   ]
  },
  {
   "cell_type": "code",
   "execution_count": null,
   "id": "98741de7",
   "metadata": {},
   "outputs": [],
   "source": [
    "# look only at completed trials, sorted with best on top. Metric chosen is in the value col.\n",
    "result_df = tuner.trials[tuner.trials['state'] == 'COMPLETE'].sort_values(by=['value'], ascending=False)\n",
    "\n",
    "result_df.head(10)"
   ]
  },
  {
   "cell_type": "code",
   "execution_count": null,
   "id": "494d6abd",
   "metadata": {},
   "outputs": [],
   "source": [
    "show_tuner_results(tuner)"
   ]
  },
  {
   "cell_type": "code",
   "execution_count": null,
   "id": "6c414df3",
   "metadata": {},
   "outputs": [],
   "source": [
    "tuner.plot_best_scores()"
   ]
  },
  {
   "cell_type": "markdown",
   "id": "74a4adde",
   "metadata": {},
   "source": [
    "### train the model with the best params"
   ]
  },
  {
   "cell_type": "code",
   "execution_count": null,
   "id": "54b66070",
   "metadata": {},
   "outputs": [],
   "source": [
    "%%time\n",
    "\n",
    "model = lgb.LGBMRegressor(**tuner.best_params)\n",
    "\n",
    "model.fit(x_train, y_train, categorical_feature=cat_columns_idxs)"
   ]
  },
  {
   "cell_type": "markdown",
   "id": "a81bed10",
   "metadata": {},
   "source": [
    "### Prediction and submission to Kaggle"
   ]
  },
  {
   "cell_type": "code",
   "execution_count": null,
   "id": "bb783705",
   "metadata": {},
   "outputs": [],
   "source": [
    "test_orig = pd.read_csv(FILE_TEST)"
   ]
  },
  {
   "cell_type": "code",
   "execution_count": null,
   "id": "2132143b",
   "metadata": {},
   "outputs": [],
   "source": [
    "# add engineered features\n",
    "# feature engineering\n",
    "\n",
    "test_orig = add_features(test_orig)\n",
    "\n",
    "# coding\n",
    "test_orig = apply_encoders(test_orig, le_list)\n",
    "\n",
    "# data on which do scoring\n",
    "x_test = test_orig[features]"
   ]
  },
  {
   "cell_type": "code",
   "execution_count": null,
   "id": "d931a530",
   "metadata": {},
   "outputs": [],
   "source": [
    "# scoring\n",
    "\n",
    "score_test = model.predict(x_test)"
   ]
  },
  {
   "cell_type": "markdown",
   "id": "f47ca2dd",
   "metadata": {},
   "source": [
    "### prepare submission"
   ]
  },
  {
   "cell_type": "code",
   "execution_count": null,
   "id": "98c9a08a",
   "metadata": {},
   "outputs": [],
   "source": [
    "df_sub = pd.read_csv(\"sampleSubmission.csv\")"
   ]
  },
  {
   "cell_type": "code",
   "execution_count": null,
   "id": "c5afcf00",
   "metadata": {},
   "outputs": [],
   "source": [
    "# remove decimals\n",
    "df_sub[\"count\"] = np.round(score_test, 0)\n",
    "\n",
    "# remove eventual negative\n",
    "condition = df_sub[\"count\"] < 0\n",
    "\n",
    "df_sub.loc[condition, \"count\"] = 0"
   ]
  },
  {
   "cell_type": "code",
   "execution_count": null,
   "id": "c72fc16b",
   "metadata": {},
   "outputs": [],
   "source": [
    "FILE_SUB_PREFIX = \"sub-demo-001\"\n",
    "FILE_SUB = FILE_SUB_PREFIX + \".csv\"\n",
    "\n",
    "df_sub.to_csv(FILE_SUB, index=False)"
   ]
  },
  {
   "cell_type": "markdown",
   "id": "270df8a4",
   "metadata": {},
   "source": [
    "### Submission"
   ]
  },
  {
   "cell_type": "code",
   "execution_count": null,
   "id": "832a13d4",
   "metadata": {},
   "outputs": [],
   "source": [
    "!kaggle competitions submit -c \"bike-sharing-demand\" -f $FILE_SUB -m \"sub demo 001, adstuner\""
   ]
  },
  {
   "cell_type": "code",
   "execution_count": null,
   "id": "1e74dd00",
   "metadata": {},
   "outputs": [],
   "source": [
    "print(lgb.__version__)"
   ]
  },
  {
   "cell_type": "code",
   "execution_count": null,
   "id": "eeec9af9",
   "metadata": {},
   "outputs": [],
   "source": []
  }
 ],
 "metadata": {
  "kernelspec": {
   "display_name": "Python 3 (ipykernel)",
   "language": "python",
   "name": "python3"
  },
  "language_info": {
   "codemirror_mode": {
    "name": "ipython",
    "version": 3
   },
   "file_extension": ".py",
   "mimetype": "text/x-python",
   "name": "python",
   "nbconvert_exporter": "python",
   "pygments_lexer": "ipython3",
   "version": "3.8.12"
  }
 },
 "nbformat": 4,
 "nbformat_minor": 5
}
