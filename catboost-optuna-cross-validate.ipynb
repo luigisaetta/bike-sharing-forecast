{
 "cells": [
  {
   "cell_type": "markdown",
   "id": "fa826f87",
   "metadata": {},
   "source": [
    "### Tuning HP: Catboost and Optuna\n",
    "* adopting sklearn cross validate\n",
    "* using rmsle as metric"
   ]
  },
  {
   "cell_type": "code",
   "execution_count": 1,
   "id": "a6b02034",
   "metadata": {},
   "outputs": [],
   "source": [
    "import pandas as pd\n",
    "import numpy as np\n",
    "\n",
    "# the GBM used\n",
    "import xgboost as xgb\n",
    "import catboost as cat\n",
    "import lightgbm as lgb\n",
    "\n",
    "from sklearn.model_selection import cross_validate\n",
    "from sklearn.metrics import make_scorer\n",
    "\n",
    "# to encode categoricals\n",
    "from sklearn.preprocessing import LabelEncoder\n",
    "\n",
    "# see utils.py\n",
    "from utils import add_features, rmsle, train_encoders, apply_encoders\n",
    "\n",
    "import optuna"
   ]
  },
  {
   "cell_type": "code",
   "execution_count": 2,
   "id": "8915e4dd",
   "metadata": {},
   "outputs": [],
   "source": [
    "# globals and load train dataset\n",
    "\n",
    "FILE_TRAIN = \"train.csv\""
   ]
  },
  {
   "cell_type": "code",
   "execution_count": 3,
   "id": "ce1f6761",
   "metadata": {},
   "outputs": [],
   "source": [
    "# load train dataset\n",
    "data_orig = pd.read_csv(FILE_TRAIN)\n",
    "\n",
    "#\n",
    "# Data preparation, feature engineering\n",
    "#\n",
    "\n",
    "# add features (hour, year) extracted form timestamp\n",
    "data_extended = add_features(data_orig)\n",
    "\n",
    "# ok, we will treat as categorical: holiday, hour, season, weather, workingday, year\n",
    "all_columns = data_extended.columns\n",
    "\n",
    "# cols to be ignored\n",
    "# atemp and temp are strongly correlated (0.98) we're taking only one\n",
    "del_columns = [\"datetime\", \"casual\", \"registered\", \"temp\"]\n",
    "\n",
    "TARGET = \"count\"\n",
    "cat_cols = [\"season\", \"holiday\", \"workingday\", \"weather\", \"hour\", \"year\"]\n",
    "num_cols = list(set(all_columns) - set([TARGET]) - set(del_columns) - set(cat_cols))\n",
    "features = sorted(cat_cols + num_cols)\n",
    "\n",
    "# drop ignored columns\n",
    "data_used = data_extended.drop(del_columns, axis=1)"
   ]
  },
  {
   "cell_type": "code",
   "execution_count": 4,
   "id": "aad0f053",
   "metadata": {},
   "outputs": [
    {
     "name": "stdout",
     "output_type": "stream",
     "text": [
      "train for coding: season \n",
      "train for coding: weather \n",
      "train for coding: year \n",
      "\n",
      "Coding: season \n",
      "Coding: weather \n",
      "Coding: year \n"
     ]
    }
   ],
   "source": [
    "# Code categorical columns (only season, weather, year)\n",
    "le_list = train_encoders(data_used)\n",
    "\n",
    "# coding\n",
    "data_used = apply_encoders(data_used, le_list)\n",
    "\n",
    "# define indexes for cat_cols\n",
    "cat_columns_idxs = [i for i, col in enumerate(features) if col in cat_cols]\n",
    "\n",
    "# finally we have the train dataset\n",
    "X = data_used[features].values\n",
    "y = data_used[TARGET].values"
   ]
  },
  {
   "cell_type": "code",
   "execution_count": 5,
   "id": "212183d0",
   "metadata": {},
   "outputs": [],
   "source": [
    "# general\n",
    "FOLDS = 7\n",
    "SEED = 4321\n",
    "N_TRIALS = 60\n",
    "STUDY_NAME = \"gbm1\""
   ]
  },
  {
   "cell_type": "code",
   "execution_count": 6,
   "id": "54b66070",
   "metadata": {},
   "outputs": [],
   "source": [
    "#\n",
    "# Here we define what we do using Optuna\n",
    "#\n",
    "def objective(trial):\n",
    "\n",
    "    # tuning on max_depth, n_estimators for the example\n",
    "    dict_params = {\n",
    "        \"iterations\": trial.suggest_categorical(\"num_boost_round\", [3000, 4000, 5000]),\n",
    "        \"learning_rate\": trial.suggest_loguniform(\"learning_rate\", low=1e-4, high=1e-2),\n",
    "        \"loss_function\": \"RMSE\",\n",
    "        \"depth\": trial.suggest_int(\"depth\", 5, 10),\n",
    "        \"verbose\": 0,\n",
    "    }\n",
    "\n",
    "    regr = cat.CatBoostRegressor(**dict_params)\n",
    "\n",
    "    # using rmsle for scoring\n",
    "    scorer = make_scorer(rmsle, greater_is_better=False)\n",
    "\n",
    "    scores = cross_validate(regr, X, y, cv=FOLDS, scoring=scorer)\n",
    "\n",
    "    avg_test_score = round(np.mean(scores[\"test_score\"]), 4)\n",
    "\n",
    "    return avg_test_score"
   ]
  },
  {
   "cell_type": "code",
   "execution_count": null,
   "id": "eeec9af9",
   "metadata": {},
   "outputs": [
    {
     "name": "stderr",
     "output_type": "stream",
     "text": [
      "\u001b[32m[I 2022-03-09 23:44:11,797]\u001b[0m A new study created in memory with name: gbm1\u001b[0m\n",
      "\u001b[32m[I 2022-03-09 23:44:42,565]\u001b[0m Trial 0 finished with value: -0.6668 and parameters: {'num_boost_round': 3000, 'learning_rate': 0.0033816940819667483, 'depth': 5}. Best is trial 0 with value: -0.6668.\u001b[0m\n",
      "\u001b[32m[I 2022-03-09 23:45:49,357]\u001b[0m Trial 1 finished with value: -0.6296 and parameters: {'num_boost_round': 5000, 'learning_rate': 0.001994338478479562, 'depth': 7}. Best is trial 1 with value: -0.6296.\u001b[0m\n",
      "\u001b[32m[I 2022-03-09 23:46:35,701]\u001b[0m Trial 2 finished with value: -0.6323 and parameters: {'num_boost_round': 4000, 'learning_rate': 0.005684695476148421, 'depth': 6}. Best is trial 1 with value: -0.6296.\u001b[0m\n",
      "\u001b[32m[I 2022-03-09 23:47:15,982]\u001b[0m Trial 3 finished with value: -1.2193 and parameters: {'num_boost_round': 4000, 'learning_rate': 0.00024486994652887106, 'depth': 5}. Best is trial 1 with value: -0.6296.\u001b[0m\n",
      "\u001b[32m[I 2022-03-09 23:47:50,311]\u001b[0m Trial 4 finished with value: -1.4011 and parameters: {'num_boost_round': 3000, 'learning_rate': 0.0001308735184971759, 'depth': 6}. Best is trial 1 with value: -0.6296.\u001b[0m\n",
      "\u001b[32m[I 2022-03-09 23:50:09,060]\u001b[0m Trial 5 finished with value: -1.0849 and parameters: {'num_boost_round': 5000, 'learning_rate': 0.00030747883356149123, 'depth': 10}. Best is trial 1 with value: -0.6296.\u001b[0m\n",
      "\u001b[32m[I 2022-03-09 23:50:43,553]\u001b[0m Trial 6 finished with value: -1.0487 and parameters: {'num_boost_round': 3000, 'learning_rate': 0.0005587662764297414, 'depth': 6}. Best is trial 1 with value: -0.6296.\u001b[0m\n",
      "\u001b[32m[I 2022-03-09 23:51:40,557]\u001b[0m Trial 7 finished with value: -1.3265 and parameters: {'num_boost_round': 5000, 'learning_rate': 0.00012178203197580721, 'depth': 6}. Best is trial 1 with value: -0.6296.\u001b[0m\n",
      "\u001b[32m[I 2022-03-09 23:52:43,026]\u001b[0m Trial 8 finished with value: -0.6199 and parameters: {'num_boost_round': 3000, 'learning_rate': 0.0041076420240422256, 'depth': 9}. Best is trial 8 with value: -0.6199.\u001b[0m\n",
      "\u001b[32m[I 2022-03-09 23:53:45,487]\u001b[0m Trial 9 finished with value: -0.618 and parameters: {'num_boost_round': 3000, 'learning_rate': 0.005295608060875409, 'depth': 9}. Best is trial 9 with value: -0.618.\u001b[0m\n",
      "\u001b[32m[I 2022-03-09 23:54:48,030]\u001b[0m Trial 10 finished with value: -0.7755 and parameters: {'num_boost_round': 3000, 'learning_rate': 0.0013007759641242348, 'depth': 9}. Best is trial 9 with value: -0.618.\u001b[0m\n",
      "\u001b[32m[I 2022-03-09 23:55:50,551]\u001b[0m Trial 11 finished with value: -0.637 and parameters: {'num_boost_round': 3000, 'learning_rate': 0.009395213089375166, 'depth': 9}. Best is trial 9 with value: -0.618.\u001b[0m\n"
     ]
    }
   ],
   "source": [
    "# launch Optuna Study\n",
    "study = optuna.create_study(study_name=STUDY_NAME, direction=\"maximize\")\n",
    "\n",
    "study.optimize(objective, n_trials=N_TRIALS)"
   ]
  },
  {
   "cell_type": "code",
   "execution_count": 12,
   "id": "1803c5c3",
   "metadata": {},
   "outputs": [
    {
     "data": {
      "text/plain": [
       "{'num_boost_round': 3000, 'learning_rate': 0.004446845032875592, 'depth': 8}"
      ]
     },
     "execution_count": 12,
     "metadata": {},
     "output_type": "execute_result"
    }
   ],
   "source": [
    "study.best_params"
   ]
  },
  {
   "cell_type": "code",
   "execution_count": 13,
   "id": "f3ee40e3",
   "metadata": {},
   "outputs": [
    {
     "data": {
      "text/html": [
       "<div>\n",
       "<style scoped>\n",
       "    .dataframe tbody tr th:only-of-type {\n",
       "        vertical-align: middle;\n",
       "    }\n",
       "\n",
       "    .dataframe tbody tr th {\n",
       "        vertical-align: top;\n",
       "    }\n",
       "\n",
       "    .dataframe thead th {\n",
       "        text-align: right;\n",
       "    }\n",
       "</style>\n",
       "<table border=\"1\" class=\"dataframe\">\n",
       "  <thead>\n",
       "    <tr style=\"text-align: right;\">\n",
       "      <th></th>\n",
       "      <th>number</th>\n",
       "      <th>value</th>\n",
       "      <th>datetime_start</th>\n",
       "      <th>datetime_complete</th>\n",
       "      <th>duration</th>\n",
       "      <th>params_depth</th>\n",
       "      <th>params_learning_rate</th>\n",
       "      <th>params_num_boost_round</th>\n",
       "      <th>state</th>\n",
       "    </tr>\n",
       "  </thead>\n",
       "  <tbody>\n",
       "    <tr>\n",
       "      <th>33</th>\n",
       "      <td>33</td>\n",
       "      <td>-0.6121</td>\n",
       "      <td>2022-03-10 00:16:09.870021</td>\n",
       "      <td>2022-03-10 00:16:58.782522</td>\n",
       "      <td>0 days 00:00:48.912501</td>\n",
       "      <td>8</td>\n",
       "      <td>0.004447</td>\n",
       "      <td>3000</td>\n",
       "      <td>COMPLETE</td>\n",
       "    </tr>\n",
       "    <tr>\n",
       "      <th>42</th>\n",
       "      <td>42</td>\n",
       "      <td>-0.6124</td>\n",
       "      <td>2022-03-10 00:24:03.830961</td>\n",
       "      <td>2022-03-10 00:24:52.791046</td>\n",
       "      <td>0 days 00:00:48.960085</td>\n",
       "      <td>8</td>\n",
       "      <td>0.004363</td>\n",
       "      <td>3000</td>\n",
       "      <td>COMPLETE</td>\n",
       "    </tr>\n",
       "    <tr>\n",
       "      <th>52</th>\n",
       "      <td>52</td>\n",
       "      <td>-0.6128</td>\n",
       "      <td>2022-03-10 00:33:11.929851</td>\n",
       "      <td>2022-03-10 00:34:00.916230</td>\n",
       "      <td>0 days 00:00:48.986379</td>\n",
       "      <td>8</td>\n",
       "      <td>0.004267</td>\n",
       "      <td>3000</td>\n",
       "      <td>COMPLETE</td>\n",
       "    </tr>\n",
       "    <tr>\n",
       "      <th>41</th>\n",
       "      <td>41</td>\n",
       "      <td>-0.6139</td>\n",
       "      <td>2022-03-10 00:23:14.936888</td>\n",
       "      <td>2022-03-10 00:24:03.829957</td>\n",
       "      <td>0 days 00:00:48.893069</td>\n",
       "      <td>8</td>\n",
       "      <td>0.004092</td>\n",
       "      <td>3000</td>\n",
       "      <td>COMPLETE</td>\n",
       "    </tr>\n",
       "    <tr>\n",
       "      <th>32</th>\n",
       "      <td>32</td>\n",
       "      <td>-0.6143</td>\n",
       "      <td>2022-03-10 00:15:20.944524</td>\n",
       "      <td>2022-03-10 00:16:09.869042</td>\n",
       "      <td>0 days 00:00:48.924518</td>\n",
       "      <td>8</td>\n",
       "      <td>0.004767</td>\n",
       "      <td>3000</td>\n",
       "      <td>COMPLETE</td>\n",
       "    </tr>\n",
       "  </tbody>\n",
       "</table>\n",
       "</div>"
      ],
      "text/plain": [
       "    number   value             datetime_start          datetime_complete  \\\n",
       "33      33 -0.6121 2022-03-10 00:16:09.870021 2022-03-10 00:16:58.782522   \n",
       "42      42 -0.6124 2022-03-10 00:24:03.830961 2022-03-10 00:24:52.791046   \n",
       "52      52 -0.6128 2022-03-10 00:33:11.929851 2022-03-10 00:34:00.916230   \n",
       "41      41 -0.6139 2022-03-10 00:23:14.936888 2022-03-10 00:24:03.829957   \n",
       "32      32 -0.6143 2022-03-10 00:15:20.944524 2022-03-10 00:16:09.869042   \n",
       "\n",
       "                 duration  params_depth  params_learning_rate  \\\n",
       "33 0 days 00:00:48.912501             8              0.004447   \n",
       "42 0 days 00:00:48.960085             8              0.004363   \n",
       "52 0 days 00:00:48.986379             8              0.004267   \n",
       "41 0 days 00:00:48.893069             8              0.004092   \n",
       "32 0 days 00:00:48.924518             8              0.004767   \n",
       "\n",
       "    params_num_boost_round     state  \n",
       "33                    3000  COMPLETE  \n",
       "42                    3000  COMPLETE  \n",
       "52                    3000  COMPLETE  \n",
       "41                    3000  COMPLETE  \n",
       "32                    3000  COMPLETE  "
      ]
     },
     "execution_count": 13,
     "metadata": {},
     "output_type": "execute_result"
    }
   ],
   "source": [
    "# visualize trials as an ordered Pandas df\n",
    "df = study.trials_dataframe()\n",
    "\n",
    "result_df = df[df[\"state\"] == \"COMPLETE\"].sort_values(by=[\"value\"], ascending=False)\n",
    "\n",
    "# best on top\n",
    "result_df.head()"
   ]
  },
  {
   "cell_type": "markdown",
   "id": "0dd5932a",
   "metadata": {},
   "source": [
    "### Train the model on entire train set and save"
   ]
  },
  {
   "cell_type": "code",
   "execution_count": 14,
   "id": "0251fefa",
   "metadata": {},
   "outputs": [
    {
     "name": "stdout",
     "output_type": "stream",
     "text": [
      "CPU times: user 26.1 s, sys: 2.99 s, total: 29.1 s\n",
      "Wall time: 7.99 s\n"
     ]
    },
    {
     "data": {
      "text/plain": [
       "<catboost.core.CatBoostRegressor at 0x7fd3f95f27f0>"
      ]
     },
     "execution_count": 14,
     "metadata": {},
     "output_type": "execute_result"
    }
   ],
   "source": [
    "%%time\n",
    "model = cat.CatBoostRegressor(**study.best_params)\n",
    "\n",
    "model.fit(X, y, silent=True)"
   ]
  },
  {
   "cell_type": "code",
   "execution_count": 15,
   "id": "5e72d394",
   "metadata": {},
   "outputs": [],
   "source": [
    "model_file = \"catboost.cbm\"\n",
    "\n",
    "model.save_model(model_file, format=\"cbm\")"
   ]
  },
  {
   "cell_type": "code",
   "execution_count": null,
   "id": "e7b35be8",
   "metadata": {},
   "outputs": [],
   "source": []
  }
 ],
 "metadata": {
  "kernelspec": {
   "display_name": "Python 3 (ipykernel)",
   "language": "python",
   "name": "python3"
  },
  "language_info": {
   "codemirror_mode": {
    "name": "ipython",
    "version": 3
   },
   "file_extension": ".py",
   "mimetype": "text/x-python",
   "name": "python",
   "nbconvert_exporter": "python",
   "pygments_lexer": "ipython3",
   "version": "3.8.12"
  }
 },
 "nbformat": 4,
 "nbformat_minor": 5
}
