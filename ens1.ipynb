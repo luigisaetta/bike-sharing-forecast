{
 "cells": [
  {
   "cell_type": "markdown",
   "id": "88670dd8",
   "metadata": {},
   "source": [
    "### Emsembling\n",
    "\n",
    "combina le previsioni di due modelli (TabNet, Catboost)"
   ]
  },
  {
   "cell_type": "code",
   "execution_count": 1,
   "id": "14a262ec",
   "metadata": {},
   "outputs": [],
   "source": [
    "import pandas as pd\n",
    "import numpy as np"
   ]
  },
  {
   "cell_type": "code",
   "execution_count": 2,
   "id": "0283b975",
   "metadata": {},
   "outputs": [],
   "source": [
    "SUB1 = \"submission33.csv\"\n",
    "SUB2 = \"submission10.csv\""
   ]
  },
  {
   "cell_type": "code",
   "execution_count": 3,
   "id": "121cd500",
   "metadata": {},
   "outputs": [],
   "source": [
    "df1 = pd.read_csv(SUB1)\n",
    "df2 = pd.read_csv(SUB2)"
   ]
  },
  {
   "cell_type": "code",
   "execution_count": 6,
   "id": "a2070533",
   "metadata": {},
   "outputs": [],
   "source": [
    "df_avg = df1.copy()"
   ]
  },
  {
   "cell_type": "code",
   "execution_count": 8,
   "id": "c576959b",
   "metadata": {},
   "outputs": [],
   "source": [
    "df_avg['count'] = (df1['count'] + df2['count'])/2."
   ]
  },
  {
   "cell_type": "code",
   "execution_count": 10,
   "id": "da2a02b2",
   "metadata": {},
   "outputs": [],
   "source": [
    "FILE_SUB = \"ens1.csv\"\n",
    "\n",
    "df_avg.to_csv(FILE_SUB, index=False)"
   ]
  },
  {
   "cell_type": "code",
   "execution_count": 11,
   "id": "c9f7aefd",
   "metadata": {},
   "outputs": [
    {
     "name": "stdout",
     "output_type": "stream",
     "text": [
      "100%|█████████████████████████████████████████| 244k/244k [00:01<00:00, 152kB/s]\n",
      "Successfully submitted to Bike Sharing Demand"
     ]
    }
   ],
   "source": [
    "!kaggle competitions submit -c \"bike-sharing-demand\" -f $FILE_SUB -m \"ens1 sub33, sub10\""
   ]
  },
  {
   "cell_type": "code",
   "execution_count": null,
   "id": "2af80e84",
   "metadata": {},
   "outputs": [],
   "source": []
  }
 ],
 "metadata": {
  "kernelspec": {
   "display_name": "Python [conda env:pytorch110_p37_gpu_v1]",
   "language": "python",
   "name": "conda-env-pytorch110_p37_gpu_v1-py"
  },
  "language_info": {
   "codemirror_mode": {
    "name": "ipython",
    "version": 3
   },
   "file_extension": ".py",
   "mimetype": "text/x-python",
   "name": "python",
   "nbconvert_exporter": "python",
   "pygments_lexer": "ipython3",
   "version": "3.7.12"
  }
 },
 "nbformat": 4,
 "nbformat_minor": 5
}
