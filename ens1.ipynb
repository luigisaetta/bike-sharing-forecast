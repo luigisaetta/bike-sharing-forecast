{
 "cells": [
  {
   "cell_type": "markdown",
   "id": "d14fda8e",
   "metadata": {},
   "source": [
    "### Emsembling\n",
    "\n",
    "combina le previsioni di due modelli (TabNet, Catboost)\n",
    "\n",
    "#### history\n",
    "* ens2.csv 0.4687, first 33%"
   ]
  },
  {
   "cell_type": "code",
   "execution_count": 12,
   "id": "60f9b200",
   "metadata": {},
   "outputs": [],
   "source": [
    "import pandas as pd\n",
    "import numpy as np"
   ]
  },
  {
   "cell_type": "code",
   "execution_count": 13,
   "id": "3904ecbb",
   "metadata": {},
   "outputs": [],
   "source": [
    "SUB1 = \"submission34.csv\"\n",
    "SUB2 = \"submission10.csv\""
   ]
  },
  {
   "cell_type": "code",
   "execution_count": 14,
   "id": "4a69b66e",
   "metadata": {},
   "outputs": [],
   "source": [
    "df1 = pd.read_csv(SUB1)\n",
    "df2 = pd.read_csv(SUB2)"
   ]
  },
  {
   "cell_type": "code",
   "execution_count": 15,
   "id": "45090254",
   "metadata": {},
   "outputs": [],
   "source": [
    "df_avg = df1.copy()"
   ]
  },
  {
   "cell_type": "code",
   "execution_count": 16,
   "id": "8d0c4a5d",
   "metadata": {},
   "outputs": [],
   "source": [
    "df_avg[\"count\"] = (df1[\"count\"] + df2[\"count\"]) / 2.0"
   ]
  },
  {
   "cell_type": "code",
   "execution_count": 17,
   "id": "0aa69ab6",
   "metadata": {},
   "outputs": [],
   "source": [
    "FILE_SUB = \"ens2.csv\"\n",
    "\n",
    "df_avg.to_csv(FILE_SUB, index=False)"
   ]
  },
  {
   "cell_type": "code",
   "execution_count": 18,
   "id": "ffad101d",
   "metadata": {},
   "outputs": [
    {
     "name": "stdout",
     "output_type": "stream",
     "text": [
      "100%|████████████████████████████████████████| 244k/244k [00:02<00:00, 95.8kB/s]\n",
      "Successfully submitted to Bike Sharing Demand"
     ]
    }
   ],
   "source": [
    "!kaggle competitions submit -c \"bike-sharing-demand\" -f $FILE_SUB -m \"ens2 sub34, sub10\""
   ]
  },
  {
   "cell_type": "code",
   "execution_count": null,
   "id": "154af32a",
   "metadata": {},
   "outputs": [],
   "source": []
  }
 ],
 "metadata": {
  "kernelspec": {
   "display_name": "Python [conda env:pytorch110_p37_gpu_v1]",
   "language": "python",
   "name": "conda-env-pytorch110_p37_gpu_v1-py"
  },
  "language_info": {
   "codemirror_mode": {
    "name": "ipython",
    "version": 3
   },
   "file_extension": ".py",
   "mimetype": "text/x-python",
   "name": "python",
   "nbconvert_exporter": "python",
   "pygments_lexer": "ipython3",
   "version": "3.7.12"
  }
 },
 "nbformat": 4,
 "nbformat_minor": 5
}
