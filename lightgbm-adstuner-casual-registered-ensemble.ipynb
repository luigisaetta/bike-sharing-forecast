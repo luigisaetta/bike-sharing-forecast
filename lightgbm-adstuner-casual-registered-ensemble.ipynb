{
 "cells": [
  {
   "cell_type": "markdown",
   "id": "fa826f87",
   "metadata": {},
   "source": [
    "### LightGBM + ADSTuner: do the ensemble\n",
    "* two models, one for causal and the other one for registerd\n",
    "* added feature engineering\n",
    "* added year, removed temp\n",
    "* removing day I got the best results. (The range of days in the train set don't match with test set)"
   ]
  },
  {
   "cell_type": "code",
   "execution_count": 1,
   "id": "a6b02034",
   "metadata": {},
   "outputs": [],
   "source": [
    "import pandas as pd\n",
    "import numpy as np\n",
    "\n",
    "import lightgbm as lgb\n",
    "\n",
    "import seaborn as sns\n",
    "\n",
    "# to use ADSTuner\n",
    "from ads.hpo.search_cv import ADSTuner\n",
    "from ads.hpo.stopping_criterion import *\n",
    "from ads.hpo.distributions import *\n",
    "\n",
    "from sklearn.metrics import make_scorer\n",
    "\n",
    "# see utils.py\n",
    "from utils import add_features, rmsle, train_encoders, apply_encoders\n",
    "from utils import show_tuner_results, show_categoricals\n",
    "\n",
    "# set seaborn look&feel\n",
    "sns.set()\n",
    "\n",
    "import logging"
   ]
  },
  {
   "cell_type": "code",
   "execution_count": 2,
   "id": "8915e4dd",
   "metadata": {},
   "outputs": [],
   "source": [
    "# globals and load train dataset\n",
    "FIGSIZE = (9, 6)\n",
    "\n",
    "# number of folds for K-fold cv in ADSTuner\n",
    "FOLDS = 5\n",
    "\n",
    "# in secs\n",
    "TIME_BUDGET = 1800\n",
    "\n",
    "FILE_TRAIN = \"train.csv\"\n",
    "FILE_TEST = \"test.csv\"\n",
    "\n",
    "# train dataset\n",
    "data_orig = pd.read_csv(FILE_TRAIN)"
   ]
  },
  {
   "cell_type": "code",
   "execution_count": 3,
   "id": "ce1f6761",
   "metadata": {},
   "outputs": [
    {
     "data": {
      "text/html": [
       "<div>\n",
       "<style scoped>\n",
       "    .dataframe tbody tr th:only-of-type {\n",
       "        vertical-align: middle;\n",
       "    }\n",
       "\n",
       "    .dataframe tbody tr th {\n",
       "        vertical-align: top;\n",
       "    }\n",
       "\n",
       "    .dataframe thead th {\n",
       "        text-align: right;\n",
       "    }\n",
       "</style>\n",
       "<table border=\"1\" class=\"dataframe\">\n",
       "  <thead>\n",
       "    <tr style=\"text-align: right;\">\n",
       "      <th></th>\n",
       "      <th>datetime</th>\n",
       "      <th>season</th>\n",
       "      <th>holiday</th>\n",
       "      <th>workingday</th>\n",
       "      <th>weather</th>\n",
       "      <th>temp</th>\n",
       "      <th>atemp</th>\n",
       "      <th>humidity</th>\n",
       "      <th>windspeed</th>\n",
       "      <th>casual</th>\n",
       "      <th>registered</th>\n",
       "      <th>count</th>\n",
       "      <th>hour</th>\n",
       "      <th>year</th>\n",
       "    </tr>\n",
       "  </thead>\n",
       "  <tbody>\n",
       "    <tr>\n",
       "      <th>10881</th>\n",
       "      <td>2012-12-19 19:00:00</td>\n",
       "      <td>4</td>\n",
       "      <td>0</td>\n",
       "      <td>1</td>\n",
       "      <td>1</td>\n",
       "      <td>15.58</td>\n",
       "      <td>19.695</td>\n",
       "      <td>50</td>\n",
       "      <td>26.0027</td>\n",
       "      <td>7</td>\n",
       "      <td>329</td>\n",
       "      <td>336</td>\n",
       "      <td>19</td>\n",
       "      <td>2012</td>\n",
       "    </tr>\n",
       "    <tr>\n",
       "      <th>10882</th>\n",
       "      <td>2012-12-19 20:00:00</td>\n",
       "      <td>4</td>\n",
       "      <td>0</td>\n",
       "      <td>1</td>\n",
       "      <td>1</td>\n",
       "      <td>14.76</td>\n",
       "      <td>17.425</td>\n",
       "      <td>57</td>\n",
       "      <td>15.0013</td>\n",
       "      <td>10</td>\n",
       "      <td>231</td>\n",
       "      <td>241</td>\n",
       "      <td>20</td>\n",
       "      <td>2012</td>\n",
       "    </tr>\n",
       "    <tr>\n",
       "      <th>10883</th>\n",
       "      <td>2012-12-19 21:00:00</td>\n",
       "      <td>4</td>\n",
       "      <td>0</td>\n",
       "      <td>1</td>\n",
       "      <td>1</td>\n",
       "      <td>13.94</td>\n",
       "      <td>15.910</td>\n",
       "      <td>61</td>\n",
       "      <td>15.0013</td>\n",
       "      <td>4</td>\n",
       "      <td>164</td>\n",
       "      <td>168</td>\n",
       "      <td>21</td>\n",
       "      <td>2012</td>\n",
       "    </tr>\n",
       "    <tr>\n",
       "      <th>10884</th>\n",
       "      <td>2012-12-19 22:00:00</td>\n",
       "      <td>4</td>\n",
       "      <td>0</td>\n",
       "      <td>1</td>\n",
       "      <td>1</td>\n",
       "      <td>13.94</td>\n",
       "      <td>17.425</td>\n",
       "      <td>61</td>\n",
       "      <td>6.0032</td>\n",
       "      <td>12</td>\n",
       "      <td>117</td>\n",
       "      <td>129</td>\n",
       "      <td>22</td>\n",
       "      <td>2012</td>\n",
       "    </tr>\n",
       "    <tr>\n",
       "      <th>10885</th>\n",
       "      <td>2012-12-19 23:00:00</td>\n",
       "      <td>4</td>\n",
       "      <td>0</td>\n",
       "      <td>1</td>\n",
       "      <td>1</td>\n",
       "      <td>13.12</td>\n",
       "      <td>16.665</td>\n",
       "      <td>66</td>\n",
       "      <td>8.9981</td>\n",
       "      <td>4</td>\n",
       "      <td>84</td>\n",
       "      <td>88</td>\n",
       "      <td>23</td>\n",
       "      <td>2012</td>\n",
       "    </tr>\n",
       "  </tbody>\n",
       "</table>\n",
       "</div>"
      ],
      "text/plain": [
       "                 datetime  season  holiday  workingday  weather   temp  \\\n",
       "10881 2012-12-19 19:00:00       4        0           1        1  15.58   \n",
       "10882 2012-12-19 20:00:00       4        0           1        1  14.76   \n",
       "10883 2012-12-19 21:00:00       4        0           1        1  13.94   \n",
       "10884 2012-12-19 22:00:00       4        0           1        1  13.94   \n",
       "10885 2012-12-19 23:00:00       4        0           1        1  13.12   \n",
       "\n",
       "        atemp  humidity  windspeed  casual  registered  count  hour  year  \n",
       "10881  19.695        50    26.0027       7         329    336    19  2012  \n",
       "10882  17.425        57    15.0013      10         231    241    20  2012  \n",
       "10883  15.910        61    15.0013       4         164    168    21  2012  \n",
       "10884  17.425        61     6.0032      12         117    129    22  2012  \n",
       "10885  16.665        66     8.9981       4          84     88    23  2012  "
      ]
     },
     "execution_count": 3,
     "metadata": {},
     "output_type": "execute_result"
    }
   ],
   "source": [
    "#\n",
    "# add features\n",
    "#\n",
    "data_extended = add_features(data_orig)\n",
    "\n",
    "# have a look\n",
    "data_extended.tail()"
   ]
  },
  {
   "cell_type": "code",
   "execution_count": 4,
   "id": "58d915ba",
   "metadata": {},
   "outputs": [],
   "source": [
    "# ok, we will treat as categorical: holiday, hour, season, weather, windspeed, workingday, year"
   ]
  },
  {
   "cell_type": "code",
   "execution_count": 5,
   "id": "f6223fe1",
   "metadata": {},
   "outputs": [
    {
     "name": "stdout",
     "output_type": "stream",
     "text": [
      "train for coding: season \n",
      "train for coding: weather \n",
      "train for coding: year \n",
      "\n",
      "Coding: season \n",
      "Coding: weather \n",
      "Coding: year \n"
     ]
    }
   ],
   "source": [
    "all_columns = data_extended.columns\n",
    "\n",
    "# cols to be ignored\n",
    "# atemp and temp are strongly correlated (0.98) we're taking only one\n",
    "del_columns = [\"datetime\", \"temp\"]\n",
    "\n",
    "# drop ignored columns\n",
    "data_used = data_extended.drop(del_columns, axis=1)\n",
    "\n",
    "# let's code categorical\n",
    "# windspeed need a special treatment\n",
    "le_list = train_encoders(data_used)\n",
    "\n",
    "# coding\n",
    "data_used = apply_encoders(data_used, le_list)"
   ]
  },
  {
   "cell_type": "code",
   "execution_count": 6,
   "id": "90329ed6",
   "metadata": {},
   "outputs": [
    {
     "name": "stdout",
     "output_type": "stream",
     "text": [
      "All columns: 14\n",
      "Ignored columns: 2\n",
      "Categorical columns: 6\n",
      "Numerical columns: 3\n",
      "All targets: 3\n",
      "All the features 9\n"
     ]
    }
   ],
   "source": [
    "cat_cols = [\"season\", \"holiday\", \"workingday\", \"weather\", \"hour\", \"year\"]\n",
    "num_cols = [\"atemp\", \"humidity\", \"windspeed\"]\n",
    "target_columns = [\"casual\", \"registered\", \"count\"]\n",
    "features = sorted(cat_cols + num_cols)\n",
    "\n",
    "# define indexes for cat_cols\n",
    "# cat boost want indexes\n",
    "cat_columns_idxs = [i for i, col in enumerate(features) if col in cat_cols]\n",
    "\n",
    "print(\"All columns:\", len(all_columns))\n",
    "print(\"Ignored columns:\", len(del_columns))\n",
    "print(\"Categorical columns:\", len(cat_cols))\n",
    "print(\"Numerical columns:\", len(num_cols))\n",
    "print(f\"All targets: {len(target_columns)}\")\n",
    "print(\"All the features\", len(features))"
   ]
  },
  {
   "cell_type": "code",
   "execution_count": 7,
   "id": "db7bd9fa",
   "metadata": {},
   "outputs": [
    {
     "name": "stdout",
     "output_type": "stream",
     "text": [
      "{'learning_rate': 0.0037767852662056434, 'max_depth': 8, 'n_estimators': 3000}\n",
      "{'learning_rate': 0.0052202070749113195, 'max_depth': 10, 'n_estimators': 3000}\n"
     ]
    }
   ],
   "source": [
    "# loading the parameters for the two models\n",
    "import pickle\n",
    "\n",
    "with open(\"model1.pkl\", \"rb\") as mode1_file:\n",
    "    params1 = pickle.load(mode1_file)\n",
    "\n",
    "    print(params1)\n",
    "\n",
    "with open(\"model2.pkl\", \"rb\") as mode1_file:\n",
    "    params2 = pickle.load(mode1_file)\n",
    "\n",
    "    print(params2)"
   ]
  },
  {
   "cell_type": "code",
   "execution_count": 8,
   "id": "33faffab",
   "metadata": {},
   "outputs": [
    {
     "name": "stdout",
     "output_type": "stream",
     "text": [
      "CPU times: user 11.6 s, sys: 39.2 ms, total: 11.7 s\n",
      "Wall time: 2.93 s\n"
     ]
    },
    {
     "data": {
      "text/plain": [
       "LGBMRegressor(learning_rate=0.0037767852662056434, max_depth=8,\n",
       "              n_estimators=3000)"
      ]
     },
     "execution_count": 8,
     "metadata": {},
     "output_type": "execute_result"
    }
   ],
   "source": [
    "%%time\n",
    "# train model1\n",
    "TARGET = \"registered\"\n",
    "\n",
    "x_train = data_used[features]\n",
    "y_train = data_used[TARGET]\n",
    "\n",
    "# train the model with chosen parameters\n",
    "model1 = lgb.LGBMRegressor(**params1)\n",
    "\n",
    "model1.fit(x_train, y_train, categorical_feature=cat_columns_idxs)"
   ]
  },
  {
   "cell_type": "code",
   "execution_count": 9,
   "id": "b0e45128",
   "metadata": {},
   "outputs": [
    {
     "name": "stdout",
     "output_type": "stream",
     "text": [
      "CPU times: user 11.1 s, sys: 51.7 ms, total: 11.1 s\n",
      "Wall time: 2.79 s\n"
     ]
    },
    {
     "data": {
      "text/plain": [
       "LGBMRegressor(learning_rate=0.0052202070749113195, max_depth=10,\n",
       "              n_estimators=3000)"
      ]
     },
     "execution_count": 9,
     "metadata": {},
     "output_type": "execute_result"
    }
   ],
   "source": [
    "%%time\n",
    "# train model2\n",
    "TARGET = \"casual\"\n",
    "\n",
    "x_train = data_used[features]\n",
    "y_train = data_used[TARGET]\n",
    "\n",
    "# train the model with chosen parameters\n",
    "model2 = lgb.LGBMRegressor(**params2)\n",
    "\n",
    "model2.fit(x_train, y_train, categorical_feature=cat_columns_idxs)"
   ]
  },
  {
   "cell_type": "code",
   "execution_count": 10,
   "id": "8f929944",
   "metadata": {},
   "outputs": [
    {
     "name": "stdout",
     "output_type": "stream",
     "text": [
      "Coding: season \n",
      "Coding: weather \n",
      "Coding: year \n"
     ]
    }
   ],
   "source": [
    "# now we must combine predictions from model1 (registered) and model2 (causal))\n",
    "test_orig = pd.read_csv(FILE_TEST)\n",
    "\n",
    "# add engineered features\n",
    "# feature engineering\n",
    "\n",
    "test_orig = add_features(test_orig)\n",
    "\n",
    "# coding\n",
    "test_orig = apply_encoders(test_orig, le_list)\n",
    "\n",
    "# data on which do scoring\n",
    "x_test = test_orig[features]"
   ]
  },
  {
   "cell_type": "code",
   "execution_count": 11,
   "id": "bd689a78",
   "metadata": {},
   "outputs": [],
   "source": [
    "# scoring\n",
    "\n",
    "score_test1 = model1.predict(x_test)\n",
    "\n",
    "score_test2 = model1.predict(x_test)"
   ]
  },
  {
   "cell_type": "code",
   "execution_count": 12,
   "id": "6c360df9",
   "metadata": {},
   "outputs": [],
   "source": [
    "score_test = score_test1 + score_test2"
   ]
  },
  {
   "cell_type": "code",
   "execution_count": 13,
   "id": "00c7ac96",
   "metadata": {},
   "outputs": [],
   "source": [
    "df_sub = pd.read_csv(\"sampleSubmission.csv\")\n",
    "\n",
    "# remove decimals\n",
    "df_sub[\"count\"] = np.round(score_test, 0)\n",
    "\n",
    "# remove eventual negative\n",
    "condition = df_sub[\"count\"] < 0\n",
    "\n",
    "df_sub.loc[condition, \"count\"] = 0"
   ]
  },
  {
   "cell_type": "code",
   "execution_count": 14,
   "id": "ab587f3a",
   "metadata": {},
   "outputs": [],
   "source": [
    "FILE_SUB_PREFIX = \"sub-test14\"\n",
    "FILE_SUB = FILE_SUB_PREFIX + \".csv\"\n",
    "\n",
    "df_sub.to_csv(FILE_SUB, index=False)"
   ]
  },
  {
   "cell_type": "code",
   "execution_count": 15,
   "id": "49c1d2fe",
   "metadata": {},
   "outputs": [
    {
     "name": "stdout",
     "output_type": "stream",
     "text": [
      "100%|████████████████████████████████████████| 163k/163k [00:01<00:00, 93.8kB/s]\n",
      "Successfully submitted to Bike Sharing Demand"
     ]
    }
   ],
   "source": [
    "!kaggle competitions submit -c \"bike-sharing-demand\" -f $FILE_SUB -m \"adstuner, two models\""
   ]
  },
  {
   "cell_type": "code",
   "execution_count": null,
   "id": "9a7f5f90",
   "metadata": {},
   "outputs": [],
   "source": []
  }
 ],
 "metadata": {
  "kernelspec": {
   "display_name": "Python 3 (ipykernel)",
   "language": "python",
   "name": "python3"
  },
  "language_info": {
   "codemirror_mode": {
    "name": "ipython",
    "version": 3
   },
   "file_extension": ".py",
   "mimetype": "text/x-python",
   "name": "python",
   "nbconvert_exporter": "python",
   "pygments_lexer": "ipython3",
   "version": "3.8.12"
  }
 },
 "nbformat": 4,
 "nbformat_minor": 5
}
