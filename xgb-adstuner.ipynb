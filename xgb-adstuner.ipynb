{
 "cells": [
  {
   "cell_type": "markdown",
   "id": "fa826f87",
   "metadata": {},
   "source": [
    "### XGBoost + ADSTuner\n",
    "* added feature engineering\n",
    "* added year, removed temp\n",
    "* removing day I got the best results. (The range of days in the train set don't match with test set)\n"
   ]
  },
  {
   "cell_type": "code",
   "execution_count": 1,
   "id": "a6b02034",
   "metadata": {},
   "outputs": [],
   "source": [
    "import pandas as pd\n",
    "import numpy as np\n",
    "\n",
    "import xgboost as xgb\n",
    "\n",
    "# to use ADSTuner\n",
    "from ads.hpo.search_cv import ADSTuner\n",
    "from ads.hpo.stopping_criterion import *\n",
    "from ads.hpo.distributions import *\n",
    "\n",
    "# to encode categoricals\n",
    "from sklearn.preprocessing import LabelEncoder\n",
    "\n",
    "from sklearn.metrics import make_scorer\n",
    "\n",
    "import seaborn as sns\n",
    "import matplotlib.pyplot as plt\n",
    "\n",
    "# see utils.py\n",
    "from utils import add_features, rmsle, train_encoders, apply_encoders\n",
    "from utils import show_tuner_results, show_categoricals\n",
    "\n",
    "# set seaborn look&feel\n",
    "sns.set()"
   ]
  },
  {
   "cell_type": "code",
   "execution_count": 2,
   "id": "8915e4dd",
   "metadata": {},
   "outputs": [],
   "source": [
    "# globals and load train dataset\n",
    "\n",
    "STUDY_NAME = \"Bike sharing11\"\n",
    "\n",
    "# number of folds for K-fold cv in ADSTuner\n",
    "FOLDS = 7\n",
    "\n",
    "# in secs\n",
    "TIME_BUDGET = 3600\n",
    "\n",
    "FILE_TRAIN = \"train.csv\"\n",
    "FILE_TEST = \"test.csv\""
   ]
  },
  {
   "cell_type": "code",
   "execution_count": 3,
   "id": "ce1f6761",
   "metadata": {},
   "outputs": [
    {
     "data": {
      "text/html": [
       "<div>\n",
       "<style scoped>\n",
       "    .dataframe tbody tr th:only-of-type {\n",
       "        vertical-align: middle;\n",
       "    }\n",
       "\n",
       "    .dataframe tbody tr th {\n",
       "        vertical-align: top;\n",
       "    }\n",
       "\n",
       "    .dataframe thead th {\n",
       "        text-align: right;\n",
       "    }\n",
       "</style>\n",
       "<table border=\"1\" class=\"dataframe\">\n",
       "  <thead>\n",
       "    <tr style=\"text-align: right;\">\n",
       "      <th></th>\n",
       "      <th>datetime</th>\n",
       "      <th>season</th>\n",
       "      <th>holiday</th>\n",
       "      <th>workingday</th>\n",
       "      <th>weather</th>\n",
       "      <th>temp</th>\n",
       "      <th>atemp</th>\n",
       "      <th>humidity</th>\n",
       "      <th>windspeed</th>\n",
       "      <th>casual</th>\n",
       "      <th>registered</th>\n",
       "      <th>count</th>\n",
       "      <th>hour</th>\n",
       "      <th>year</th>\n",
       "    </tr>\n",
       "  </thead>\n",
       "  <tbody>\n",
       "    <tr>\n",
       "      <th>10881</th>\n",
       "      <td>2012-12-19 19:00:00</td>\n",
       "      <td>4</td>\n",
       "      <td>0</td>\n",
       "      <td>1</td>\n",
       "      <td>1</td>\n",
       "      <td>15.58</td>\n",
       "      <td>19.695</td>\n",
       "      <td>50</td>\n",
       "      <td>26.0027</td>\n",
       "      <td>7</td>\n",
       "      <td>329</td>\n",
       "      <td>336</td>\n",
       "      <td>19</td>\n",
       "      <td>2012</td>\n",
       "    </tr>\n",
       "    <tr>\n",
       "      <th>10882</th>\n",
       "      <td>2012-12-19 20:00:00</td>\n",
       "      <td>4</td>\n",
       "      <td>0</td>\n",
       "      <td>1</td>\n",
       "      <td>1</td>\n",
       "      <td>14.76</td>\n",
       "      <td>17.425</td>\n",
       "      <td>57</td>\n",
       "      <td>15.0013</td>\n",
       "      <td>10</td>\n",
       "      <td>231</td>\n",
       "      <td>241</td>\n",
       "      <td>20</td>\n",
       "      <td>2012</td>\n",
       "    </tr>\n",
       "    <tr>\n",
       "      <th>10883</th>\n",
       "      <td>2012-12-19 21:00:00</td>\n",
       "      <td>4</td>\n",
       "      <td>0</td>\n",
       "      <td>1</td>\n",
       "      <td>1</td>\n",
       "      <td>13.94</td>\n",
       "      <td>15.910</td>\n",
       "      <td>61</td>\n",
       "      <td>15.0013</td>\n",
       "      <td>4</td>\n",
       "      <td>164</td>\n",
       "      <td>168</td>\n",
       "      <td>21</td>\n",
       "      <td>2012</td>\n",
       "    </tr>\n",
       "    <tr>\n",
       "      <th>10884</th>\n",
       "      <td>2012-12-19 22:00:00</td>\n",
       "      <td>4</td>\n",
       "      <td>0</td>\n",
       "      <td>1</td>\n",
       "      <td>1</td>\n",
       "      <td>13.94</td>\n",
       "      <td>17.425</td>\n",
       "      <td>61</td>\n",
       "      <td>6.0032</td>\n",
       "      <td>12</td>\n",
       "      <td>117</td>\n",
       "      <td>129</td>\n",
       "      <td>22</td>\n",
       "      <td>2012</td>\n",
       "    </tr>\n",
       "    <tr>\n",
       "      <th>10885</th>\n",
       "      <td>2012-12-19 23:00:00</td>\n",
       "      <td>4</td>\n",
       "      <td>0</td>\n",
       "      <td>1</td>\n",
       "      <td>1</td>\n",
       "      <td>13.12</td>\n",
       "      <td>16.665</td>\n",
       "      <td>66</td>\n",
       "      <td>8.9981</td>\n",
       "      <td>4</td>\n",
       "      <td>84</td>\n",
       "      <td>88</td>\n",
       "      <td>23</td>\n",
       "      <td>2012</td>\n",
       "    </tr>\n",
       "  </tbody>\n",
       "</table>\n",
       "</div>"
      ],
      "text/plain": [
       "                 datetime  season  holiday  workingday  weather   temp  \\\n",
       "10881 2012-12-19 19:00:00       4        0           1        1  15.58   \n",
       "10882 2012-12-19 20:00:00       4        0           1        1  14.76   \n",
       "10883 2012-12-19 21:00:00       4        0           1        1  13.94   \n",
       "10884 2012-12-19 22:00:00       4        0           1        1  13.94   \n",
       "10885 2012-12-19 23:00:00       4        0           1        1  13.12   \n",
       "\n",
       "        atemp  humidity  windspeed  casual  registered  count  hour  year  \n",
       "10881  19.695        50    26.0027       7         329    336    19  2012  \n",
       "10882  17.425        57    15.0013      10         231    241    20  2012  \n",
       "10883  15.910        61    15.0013       4         164    168    21  2012  \n",
       "10884  17.425        61     6.0032      12         117    129    22  2012  \n",
       "10885  16.665        66     8.9981       4          84     88    23  2012  "
      ]
     },
     "execution_count": 3,
     "metadata": {},
     "output_type": "execute_result"
    }
   ],
   "source": [
    "# load train dataset\n",
    "data_orig = pd.read_csv(FILE_TRAIN)\n",
    "\n",
    "#\n",
    "# add features\n",
    "#\n",
    "data_extended = add_features(data_orig)\n",
    "\n",
    "# have a look\n",
    "data_extended.tail()"
   ]
  },
  {
   "cell_type": "code",
   "execution_count": 4,
   "id": "07c5cc56",
   "metadata": {},
   "outputs": [
    {
     "data": {
      "image/png": "[encoded data removed]",
      "text/plain": [
       "<Figure size 648x432 with 1 Axes>"
      ]
     },
     "metadata": {},
     "output_type": "display_data"
    }
   ],
   "source": [
    "show_categoricals(data_extended, thr=100)"
   ]
  },
  {
   "cell_type": "code",
   "execution_count": 5,
   "id": "58d915ba",
   "metadata": {},
   "outputs": [],
   "source": [
    "# ok, we will treat as categorical: holiday, hour, season, weather, windspeed, workingday, year"
   ]
  },
  {
   "cell_type": "code",
   "execution_count": 6,
   "id": "f6223fe1",
   "metadata": {},
   "outputs": [
    {
     "name": "stdout",
     "output_type": "stream",
     "text": [
      "All columns: 14\n",
      "Ignored columns: 4\n",
      "Target: 1\n",
      "Categorical columns: 7\n",
      "Numerical columns: 2\n",
      "All the features 9\n"
     ]
    }
   ],
   "source": [
    "all_columns = data_extended.columns\n",
    "\n",
    "# cols to be ignored\n",
    "# atemp and temp are strongly correlated (0.98) we're taking only one\n",
    "del_columns = [\"datetime\", \"casual\", \"registered\", \"temp\"]\n",
    "\n",
    "TARGET = \"count\"\n",
    "cat_cols = [\"season\", \"holiday\", \"workingday\", \"weather\", \"windspeed\", \"hour\", \"year\"]\n",
    "num_cols = list(set(all_columns) - set([TARGET]) - set(del_columns) - set(cat_cols))\n",
    "features = sorted(cat_cols + num_cols)\n",
    "\n",
    "print(\"All columns:\", len(all_columns))\n",
    "print(\"Ignored columns:\", len(del_columns))\n",
    "print(\"Target:\", len([TARGET]))\n",
    "print(\"Categorical columns:\", len(cat_cols))\n",
    "print(\"Numerical columns:\", len(num_cols))\n",
    "print(\"All the features\", len(features))"
   ]
  },
  {
   "cell_type": "code",
   "execution_count": 7,
   "id": "90329ed6",
   "metadata": {},
   "outputs": [],
   "source": [
    "# drop ignored columns\n",
    "data_used = data_extended.drop(del_columns, axis=1)"
   ]
  },
  {
   "cell_type": "code",
   "execution_count": 8,
   "id": "aad0f053",
   "metadata": {},
   "outputs": [
    {
     "name": "stdout",
     "output_type": "stream",
     "text": [
      "train for coding: season \n",
      "train for coding: weather \n",
      "train for coding: year \n",
      "\n",
      "Coding: season \n",
      "Coding: weather \n",
      "Coding: year \n"
     ]
    }
   ],
   "source": [
    "# let's code categorical\n",
    "# windspeed need a special treatment\n",
    "le_list = train_encoders(data_extended)\n",
    "\n",
    "# coding\n",
    "data_used = apply_encoders(data_used, le_list)\n",
    "\n",
    "# define indexes for cat_cols\n",
    "# cat boost want indexes\n",
    "cat_columns_idxs = [i for i, col in enumerate(features) if col in cat_cols]"
   ]
  },
  {
   "cell_type": "markdown",
   "id": "44c97648",
   "metadata": {},
   "source": [
    "### ADSTuner session"
   ]
  },
  {
   "cell_type": "code",
   "execution_count": 9,
   "id": "32702a7e",
   "metadata": {},
   "outputs": [
    {
     "name": "stderr",
     "output_type": "stream",
     "text": [
      "\u001b[32m[I 2022-03-03 22:19:06,727]\u001b[0m A new study created in RDB with name: Bike sharing11\u001b[0m\n"
     ]
    }
   ],
   "source": [
    "#\n",
    "# Here we define the strategy, the space for hyper-parameters we want to explore\n",
    "#\n",
    "params = {\n",
    "    \"n_estimators\": CategoricalDistribution([1000, 2000, 3000, 4000, 5000]),\n",
    "    \"learning_rate\": LogUniformDistribution(low=1e-4, high=1e-2),\n",
    "    \"max_depth\": IntUniformDistribution(5, 10),\n",
    "}\n",
    "\n",
    "alg_reg = xgb.XGBRegressor()\n",
    "\n",
    "# define the scorer function for ADSTuner, see def for rmsle before\n",
    "scorer = make_scorer(rmsle, greater_is_better=False)\n",
    "\n",
    "# per lista scorer sorted(sklearn.metrics.SCORERS.keys())\n",
    "tuner = ADSTuner(\n",
    "    alg_reg, cv=FOLDS, strategy=params, scoring=scorer, study_name=STUDY_NAME\n",
    ")\n",
    "\n",
    "x_train = data_used[features]\n",
    "y_train = data_used[TARGET]\n",
    "\n",
    "tuner.tune(x_train, y_train, exit_criterion=[TimeBudget(TIME_BUDGET)])"
   ]
  },
  {
   "cell_type": "markdown",
   "id": "2ae45af1",
   "metadata": {},
   "source": [
    "### Analyze trials"
   ]
  },
  {
   "cell_type": "code",
   "execution_count": 109,
   "id": "27103d81",
   "metadata": {},
   "outputs": [
    {
     "name": "stdout",
     "output_type": "stream",
     "text": [
      "The tuner status is: State.COMPLETED\n",
      "Remaining time is: 0 sec.\n"
     ]
    }
   ],
   "source": [
    "# get the status to see if completed\n",
    "print(f\"The tuner status is: {tuner.get_status()}\")\n",
    "\n",
    "print(f\"Remaining time is: {round(tuner.time_remaining, 1)} sec.\")"
   ]
  },
  {
   "cell_type": "code",
   "execution_count": 110,
   "id": "98741de7",
   "metadata": {},
   "outputs": [
    {
     "data": {
      "text/html": [
       "<div>\n",
       "<style scoped>\n",
       "    .dataframe tbody tr th:only-of-type {\n",
       "        vertical-align: middle;\n",
       "    }\n",
       "\n",
       "    .dataframe tbody tr th {\n",
       "        vertical-align: top;\n",
       "    }\n",
       "\n",
       "    .dataframe thead th {\n",
       "        text-align: right;\n",
       "    }\n",
       "</style>\n",
       "<table border=\"1\" class=\"dataframe\">\n",
       "  <thead>\n",
       "    <tr style=\"text-align: right;\">\n",
       "      <th></th>\n",
       "      <th>number</th>\n",
       "      <th>value</th>\n",
       "      <th>datetime_start</th>\n",
       "      <th>datetime_complete</th>\n",
       "      <th>duration</th>\n",
       "      <th>params_learning_rate</th>\n",
       "      <th>params_max_depth</th>\n",
       "      <th>params_n_estimators</th>\n",
       "      <th>user_attrs_mean_fit_time</th>\n",
       "      <th>user_attrs_mean_score_time</th>\n",
       "      <th>...</th>\n",
       "      <th>user_attrs_split1_test_score</th>\n",
       "      <th>user_attrs_split2_test_score</th>\n",
       "      <th>user_attrs_split3_test_score</th>\n",
       "      <th>user_attrs_split4_test_score</th>\n",
       "      <th>user_attrs_split5_test_score</th>\n",
       "      <th>user_attrs_split6_test_score</th>\n",
       "      <th>user_attrs_std_fit_time</th>\n",
       "      <th>user_attrs_std_score_time</th>\n",
       "      <th>user_attrs_std_test_score</th>\n",
       "      <th>state</th>\n",
       "    </tr>\n",
       "  </thead>\n",
       "  <tbody>\n",
       "    <tr>\n",
       "      <th>13</th>\n",
       "      <td>13</td>\n",
       "      <td>-0.438213</td>\n",
       "      <td>2022-03-03 22:42:11.746631</td>\n",
       "      <td>2022-03-03 22:47:40.796423</td>\n",
       "      <td>0 days 00:05:29.049792</td>\n",
       "      <td>0.000439</td>\n",
       "      <td>9</td>\n",
       "      <td>5000</td>\n",
       "      <td>46.794030</td>\n",
       "      <td>0.180564</td>\n",
       "      <td>...</td>\n",
       "      <td>-0.462332</td>\n",
       "      <td>-0.361393</td>\n",
       "      <td>-0.414863</td>\n",
       "      <td>-0.410762</td>\n",
       "      <td>-0.319528</td>\n",
       "      <td>-0.388038</td>\n",
       "      <td>0.262670</td>\n",
       "      <td>0.005604</td>\n",
       "      <td>0.118662</td>\n",
       "      <td>COMPLETE</td>\n",
       "    </tr>\n",
       "    <tr>\n",
       "      <th>18</th>\n",
       "      <td>18</td>\n",
       "      <td>-0.438659</td>\n",
       "      <td>2022-03-03 23:03:43.672108</td>\n",
       "      <td>2022-03-03 23:09:15.887868</td>\n",
       "      <td>0 days 00:05:32.215760</td>\n",
       "      <td>0.001044</td>\n",
       "      <td>9</td>\n",
       "      <td>5000</td>\n",
       "      <td>47.248484</td>\n",
       "      <td>0.180511</td>\n",
       "      <td>...</td>\n",
       "      <td>-0.426791</td>\n",
       "      <td>-0.357280</td>\n",
       "      <td>-0.438000</td>\n",
       "      <td>-0.397231</td>\n",
       "      <td>-0.334848</td>\n",
       "      <td>-0.369671</td>\n",
       "      <td>0.264212</td>\n",
       "      <td>0.003215</td>\n",
       "      <td>0.130364</td>\n",
       "      <td>COMPLETE</td>\n",
       "    </tr>\n",
       "    <tr>\n",
       "      <th>6</th>\n",
       "      <td>6</td>\n",
       "      <td>-0.445628</td>\n",
       "      <td>2022-03-03 22:27:34.567130</td>\n",
       "      <td>2022-03-03 22:29:13.494365</td>\n",
       "      <td>0 days 00:01:38.927235</td>\n",
       "      <td>0.001134</td>\n",
       "      <td>8</td>\n",
       "      <td>2000</td>\n",
       "      <td>14.043286</td>\n",
       "      <td>0.061862</td>\n",
       "      <td>...</td>\n",
       "      <td>-0.434924</td>\n",
       "      <td>-0.353468</td>\n",
       "      <td>-0.419828</td>\n",
       "      <td>-0.402834</td>\n",
       "      <td>-0.314416</td>\n",
       "      <td>-0.444075</td>\n",
       "      <td>0.053271</td>\n",
       "      <td>0.000386</td>\n",
       "      <td>0.131406</td>\n",
       "      <td>COMPLETE</td>\n",
       "    </tr>\n",
       "    <tr>\n",
       "      <th>11</th>\n",
       "      <td>11</td>\n",
       "      <td>-0.446357</td>\n",
       "      <td>2022-03-03 22:37:53.577749</td>\n",
       "      <td>2022-03-03 22:41:07.218487</td>\n",
       "      <td>0 days 00:03:13.640738</td>\n",
       "      <td>0.000650</td>\n",
       "      <td>9</td>\n",
       "      <td>3000</td>\n",
       "      <td>27.523481</td>\n",
       "      <td>0.109448</td>\n",
       "      <td>...</td>\n",
       "      <td>-0.483275</td>\n",
       "      <td>-0.372962</td>\n",
       "      <td>-0.413082</td>\n",
       "      <td>-0.422411</td>\n",
       "      <td>-0.333010</td>\n",
       "      <td>-0.405706</td>\n",
       "      <td>0.135997</td>\n",
       "      <td>0.004003</td>\n",
       "      <td>0.109730</td>\n",
       "      <td>COMPLETE</td>\n",
       "    </tr>\n",
       "    <tr>\n",
       "      <th>12</th>\n",
       "      <td>12</td>\n",
       "      <td>-0.453616</td>\n",
       "      <td>2022-03-03 22:41:07.232504</td>\n",
       "      <td>2022-03-03 22:42:11.732483</td>\n",
       "      <td>0 days 00:01:04.499979</td>\n",
       "      <td>0.001801</td>\n",
       "      <td>9</td>\n",
       "      <td>1000</td>\n",
       "      <td>9.147669</td>\n",
       "      <td>0.037494</td>\n",
       "      <td>...</td>\n",
       "      <td>-0.501346</td>\n",
       "      <td>-0.382625</td>\n",
       "      <td>-0.413902</td>\n",
       "      <td>-0.432039</td>\n",
       "      <td>-0.346585</td>\n",
       "      <td>-0.421429</td>\n",
       "      <td>0.057141</td>\n",
       "      <td>0.000277</td>\n",
       "      <td>0.101367</td>\n",
       "      <td>COMPLETE</td>\n",
       "    </tr>\n",
       "    <tr>\n",
       "      <th>14</th>\n",
       "      <td>14</td>\n",
       "      <td>-0.459691</td>\n",
       "      <td>2022-03-03 22:47:40.810656</td>\n",
       "      <td>2022-03-03 22:53:06.819030</td>\n",
       "      <td>0 days 00:05:26.008374</td>\n",
       "      <td>0.000342</td>\n",
       "      <td>9</td>\n",
       "      <td>5000</td>\n",
       "      <td>46.361219</td>\n",
       "      <td>0.179896</td>\n",
       "      <td>...</td>\n",
       "      <td>-0.515166</td>\n",
       "      <td>-0.390879</td>\n",
       "      <td>-0.414624</td>\n",
       "      <td>-0.440085</td>\n",
       "      <td>-0.357802</td>\n",
       "      <td>-0.434273</td>\n",
       "      <td>0.239442</td>\n",
       "      <td>0.005556</td>\n",
       "      <td>0.095177</td>\n",
       "      <td>COMPLETE</td>\n",
       "    </tr>\n",
       "    <tr>\n",
       "      <th>15</th>\n",
       "      <td>15</td>\n",
       "      <td>-0.471754</td>\n",
       "      <td>2022-03-03 22:53:06.833169</td>\n",
       "      <td>2022-03-03 22:57:00.294724</td>\n",
       "      <td>0 days 00:03:53.461555</td>\n",
       "      <td>0.001809</td>\n",
       "      <td>8</td>\n",
       "      <td>5000</td>\n",
       "      <td>33.175006</td>\n",
       "      <td>0.145589</td>\n",
       "      <td>...</td>\n",
       "      <td>-0.449994</td>\n",
       "      <td>-0.376193</td>\n",
       "      <td>-0.446309</td>\n",
       "      <td>-0.408655</td>\n",
       "      <td>-0.392863</td>\n",
       "      <td>-0.438188</td>\n",
       "      <td>0.224114</td>\n",
       "      <td>0.001002</td>\n",
       "      <td>0.132511</td>\n",
       "      <td>COMPLETE</td>\n",
       "    </tr>\n",
       "    <tr>\n",
       "      <th>9</th>\n",
       "      <td>9</td>\n",
       "      <td>-0.472359</td>\n",
       "      <td>2022-03-03 22:33:37.711238</td>\n",
       "      <td>2022-03-03 22:35:30.223872</td>\n",
       "      <td>0 days 00:01:52.512634</td>\n",
       "      <td>0.000604</td>\n",
       "      <td>7</td>\n",
       "      <td>3000</td>\n",
       "      <td>15.967208</td>\n",
       "      <td>0.074516</td>\n",
       "      <td>...</td>\n",
       "      <td>-0.459564</td>\n",
       "      <td>-0.379252</td>\n",
       "      <td>-0.440357</td>\n",
       "      <td>-0.427826</td>\n",
       "      <td>-0.363773</td>\n",
       "      <td>-0.467538</td>\n",
       "      <td>0.089445</td>\n",
       "      <td>0.000453</td>\n",
       "      <td>0.126026</td>\n",
       "      <td>COMPLETE</td>\n",
       "    </tr>\n",
       "    <tr>\n",
       "      <th>1</th>\n",
       "      <td>1</td>\n",
       "      <td>-0.473234</td>\n",
       "      <td>2022-03-03 22:19:35.944431</td>\n",
       "      <td>2022-03-03 22:23:28.068429</td>\n",
       "      <td>0 days 00:03:52.123998</td>\n",
       "      <td>0.001987</td>\n",
       "      <td>8</td>\n",
       "      <td>5000</td>\n",
       "      <td>32.987594</td>\n",
       "      <td>0.144423</td>\n",
       "      <td>...</td>\n",
       "      <td>-0.454054</td>\n",
       "      <td>-0.377158</td>\n",
       "      <td>-0.459116</td>\n",
       "      <td>-0.411327</td>\n",
       "      <td>-0.376884</td>\n",
       "      <td>-0.462370</td>\n",
       "      <td>0.334953</td>\n",
       "      <td>0.001249</td>\n",
       "      <td>0.126565</td>\n",
       "      <td>COMPLETE</td>\n",
       "    </tr>\n",
       "    <tr>\n",
       "      <th>19</th>\n",
       "      <td>19</td>\n",
       "      <td>-0.474426</td>\n",
       "      <td>2022-03-03 23:09:15.901949</td>\n",
       "      <td>2022-03-03 23:15:32.355577</td>\n",
       "      <td>0 days 00:06:16.453628</td>\n",
       "      <td>0.002722</td>\n",
       "      <td>10</td>\n",
       "      <td>5000</td>\n",
       "      <td>53.547051</td>\n",
       "      <td>0.201562</td>\n",
       "      <td>...</td>\n",
       "      <td>-0.522252</td>\n",
       "      <td>-0.371655</td>\n",
       "      <td>-0.456018</td>\n",
       "      <td>-0.443826</td>\n",
       "      <td>-0.359344</td>\n",
       "      <td>-0.402886</td>\n",
       "      <td>1.453483</td>\n",
       "      <td>0.002799</td>\n",
       "      <td>0.129239</td>\n",
       "      <td>COMPLETE</td>\n",
       "    </tr>\n",
       "  </tbody>\n",
       "</table>\n",
       "<p>10 rows × 23 columns</p>\n",
       "</div>"
      ],
      "text/plain": [
       "    number     value             datetime_start          datetime_complete  \\\n",
       "13      13 -0.438213 2022-03-03 22:42:11.746631 2022-03-03 22:47:40.796423   \n",
       "18      18 -0.438659 2022-03-03 23:03:43.672108 2022-03-03 23:09:15.887868   \n",
       "6        6 -0.445628 2022-03-03 22:27:34.567130 2022-03-03 22:29:13.494365   \n",
       "11      11 -0.446357 2022-03-03 22:37:53.577749 2022-03-03 22:41:07.218487   \n",
       "12      12 -0.453616 2022-03-03 22:41:07.232504 2022-03-03 22:42:11.732483   \n",
       "14      14 -0.459691 2022-03-03 22:47:40.810656 2022-03-03 22:53:06.819030   \n",
       "15      15 -0.471754 2022-03-03 22:53:06.833169 2022-03-03 22:57:00.294724   \n",
       "9        9 -0.472359 2022-03-03 22:33:37.711238 2022-03-03 22:35:30.223872   \n",
       "1        1 -0.473234 2022-03-03 22:19:35.944431 2022-03-03 22:23:28.068429   \n",
       "19      19 -0.474426 2022-03-03 23:09:15.901949 2022-03-03 23:15:32.355577   \n",
       "\n",
       "                 duration  params_learning_rate  params_max_depth  \\\n",
       "13 0 days 00:05:29.049792              0.000439                 9   \n",
       "18 0 days 00:05:32.215760              0.001044                 9   \n",
       "6  0 days 00:01:38.927235              0.001134                 8   \n",
       "11 0 days 00:03:13.640738              0.000650                 9   \n",
       "12 0 days 00:01:04.499979              0.001801                 9   \n",
       "14 0 days 00:05:26.008374              0.000342                 9   \n",
       "15 0 days 00:03:53.461555              0.001809                 8   \n",
       "9  0 days 00:01:52.512634              0.000604                 7   \n",
       "1  0 days 00:03:52.123998              0.001987                 8   \n",
       "19 0 days 00:06:16.453628              0.002722                10   \n",
       "\n",
       "    params_n_estimators  user_attrs_mean_fit_time  user_attrs_mean_score_time  \\\n",
       "13                 5000                 46.794030                    0.180564   \n",
       "18                 5000                 47.248484                    0.180511   \n",
       "6                  2000                 14.043286                    0.061862   \n",
       "11                 3000                 27.523481                    0.109448   \n",
       "12                 1000                  9.147669                    0.037494   \n",
       "14                 5000                 46.361219                    0.179896   \n",
       "15                 5000                 33.175006                    0.145589   \n",
       "9                  3000                 15.967208                    0.074516   \n",
       "1                  5000                 32.987594                    0.144423   \n",
       "19                 5000                 53.547051                    0.201562   \n",
       "\n",
       "    ...  user_attrs_split1_test_score user_attrs_split2_test_score  \\\n",
       "13  ...                     -0.462332                    -0.361393   \n",
       "18  ...                     -0.426791                    -0.357280   \n",
       "6   ...                     -0.434924                    -0.353468   \n",
       "11  ...                     -0.483275                    -0.372962   \n",
       "12  ...                     -0.501346                    -0.382625   \n",
       "14  ...                     -0.515166                    -0.390879   \n",
       "15  ...                     -0.449994                    -0.376193   \n",
       "9   ...                     -0.459564                    -0.379252   \n",
       "1   ...                     -0.454054                    -0.377158   \n",
       "19  ...                     -0.522252                    -0.371655   \n",
       "\n",
       "    user_attrs_split3_test_score  user_attrs_split4_test_score  \\\n",
       "13                     -0.414863                     -0.410762   \n",
       "18                     -0.438000                     -0.397231   \n",
       "6                      -0.419828                     -0.402834   \n",
       "11                     -0.413082                     -0.422411   \n",
       "12                     -0.413902                     -0.432039   \n",
       "14                     -0.414624                     -0.440085   \n",
       "15                     -0.446309                     -0.408655   \n",
       "9                      -0.440357                     -0.427826   \n",
       "1                      -0.459116                     -0.411327   \n",
       "19                     -0.456018                     -0.443826   \n",
       "\n",
       "    user_attrs_split5_test_score  user_attrs_split6_test_score  \\\n",
       "13                     -0.319528                     -0.388038   \n",
       "18                     -0.334848                     -0.369671   \n",
       "6                      -0.314416                     -0.444075   \n",
       "11                     -0.333010                     -0.405706   \n",
       "12                     -0.346585                     -0.421429   \n",
       "14                     -0.357802                     -0.434273   \n",
       "15                     -0.392863                     -0.438188   \n",
       "9                      -0.363773                     -0.467538   \n",
       "1                      -0.376884                     -0.462370   \n",
       "19                     -0.359344                     -0.402886   \n",
       "\n",
       "    user_attrs_std_fit_time  user_attrs_std_score_time  \\\n",
       "13                 0.262670                   0.005604   \n",
       "18                 0.264212                   0.003215   \n",
       "6                  0.053271                   0.000386   \n",
       "11                 0.135997                   0.004003   \n",
       "12                 0.057141                   0.000277   \n",
       "14                 0.239442                   0.005556   \n",
       "15                 0.224114                   0.001002   \n",
       "9                  0.089445                   0.000453   \n",
       "1                  0.334953                   0.001249   \n",
       "19                 1.453483                   0.002799   \n",
       "\n",
       "    user_attrs_std_test_score     state  \n",
       "13                   0.118662  COMPLETE  \n",
       "18                   0.130364  COMPLETE  \n",
       "6                    0.131406  COMPLETE  \n",
       "11                   0.109730  COMPLETE  \n",
       "12                   0.101367  COMPLETE  \n",
       "14                   0.095177  COMPLETE  \n",
       "15                   0.132511  COMPLETE  \n",
       "9                    0.126026  COMPLETE  \n",
       "1                    0.126565  COMPLETE  \n",
       "19                   0.129239  COMPLETE  \n",
       "\n",
       "[10 rows x 23 columns]"
      ]
     },
     "execution_count": 110,
     "metadata": {},
     "output_type": "execute_result"
    }
   ],
   "source": [
    "# look only at completed trials, sorted with best on top. Metric chosen is in the value col.\n",
    "result_df = tuner.trials[tuner.trials[\"state\"] == \"COMPLETE\"].sort_values(\n",
    "    by=[\"value\"], ascending=False\n",
    ")\n",
    "\n",
    "result_df.head(10)"
   ]
  },
  {
   "cell_type": "code",
   "execution_count": 111,
   "id": "494d6abd",
   "metadata": {},
   "outputs": [
    {
     "name": "stdout",
     "output_type": "stream",
     "text": [
      "ADSTuner session results:\n",
      "ADSTuner has completed 21 trials\n",
      "\n",
      "The best trial is the #: 13\n",
      "Parameters for the best trial are: {'learning_rate': 0.0004394857413078558, 'max_depth': 9, 'n_estimators': 5000}\n",
      "The metric used to optimize is: rmsle, greater_is_better=False\n",
      "The best score is: -0.4382\n"
     ]
    }
   ],
   "source": [
    "show_tuner_results(tuner)"
   ]
  },
  {
   "cell_type": "code",
   "execution_count": 112,
   "id": "6c414df3",
   "metadata": {},
   "outputs": [
    {
     "data": {
      "image/png": "[encoded data removed]",
      "text/plain": [
       "<Figure size 432x288 with 1 Axes>"
      ]
     },
     "metadata": {},
     "output_type": "display_data"
    }
   ],
   "source": [
    "tuner.plot_best_scores()"
   ]
  },
  {
   "cell_type": "markdown",
   "id": "74a4adde",
   "metadata": {},
   "source": [
    "### train the model with the best params"
   ]
  },
  {
   "cell_type": "code",
   "execution_count": 113,
   "id": "54b66070",
   "metadata": {},
   "outputs": [
    {
     "name": "stdout",
     "output_type": "stream",
     "text": [
      "CPU times: user 2min 42s, sys: 1.46 s, total: 2min 44s\n",
      "Wall time: 53.2 s\n"
     ]
    },
    {
     "data": {
      "text/plain": [
       "XGBRegressor(base_score=0.5, booster='gbtree', colsample_bylevel=1,\n",
       "             colsample_bynode=1, colsample_bytree=1, enable_categorical=False,\n",
       "             gamma=0, gpu_id=-1, importance_type=None,\n",
       "             interaction_constraints='', learning_rate=0.0004394857413078558,\n",
       "             max_delta_step=0, max_depth=9, min_child_weight=1, missing=nan,\n",
       "             monotone_constraints='()', n_estimators=5000, n_jobs=4,\n",
       "             num_parallel_tree=1, predictor='auto', random_state=0, reg_alpha=0,\n",
       "             reg_lambda=1, scale_pos_weight=1, subsample=1, tree_method='exact',\n",
       "             validate_parameters=1, verbosity=None)"
      ]
     },
     "execution_count": 113,
     "metadata": {},
     "output_type": "execute_result"
    }
   ],
   "source": [
    "%%time\n",
    "\n",
    "model = xgb.XGBRegressor(**tuner.best_params)\n",
    "\n",
    "model.fit(x_train, y_train)"
   ]
  },
  {
   "cell_type": "markdown",
   "id": "a81bed10",
   "metadata": {},
   "source": [
    "### Prediction and submission to Kaggle"
   ]
  },
  {
   "cell_type": "code",
   "execution_count": 114,
   "id": "bb783705",
   "metadata": {},
   "outputs": [],
   "source": [
    "test_orig = pd.read_csv(FILE_TEST)"
   ]
  },
  {
   "cell_type": "code",
   "execution_count": 115,
   "id": "2132143b",
   "metadata": {},
   "outputs": [
    {
     "name": "stdout",
     "output_type": "stream",
     "text": [
      "Coding: season \n",
      "Coding: weather \n",
      "Coding: year \n"
     ]
    }
   ],
   "source": [
    "# add engineered features\n",
    "# feature engineering\n",
    "\n",
    "test_orig = add_features(test_orig)\n",
    "\n",
    "# coding\n",
    "test_orig = apply_encoders(test_orig, le_list)\n",
    "\n",
    "# data on which do scoring\n",
    "x_test = test_orig[features]"
   ]
  },
  {
   "cell_type": "code",
   "execution_count": 116,
   "id": "d931a530",
   "metadata": {},
   "outputs": [],
   "source": [
    "# scoring\n",
    "\n",
    "score_test = model.predict(x_test)"
   ]
  },
  {
   "cell_type": "markdown",
   "id": "f47ca2dd",
   "metadata": {},
   "source": [
    "### prepare submission"
   ]
  },
  {
   "cell_type": "code",
   "execution_count": 117,
   "id": "98c9a08a",
   "metadata": {},
   "outputs": [],
   "source": [
    "df_sub = pd.read_csv(\"sampleSubmission.csv\")"
   ]
  },
  {
   "cell_type": "code",
   "execution_count": 118,
   "id": "c5afcf00",
   "metadata": {},
   "outputs": [],
   "source": [
    "# remove decimals\n",
    "df_sub[\"count\"] = np.round(score_test, 0)\n",
    "\n",
    "# remove eventual negative\n",
    "condition = df_sub[\"count\"] < 0\n",
    "\n",
    "df_sub.loc[condition, \"count\"] = 0"
   ]
  },
  {
   "cell_type": "code",
   "execution_count": 119,
   "id": "c72fc16b",
   "metadata": {},
   "outputs": [],
   "source": [
    "FILE_SUB_PREFIX = \"sub-demo-003\"\n",
    "FILE_SUB = FILE_SUB_PREFIX + \".csv\"\n",
    "\n",
    "df_sub.to_csv(FILE_SUB, index=False)"
   ]
  },
  {
   "cell_type": "markdown",
   "id": "270df8a4",
   "metadata": {},
   "source": [
    "### Submission"
   ]
  },
  {
   "cell_type": "code",
   "execution_count": 120,
   "id": "832a13d4",
   "metadata": {},
   "outputs": [
    {
     "name": "stdout",
     "output_type": "stream",
     "text": [
      "100%|████████████████████████████████████████| 162k/162k [00:03<00:00, 47.4kB/s]\n",
      "Successfully submitted to Bike Sharing Demand"
     ]
    }
   ],
   "source": [
    "!kaggle competitions submit -c \"bike-sharing-demand\" -f $FILE_SUB -m \"sub demo 003, adstuner\""
   ]
  },
  {
   "cell_type": "code",
   "execution_count": null,
   "id": "1e74dd00",
   "metadata": {},
   "outputs": [],
   "source": [
    "print(lgb.__version__)"
   ]
  },
  {
   "cell_type": "code",
   "execution_count": null,
   "id": "eeec9af9",
   "metadata": {},
   "outputs": [],
   "source": []
  }
 ],
 "metadata": {
  "kernelspec": {
   "display_name": "Python 3 (ipykernel)",
   "language": "python",
   "name": "python3"
  },
  "language_info": {
   "codemirror_mode": {
    "name": "ipython",
    "version": 3
   },
   "file_extension": ".py",
   "mimetype": "text/x-python",
   "name": "python",
   "nbconvert_exporter": "python",
   "pygments_lexer": "ipython3",
   "version": "3.8.12"
  }
 },
 "nbformat": 4,
 "nbformat_minor": 5
}
