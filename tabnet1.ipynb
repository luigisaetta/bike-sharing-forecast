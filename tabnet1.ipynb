{
 "cells": [
  {
   "cell_type": "markdown",
   "id": "5bd62e07",
   "metadata": {},
   "source": [
    "### pytorch-tabnet\n",
    "* good result for single model, fixed split train/valid"
   ]
  },
  {
   "cell_type": "code",
   "execution_count": 1,
   "id": "1af22e8d",
   "metadata": {},
   "outputs": [],
   "source": [
    "import pandas as pd\n",
    "import numpy as np\n",
    "from sklearn.preprocessing import LabelEncoder\n",
    "\n",
    "from pytorch_tabnet.tab_model import TabNetRegressor\n",
    "\n",
    "import seaborn as sns\n",
    "import matplotlib.pyplot as plt"
   ]
  },
  {
   "cell_type": "code",
   "execution_count": 2,
   "id": "790abf28",
   "metadata": {},
   "outputs": [],
   "source": [
    "# globals\n",
    "FIGSIZE = (9, 6)\n",
    "\n",
    "SEED = 42\n",
    "\n",
    "FILE_TRAIN = \"train.csv\""
   ]
  },
  {
   "cell_type": "code",
   "execution_count": 3,
   "id": "29404b73",
   "metadata": {},
   "outputs": [],
   "source": [
    "#\n",
    "# my split in train, test set\n",
    "#\n",
    "def my_train_test_split(df, frac):\n",
    "    # frac: the fraction used for train\n",
    "    # df: the dataframe\n",
    "\n",
    "    # shuffle before split\n",
    "    df = df.sample(frac=1.0, random_state=SEED)\n",
    "\n",
    "    # FRAC = 0.90\n",
    "    tot_rec = df.shape[0]\n",
    "    NUM_TRAIN = int(frac * tot_rec)\n",
    "    NUM_TEST = tot_rec - NUM_TRAIN\n",
    "\n",
    "    data_train = df[:NUM_TRAIN]\n",
    "    data_test = df[NUM_TRAIN:]\n",
    "\n",
    "    print()\n",
    "    print(\"Numero totale di campioni:\", tot_rec)\n",
    "    print(\"Numero di campioni nel TRAIN SET:\", data_train.shape[0])\n",
    "    print(\"Numero di campioni nel Validation SET:\", data_test.shape[0])\n",
    "\n",
    "    return data_train, data_test"
   ]
  },
  {
   "cell_type": "code",
   "execution_count": 4,
   "id": "5847a8bf",
   "metadata": {},
   "outputs": [],
   "source": [
    "data_orig = pd.read_csv(FILE_TRAIN)\n",
    "\n",
    "# feature engineering\n",
    "data_orig[\"datetime\"] = pd.to_datetime(data_orig[\"datetime\"])\n",
    "\n",
    "# this way I add 3 engineered features\n",
    "data_orig[\"hour\"] = data_orig[\"datetime\"].dt.hour\n",
    "\n",
    "# mese di fatto è duplicato di season. rimuovo\n",
    "# data_orig['month'] = data_orig['datetime'].dt.month\n",
    "# data_orig['day'] = data_orig['datetime'].dt.day\n",
    "data_orig[\"year\"] = data_orig[\"datetime\"].dt.year"
   ]
  },
  {
   "cell_type": "code",
   "execution_count": 5,
   "id": "94487f5a",
   "metadata": {},
   "outputs": [
    {
     "data": {
      "text/html": [
       "<div>\n",
       "<style scoped>\n",
       "    .dataframe tbody tr th:only-of-type {\n",
       "        vertical-align: middle;\n",
       "    }\n",
       "\n",
       "    .dataframe tbody tr th {\n",
       "        vertical-align: top;\n",
       "    }\n",
       "\n",
       "    .dataframe thead th {\n",
       "        text-align: right;\n",
       "    }\n",
       "</style>\n",
       "<table border=\"1\" class=\"dataframe\">\n",
       "  <thead>\n",
       "    <tr style=\"text-align: right;\">\n",
       "      <th></th>\n",
       "      <th>datetime</th>\n",
       "      <th>season</th>\n",
       "      <th>holiday</th>\n",
       "      <th>workingday</th>\n",
       "      <th>weather</th>\n",
       "      <th>temp</th>\n",
       "      <th>atemp</th>\n",
       "      <th>humidity</th>\n",
       "      <th>windspeed</th>\n",
       "      <th>casual</th>\n",
       "      <th>registered</th>\n",
       "      <th>count</th>\n",
       "      <th>hour</th>\n",
       "      <th>year</th>\n",
       "    </tr>\n",
       "  </thead>\n",
       "  <tbody>\n",
       "    <tr>\n",
       "      <th>10881</th>\n",
       "      <td>2012-12-19 19:00:00</td>\n",
       "      <td>4</td>\n",
       "      <td>0</td>\n",
       "      <td>1</td>\n",
       "      <td>1</td>\n",
       "      <td>15.58</td>\n",
       "      <td>19.695</td>\n",
       "      <td>50</td>\n",
       "      <td>26.0027</td>\n",
       "      <td>7</td>\n",
       "      <td>329</td>\n",
       "      <td>336</td>\n",
       "      <td>19</td>\n",
       "      <td>2012</td>\n",
       "    </tr>\n",
       "    <tr>\n",
       "      <th>10882</th>\n",
       "      <td>2012-12-19 20:00:00</td>\n",
       "      <td>4</td>\n",
       "      <td>0</td>\n",
       "      <td>1</td>\n",
       "      <td>1</td>\n",
       "      <td>14.76</td>\n",
       "      <td>17.425</td>\n",
       "      <td>57</td>\n",
       "      <td>15.0013</td>\n",
       "      <td>10</td>\n",
       "      <td>231</td>\n",
       "      <td>241</td>\n",
       "      <td>20</td>\n",
       "      <td>2012</td>\n",
       "    </tr>\n",
       "    <tr>\n",
       "      <th>10883</th>\n",
       "      <td>2012-12-19 21:00:00</td>\n",
       "      <td>4</td>\n",
       "      <td>0</td>\n",
       "      <td>1</td>\n",
       "      <td>1</td>\n",
       "      <td>13.94</td>\n",
       "      <td>15.910</td>\n",
       "      <td>61</td>\n",
       "      <td>15.0013</td>\n",
       "      <td>4</td>\n",
       "      <td>164</td>\n",
       "      <td>168</td>\n",
       "      <td>21</td>\n",
       "      <td>2012</td>\n",
       "    </tr>\n",
       "    <tr>\n",
       "      <th>10884</th>\n",
       "      <td>2012-12-19 22:00:00</td>\n",
       "      <td>4</td>\n",
       "      <td>0</td>\n",
       "      <td>1</td>\n",
       "      <td>1</td>\n",
       "      <td>13.94</td>\n",
       "      <td>17.425</td>\n",
       "      <td>61</td>\n",
       "      <td>6.0032</td>\n",
       "      <td>12</td>\n",
       "      <td>117</td>\n",
       "      <td>129</td>\n",
       "      <td>22</td>\n",
       "      <td>2012</td>\n",
       "    </tr>\n",
       "    <tr>\n",
       "      <th>10885</th>\n",
       "      <td>2012-12-19 23:00:00</td>\n",
       "      <td>4</td>\n",
       "      <td>0</td>\n",
       "      <td>1</td>\n",
       "      <td>1</td>\n",
       "      <td>13.12</td>\n",
       "      <td>16.665</td>\n",
       "      <td>66</td>\n",
       "      <td>8.9981</td>\n",
       "      <td>4</td>\n",
       "      <td>84</td>\n",
       "      <td>88</td>\n",
       "      <td>23</td>\n",
       "      <td>2012</td>\n",
       "    </tr>\n",
       "  </tbody>\n",
       "</table>\n",
       "</div>"
      ],
      "text/plain": [
       "                 datetime  season  holiday  workingday  weather   temp  \\\n",
       "10881 2012-12-19 19:00:00       4        0           1        1  15.58   \n",
       "10882 2012-12-19 20:00:00       4        0           1        1  14.76   \n",
       "10883 2012-12-19 21:00:00       4        0           1        1  13.94   \n",
       "10884 2012-12-19 22:00:00       4        0           1        1  13.94   \n",
       "10885 2012-12-19 23:00:00       4        0           1        1  13.12   \n",
       "\n",
       "        atemp  humidity  windspeed  casual  registered  count  hour  year  \n",
       "10881  19.695        50    26.0027       7         329    336    19  2012  \n",
       "10882  17.425        57    15.0013      10         231    241    20  2012  \n",
       "10883  15.910        61    15.0013       4         164    168    21  2012  \n",
       "10884  17.425        61     6.0032      12         117    129    22  2012  \n",
       "10885  16.665        66     8.9981       4          84     88    23  2012  "
      ]
     },
     "execution_count": 5,
     "metadata": {},
     "output_type": "execute_result"
    }
   ],
   "source": [
    "data_orig.tail()"
   ]
  },
  {
   "cell_type": "code",
   "execution_count": 6,
   "id": "91216a57",
   "metadata": {},
   "outputs": [
    {
     "name": "stdout",
     "output_type": "stream",
     "text": [
      "Tutte le colonne: 14\n",
      "Colonne ignorate: 4\n",
      "target: 1\n",
      "Colonne cat: 6\n",
      "Colonne num: 3\n",
      "Num. features 9\n"
     ]
    }
   ],
   "source": [
    "all_columns = data_orig.columns\n",
    "\n",
    "# colonne da ignorare\n",
    "# atemp and temp are strongly correlated (0.98) taking only one\n",
    "del_columns = [\"datetime\", \"casual\", \"registered\", \"temp\"]\n",
    "\n",
    "TARGET = \"count\"\n",
    "\n",
    "cat_cols = [\"season\", \"holiday\", \"workingday\", \"weather\", \"hour\", \"year\"]\n",
    "\n",
    "num_cols = list(set(all_columns) - set([TARGET]) - set(del_columns) - set(cat_cols))\n",
    "\n",
    "features = sorted(cat_cols + num_cols)\n",
    "\n",
    "print(\"Tutte le colonne:\", len(all_columns))\n",
    "print(\"Colonne ignorate:\", len(del_columns))\n",
    "print(\"target:\", len([TARGET]))\n",
    "print(\"Colonne cat:\", len(cat_cols))\n",
    "print(\"Colonne num:\", len(num_cols))\n",
    "print(\"Num. features\", len(features))"
   ]
  },
  {
   "cell_type": "code",
   "execution_count": 7,
   "id": "ecbf81a1",
   "metadata": {},
   "outputs": [],
   "source": [
    "data_used = data_orig.drop(del_columns, axis=1)"
   ]
  },
  {
   "cell_type": "code",
   "execution_count": 8,
   "id": "14b0837e",
   "metadata": {},
   "outputs": [
    {
     "name": "stdout",
     "output_type": "stream",
     "text": [
      "\n",
      "Numero totale di campioni: 10886\n",
      "Numero di campioni nel TRAIN SET: 9797\n",
      "Numero di campioni nel Validation SET: 1089\n"
     ]
    }
   ],
   "source": [
    "FRAC = 0.90\n",
    "\n",
    "data_train, data_valid = my_train_test_split(data_used, frac=FRAC)"
   ]
  },
  {
   "cell_type": "code",
   "execution_count": 9,
   "id": "147c82c3",
   "metadata": {},
   "outputs": [
    {
     "name": "stdout",
     "output_type": "stream",
     "text": [
      "season 4 [3 1 4 2]\n",
      "holiday 2 [0 1]\n",
      "workingday 2 [1 0]\n",
      "weather 4 [1 2 3 4]\n",
      "hour 24 [11  6 18 10 23 21 15  8  4  1  2 13  5 22 14  9 19 12 17  7 20  3 16  0]\n",
      "year 2 [2011 2012]\n"
     ]
    }
   ],
   "source": [
    "categorical_columns = cat_cols\n",
    "categorical_dims = {}\n",
    "vet_lenc = []\n",
    "\n",
    "for col in cat_cols:\n",
    "    print(col, data_train[col].nunique(), data_train[col].unique())\n",
    "    l_enc = LabelEncoder()\n",
    "    data_train[col] = l_enc.fit_transform(data_train[col].values)\n",
    "    data_valid[col] = l_enc.transform(data_valid[col].values)\n",
    "    vet_lenc.append(l_enc)\n",
    "    categorical_dims[col] = len(l_enc.classes_)"
   ]
  },
  {
   "cell_type": "code",
   "execution_count": 10,
   "id": "c697ae63",
   "metadata": {},
   "outputs": [],
   "source": [
    "cat_idxs = [i for i, f in enumerate(features) if f in categorical_columns]\n",
    "\n",
    "cat_dims = [\n",
    "    categorical_dims[f] for i, f in enumerate(features) if f in categorical_columns\n",
    "]"
   ]
  },
  {
   "cell_type": "code",
   "execution_count": 11,
   "id": "53436c66",
   "metadata": {},
   "outputs": [],
   "source": [
    "# separo X ed y\n",
    "x_train = data_train[features].values\n",
    "y_train = data_train[TARGET].values\n",
    "\n",
    "y_train = y_train.reshape(-1, 1)\n",
    "\n",
    "x_valid = data_valid[features].values\n",
    "y_valid = data_valid[TARGET].values\n",
    "\n",
    "y_valid = y_valid.reshape(-1, 1)"
   ]
  },
  {
   "cell_type": "code",
   "execution_count": 33,
   "id": "55020d37",
   "metadata": {},
   "outputs": [
    {
     "name": "stdout",
     "output_type": "stream",
     "text": [
      "Device used : cuda\n",
      "epoch 0  | loss: 64465.50031| val_0_rmse: 220.24196| val_0_rmsle: 3.88671 |  0:00:01s\n",
      "epoch 50 | loss: 3370.09716| val_0_rmse: 66.69998| val_0_rmsle: 0.43369 |  0:00:50s\n",
      "epoch 100| loss: 3240.95082| val_0_rmse: 54.33304| val_0_rmsle: 0.43426 |  0:01:42s\n",
      "epoch 150| loss: 2729.40119| val_0_rmse: 54.04931| val_0_rmsle: 0.36427 |  0:02:32s\n",
      "epoch 200| loss: 2485.05472| val_0_rmse: 52.03079| val_0_rmsle: 0.33168 |  0:03:22s\n",
      "epoch 250| loss: 2359.88666| val_0_rmse: 49.45926| val_0_rmsle: 0.30963 |  0:04:12s\n",
      "epoch 300| loss: 2420.63225| val_0_rmse: 52.40608| val_0_rmsle: 0.27647 |  0:05:02s\n",
      "epoch 350| loss: 2224.78907| val_0_rmse: 47.80612| val_0_rmsle: 0.27594 |  0:05:52s\n",
      "epoch 400| loss: 2091.58225| val_0_rmse: 49.51025| val_0_rmsle: 0.27537 |  0:06:42s\n",
      "epoch 450| loss: 2204.85994| val_0_rmse: 52.88376| val_0_rmsle: 0.41207 |  0:07:32s\n",
      "epoch 500| loss: 2075.79942| val_0_rmse: 54.05765| val_0_rmsle: 0.32837 |  0:08:22s\n",
      "\n",
      "Early stopping occurred at epoch 512 with best_epoch = 412 and best_val_0_rmsle = 0.24799\n",
      "Best weights from best epoch are automatically used!\n",
      "CPU times: user 8min 27s, sys: 1.69 s, total: 8min 28s\n",
      "Wall time: 8min 34s\n"
     ]
    }
   ],
   "source": [
    "%%time\n",
    "\n",
    "params = {\"n_steps\": 2, \"cat_dims\": cat_dims, \"cat_idxs\": cat_idxs, \"verbose\": 50}\n",
    "\n",
    "# clf = TabNetRegressor(n_steps = 2, cat_dims=cat_dims, cat_idxs=cat_idxs, verbose=50)\n",
    "clf = TabNetRegressor(**params)\n",
    "\n",
    "# provo a cercare rmsle\n",
    "clf.fit(\n",
    "    x_train,\n",
    "    y_train,\n",
    "    eval_set=[(x_valid, y_valid)],\n",
    "    eval_metric=[\"rmse\", \"rmsle\"],\n",
    "    max_epochs=1000,\n",
    "    patience=100,\n",
    "    batch_size=256,\n",
    ")"
   ]
  },
  {
   "cell_type": "code",
   "execution_count": 34,
   "id": "1ce4ed43",
   "metadata": {},
   "outputs": [
    {
     "data": {
      "image/png": "[encoded data removed]",
      "text/plain": [
       "<Figure size 648x432 with 1 Axes>"
      ]
     },
     "metadata": {
      "needs_background": "light"
     },
     "output_type": "display_data"
    }
   ],
   "source": [
    "%matplotlib inline\n",
    "\n",
    "# eXplainability: Feature importance\n",
    "\n",
    "\n",
    "plt.figure(figsize=FIGSIZE)\n",
    "plt.grid(True)\n",
    "sns.barplot(x=clf.feature_importances_, y=features);"
   ]
  },
  {
   "cell_type": "markdown",
   "id": "6d8b1e87",
   "metadata": {},
   "source": [
    "### Submission"
   ]
  },
  {
   "cell_type": "code",
   "execution_count": 35,
   "id": "47075cb7",
   "metadata": {},
   "outputs": [],
   "source": [
    "test_orig = pd.read_csv(\"test.csv\")"
   ]
  },
  {
   "cell_type": "code",
   "execution_count": 36,
   "id": "b1f21b04",
   "metadata": {},
   "outputs": [],
   "source": [
    "# add engineered features\n",
    "# feature engineering\n",
    "test_orig[\"datetime\"] = pd.to_datetime(test_orig[\"datetime\"])\n",
    "\n",
    "# this way I add 3 engineered features\n",
    "test_orig[\"hour\"] = test_orig[\"datetime\"].dt.hour\n",
    "# test_orig['month'] = test_orig['datetime'].dt.month\n",
    "# test_orig['day'] = test_orig['datetime'].dt.day\n",
    "test_orig[\"year\"] = test_orig[\"datetime\"].dt.year"
   ]
  },
  {
   "cell_type": "code",
   "execution_count": 37,
   "id": "d973bc7b",
   "metadata": {},
   "outputs": [
    {
     "name": "stdout",
     "output_type": "stream",
     "text": [
      "season 4 [1 2 3 4]\n",
      "holiday 2 [0 1]\n",
      "workingday 2 [1 0]\n",
      "weather 4 [1 2 3 4]\n",
      "hour 24 [ 0  1  2  3  4  5  6  7  8  9 10 11 12 13 14 15 16 17 18 19 20 21 22 23]\n",
      "year 2 [2011 2012]\n"
     ]
    }
   ],
   "source": [
    "# code categorical\n",
    "for i, col in enumerate(cat_cols):\n",
    "    print(col, test_orig[col].nunique(), test_orig[col].unique())\n",
    "    l_enc = vet_lenc[i]\n",
    "    test_orig[col] = l_enc.transform(test_orig[col].values)"
   ]
  },
  {
   "cell_type": "code",
   "execution_count": 38,
   "id": "44357ed3",
   "metadata": {},
   "outputs": [],
   "source": [
    "v_test = test_orig[features].values"
   ]
  },
  {
   "cell_type": "code",
   "execution_count": 39,
   "id": "ac8fe1b6",
   "metadata": {},
   "outputs": [],
   "source": [
    "score_test = clf.predict(v_test)"
   ]
  },
  {
   "cell_type": "code",
   "execution_count": 40,
   "id": "209e0395",
   "metadata": {},
   "outputs": [],
   "source": [
    "df_sub = pd.read_csv(\"sampleSubmission.csv\")"
   ]
  },
  {
   "cell_type": "code",
   "execution_count": 41,
   "id": "9ec74d1c",
   "metadata": {},
   "outputs": [],
   "source": [
    "df_sub[\"count\"] = score_test"
   ]
  },
  {
   "cell_type": "code",
   "execution_count": 42,
   "id": "49f069a2",
   "metadata": {},
   "outputs": [],
   "source": [
    "condition = df_sub[\"count\"] < 0\n",
    "\n",
    "df_sub.loc[condition, \"count\"] = 0"
   ]
  },
  {
   "cell_type": "code",
   "execution_count": 43,
   "id": "c0de3787",
   "metadata": {},
   "outputs": [],
   "source": [
    "FILE_SUB = \"submission32.csv\"\n",
    "\n",
    "df_sub.to_csv(FILE_SUB, index=False)"
   ]
  },
  {
   "cell_type": "code",
   "execution_count": 44,
   "id": "26488ff5",
   "metadata": {},
   "outputs": [
    {
     "name": "stdout",
     "output_type": "stream",
     "text": [
      "100%|█████████████████████████████████████████| 188k/188k [00:01<00:00, 118kB/s]\n",
      "Successfully submitted to Bike Sharing Demand"
     ]
    }
   ],
   "source": [
    "!kaggle competitions submit -c \"bike-sharing-demand\" -f $FILE_SUB -m \"sub32 tabnet 2\""
   ]
  },
  {
   "cell_type": "code",
   "execution_count": null,
   "id": "34671271",
   "metadata": {},
   "outputs": [],
   "source": []
  }
 ],
 "metadata": {
  "kernelspec": {
   "display_name": "Python [conda env:pytorch110_p37_gpu_v1]",
   "language": "python",
   "name": "conda-env-pytorch110_p37_gpu_v1-py"
  },
  "language_info": {
   "codemirror_mode": {
    "name": "ipython",
    "version": 3
   },
   "file_extension": ".py",
   "mimetype": "text/x-python",
   "name": "python",
   "nbconvert_exporter": "python",
   "pygments_lexer": "ipython3",
   "version": "3.7.12"
  }
 },
 "nbformat": 4,
 "nbformat_minor": 5
}
