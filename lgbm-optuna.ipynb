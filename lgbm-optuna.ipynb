{
 "cells": [
  {
   "cell_type": "markdown",
   "id": "fa826f87",
   "metadata": {},
   "source": [
    "### Lgbm and Optuna"
   ]
  },
  {
   "cell_type": "code",
   "execution_count": 1,
   "id": "a6b02034",
   "metadata": {},
   "outputs": [],
   "source": [
    "import pandas as pd\n",
    "import numpy as np\n",
    "\n",
    "# the GBM used\n",
    "import lightgbm as lgb\n",
    "\n",
    "from sklearn.model_selection import KFold\n",
    "\n",
    "# to encode categoricals\n",
    "from sklearn.preprocessing import LabelEncoder\n",
    "\n",
    "# see utils.py\n",
    "from utils import add_features, rmsle, train_encoders, apply_encoders\n",
    "\n",
    "import warnings\n",
    "\n",
    "warnings.filterwarnings(\"ignore\")\n",
    "\n",
    "import optuna"
   ]
  },
  {
   "cell_type": "code",
   "execution_count": 2,
   "id": "8915e4dd",
   "metadata": {},
   "outputs": [],
   "source": [
    "# globals and load train dataset\n",
    "\n",
    "FILE_TRAIN = \"train.csv\"\n",
    "FILE_TEST = \"test.csv\""
   ]
  },
  {
   "cell_type": "code",
   "execution_count": 3,
   "id": "ce1f6761",
   "metadata": {},
   "outputs": [],
   "source": [
    "# load train dataset\n",
    "data_orig = pd.read_csv(FILE_TRAIN)\n",
    "\n",
    "#\n",
    "# add features\n",
    "#\n",
    "data_extended = add_features(data_orig)"
   ]
  },
  {
   "cell_type": "code",
   "execution_count": 4,
   "id": "58d915ba",
   "metadata": {},
   "outputs": [],
   "source": [
    "# ok, we will treat as categorical: holiday, hour, season, weather, windspeed, workingday, year"
   ]
  },
  {
   "cell_type": "code",
   "execution_count": 5,
   "id": "f6223fe1",
   "metadata": {},
   "outputs": [
    {
     "name": "stdout",
     "output_type": "stream",
     "text": [
      "All columns: 14\n",
      "Ignored columns: 4\n",
      "Target: 1\n",
      "Categorical columns: 7\n",
      "Numerical columns: 2\n",
      "All the features 9\n"
     ]
    }
   ],
   "source": [
    "all_columns = data_extended.columns\n",
    "\n",
    "# cols to be ignored\n",
    "# atemp and temp are strongly correlated (0.98) we're taking only one\n",
    "del_columns = [\"datetime\", \"casual\", \"registered\", \"temp\"]\n",
    "\n",
    "TARGET = \"count\"\n",
    "cat_cols = [\"season\", \"holiday\", \"workingday\", \"weather\", \"windspeed\", \"hour\", \"year\"]\n",
    "num_cols = list(set(all_columns) - set([TARGET]) - set(del_columns) - set(cat_cols))\n",
    "features = sorted(cat_cols + num_cols)\n",
    "\n",
    "print(\"All columns:\", len(all_columns))\n",
    "print(\"Ignored columns:\", len(del_columns))\n",
    "print(\"Target:\", len([TARGET]))\n",
    "print(\"Categorical columns:\", len(cat_cols))\n",
    "print(\"Numerical columns:\", len(num_cols))\n",
    "print(\"All the features\", len(features))"
   ]
  },
  {
   "cell_type": "code",
   "execution_count": 6,
   "id": "90329ed6",
   "metadata": {},
   "outputs": [],
   "source": [
    "# drop ignored columns\n",
    "data_used = data_extended.drop(del_columns, axis=1)"
   ]
  },
  {
   "cell_type": "code",
   "execution_count": 7,
   "id": "aad0f053",
   "metadata": {},
   "outputs": [
    {
     "name": "stdout",
     "output_type": "stream",
     "text": [
      "train for coding: season \n",
      "train for coding: weather \n",
      "train for coding: year \n",
      "\n",
      "Coding: season \n",
      "Coding: weather \n",
      "Coding: year \n"
     ]
    }
   ],
   "source": [
    "# let's code categorical\n",
    "le_list = train_encoders(data_used)\n",
    "\n",
    "# coding\n",
    "data_used = apply_encoders(data_used, le_list)\n",
    "\n",
    "# define indexes for cat_cols\n",
    "# cat boost want indexes\n",
    "cat_columns_idxs = [i for i, col in enumerate(features) if col in cat_cols]"
   ]
  },
  {
   "cell_type": "code",
   "execution_count": 11,
   "id": "212183d0",
   "metadata": {},
   "outputs": [],
   "source": [
    "# general\n",
    "FOLDS = 5\n",
    "SEED = 4321\n",
    "N_TRIALS = 20\n",
    "STUDY_NAME = \"gbm3\"\n",
    "\n",
    "X = data_used[features].values\n",
    "y = data_used[TARGET].values"
   ]
  },
  {
   "cell_type": "code",
   "execution_count": 12,
   "id": "4e9a3bd4",
   "metadata": {},
   "outputs": [],
   "source": [
    "# for LightGBM\n",
    "\n",
    "# params is needed to remove a lot of annoying logs\n",
    "dtrain = lgb.Dataset(X, y, params={\"verbose\": -1})"
   ]
  },
  {
   "cell_type": "code",
   "execution_count": 20,
   "id": "54b66070",
   "metadata": {},
   "outputs": [],
   "source": [
    "#\n",
    "# Here we define what we do using Optuna\n",
    "#\n",
    "def objective(trial):\n",
    "\n",
    "    # tuning on max_depth, n_estimators for the example\n",
    "    dict_params = {\n",
    "        \"num_iterations\": trial.suggest_categorical(\n",
    "            \"num_iterations\", [1000, 2000, 3000, 4000, 5000]\n",
    "        ),\n",
    "        \"learning_rate\": trial.suggest_loguniform(\"learning_rate\", low=1e-4, high=1e-2),\n",
    "        \"metrics\": [\"rmse\"],\n",
    "        \"verbose\": -1,\n",
    "    }\n",
    "    max_depth = trial.suggest_int(\"max_depth\", 4, 10)\n",
    "    num_leaves = trial.suggest_int(\"num_leaves\", 2 ** (max_depth), 2 ** (max_depth))\n",
    "\n",
    "    dict_params[\"max_depth\"] = max_depth\n",
    "    dict_params[\"num_leaves\"] = num_leaves\n",
    "\n",
    "    history = lgb.cv(\n",
    "        params=dict_params, train_set=dtrain, nfold=FOLDS, seed=SEED, stratified=False\n",
    "    )\n",
    "\n",
    "    # take the last\n",
    "    rmse = round(history[\"rmse-mean\"][-1], 4)\n",
    "\n",
    "    return rmse"
   ]
  },
  {
   "cell_type": "code",
   "execution_count": 21,
   "id": "eeec9af9",
   "metadata": {},
   "outputs": [
    {
     "name": "stderr",
     "output_type": "stream",
     "text": [
      "\u001b[32m[I 2022-03-07 19:21:22,711]\u001b[0m A new study created in memory with name: gbm3\u001b[0m\n",
      "\u001b[32m[I 2022-03-07 19:21:46,734]\u001b[0m Trial 0 finished with value: 66.9929 and parameters: {'num_iterations': 2000, 'learning_rate': 0.0008184268759992632, 'max_depth': 8, 'num_leaves': 256}. Best is trial 0 with value: 66.9929.\u001b[0m\n",
      "\u001b[32m[I 2022-03-07 19:22:03,547]\u001b[0m Trial 1 finished with value: 141.8963 and parameters: {'num_iterations': 3000, 'learning_rate': 0.0001314164451232725, 'max_depth': 6, 'num_leaves': 64}. Best is trial 0 with value: 66.9929.\u001b[0m\n",
      "\u001b[32m[I 2022-03-07 19:22:20,518]\u001b[0m Trial 2 finished with value: 145.4384 and parameters: {'num_iterations': 3000, 'learning_rate': 0.00011645906663238375, 'max_depth': 6, 'num_leaves': 64}. Best is trial 0 with value: 66.9929.\u001b[0m\n",
      "\u001b[32m[I 2022-03-07 19:22:30,931]\u001b[0m Trial 3 finished with value: 66.4997 and parameters: {'num_iterations': 4000, 'learning_rate': 0.0012405601530012212, 'max_depth': 4, 'num_leaves': 16}. Best is trial 3 with value: 66.4997.\u001b[0m\n",
      "\u001b[32m[I 2022-03-07 19:22:56,213]\u001b[0m Trial 4 finished with value: 107.2622 and parameters: {'num_iterations': 2000, 'learning_rate': 0.00035981162907745666, 'max_depth': 8, 'num_leaves': 256}. Best is trial 3 with value: 66.4997.\u001b[0m\n",
      "\u001b[32m[I 2022-03-07 19:23:19,457]\u001b[0m Trial 5 finished with value: 57.5383 and parameters: {'num_iterations': 2000, 'learning_rate': 0.0010769574840986782, 'max_depth': 8, 'num_leaves': 256}. Best is trial 5 with value: 57.5383.\u001b[0m\n",
      "\u001b[32m[I 2022-03-07 19:23:55,636]\u001b[0m Trial 6 finished with value: 69.4424 and parameters: {'num_iterations': 3000, 'learning_rate': 0.0005156523073910876, 'max_depth': 8, 'num_leaves': 256}. Best is trial 5 with value: 57.5383.\u001b[0m\n",
      "\u001b[32m[I 2022-03-07 19:24:03,605]\u001b[0m Trial 7 finished with value: 72.0796 and parameters: {'num_iterations': 3000, 'learning_rate': 0.001327712165972926, 'max_depth': 4, 'num_leaves': 16}. Best is trial 5 with value: 57.5383.\u001b[0m\n",
      "\u001b[32m[I 2022-03-07 19:24:06,300]\u001b[0m Trial 8 finished with value: 158.932 and parameters: {'num_iterations': 1000, 'learning_rate': 0.0002576496055485125, 'max_depth': 4, 'num_leaves': 16}. Best is trial 5 with value: 57.5383.\u001b[0m\n",
      "\u001b[32m[I 2022-03-07 19:24:25,207]\u001b[0m Trial 9 finished with value: 126.6299 and parameters: {'num_iterations': 5000, 'learning_rate': 0.00014278137569239118, 'max_depth': 5, 'num_leaves': 32}. Best is trial 5 with value: 57.5383.\u001b[0m\n",
      "\u001b[32m[I 2022-03-07 19:24:57,100]\u001b[0m Trial 10 finished with value: 42.7902 and parameters: {'num_iterations': 2000, 'learning_rate': 0.005388691488942739, 'max_depth': 10, 'num_leaves': 1024}. Best is trial 10 with value: 42.7902.\u001b[0m\n",
      "\u001b[32m[I 2022-03-07 19:25:28,161]\u001b[0m Trial 11 finished with value: 42.8531 and parameters: {'num_iterations': 2000, 'learning_rate': 0.005777175086360402, 'max_depth': 10, 'num_leaves': 1024}. Best is trial 10 with value: 42.7902.\u001b[0m\n",
      "\u001b[32m[I 2022-03-07 19:25:57,858]\u001b[0m Trial 12 finished with value: 42.6554 and parameters: {'num_iterations': 2000, 'learning_rate': 0.006589512777293949, 'max_depth': 10, 'num_leaves': 1024}. Best is trial 12 with value: 42.6554.\u001b[0m\n",
      "\u001b[32m[I 2022-03-07 19:26:23,081]\u001b[0m Trial 13 finished with value: 42.6527 and parameters: {'num_iterations': 2000, 'learning_rate': 0.009794385997891245, 'max_depth': 10, 'num_leaves': 1024}. Best is trial 13 with value: 42.6527.\u001b[0m\n",
      "\u001b[32m[I 2022-03-07 19:27:18,110]\u001b[0m Trial 14 finished with value: 42.7261 and parameters: {'num_iterations': 5000, 'learning_rate': 0.008396120375580721, 'max_depth': 10, 'num_leaves': 1024}. Best is trial 13 with value: 42.6527.\u001b[0m\n",
      "\u001b[32m[I 2022-03-07 19:27:34,963]\u001b[0m Trial 15 finished with value: 49.8012 and parameters: {'num_iterations': 1000, 'learning_rate': 0.002721897858121107, 'max_depth': 9, 'num_leaves': 512}. Best is trial 13 with value: 42.6527.\u001b[0m\n",
      "\u001b[32m[I 2022-03-07 19:28:06,110]\u001b[0m Trial 16 finished with value: 42.6534 and parameters: {'num_iterations': 4000, 'learning_rate': 0.009899142055785404, 'max_depth': 9, 'num_leaves': 512}. Best is trial 13 with value: 42.6527.\u001b[0m\n",
      "\u001b[32m[I 2022-03-07 19:28:48,442]\u001b[0m Trial 17 finished with value: 42.7765 and parameters: {'num_iterations': 4000, 'learning_rate': 0.003049240503195362, 'max_depth': 9, 'num_leaves': 512}. Best is trial 13 with value: 42.6527.\u001b[0m\n",
      "\u001b[32m[I 2022-03-07 19:29:30,832]\u001b[0m Trial 18 finished with value: 42.805 and parameters: {'num_iterations': 4000, 'learning_rate': 0.002945120912570878, 'max_depth': 9, 'num_leaves': 512}. Best is trial 13 with value: 42.6527.\u001b[0m\n",
      "\u001b[32m[I 2022-03-07 19:29:49,852]\u001b[0m Trial 19 finished with value: 42.674 and parameters: {'num_iterations': 4000, 'learning_rate': 0.009617161247209337, 'max_depth': 7, 'num_leaves': 128}. Best is trial 13 with value: 42.6527.\u001b[0m\n"
     ]
    }
   ],
   "source": [
    "# launch Optuna Study\n",
    "study = optuna.create_study(study_name=STUDY_NAME, direction=\"minimize\")\n",
    "\n",
    "study.optimize(objective, n_trials=N_TRIALS)"
   ]
  },
  {
   "cell_type": "code",
   "execution_count": 28,
   "id": "1803c5c3",
   "metadata": {},
   "outputs": [
    {
     "data": {
      "text/plain": [
       "{'num_iterations': 2000,\n",
       " 'learning_rate': 0.009794385997891245,\n",
       " 'max_depth': 10,\n",
       " 'num_leaves': 1024}"
      ]
     },
     "execution_count": 28,
     "metadata": {},
     "output_type": "execute_result"
    }
   ],
   "source": [
    "study.best_params"
   ]
  },
  {
   "cell_type": "code",
   "execution_count": 33,
   "id": "ae2b2274",
   "metadata": {},
   "outputs": [
    {
     "data": {
      "text/html": [
       "<div>\n",
       "<style scoped>\n",
       "    .dataframe tbody tr th:only-of-type {\n",
       "        vertical-align: middle;\n",
       "    }\n",
       "\n",
       "    .dataframe tbody tr th {\n",
       "        vertical-align: top;\n",
       "    }\n",
       "\n",
       "    .dataframe thead th {\n",
       "        text-align: right;\n",
       "    }\n",
       "</style>\n",
       "<table border=\"1\" class=\"dataframe\">\n",
       "  <thead>\n",
       "    <tr style=\"text-align: right;\">\n",
       "      <th></th>\n",
       "      <th>number</th>\n",
       "      <th>value</th>\n",
       "      <th>datetime_start</th>\n",
       "      <th>datetime_complete</th>\n",
       "      <th>duration</th>\n",
       "      <th>params_learning_rate</th>\n",
       "      <th>params_max_depth</th>\n",
       "      <th>params_num_iterations</th>\n",
       "      <th>params_num_leaves</th>\n",
       "      <th>state</th>\n",
       "    </tr>\n",
       "  </thead>\n",
       "  <tbody>\n",
       "    <tr>\n",
       "      <th>13</th>\n",
       "      <td>13</td>\n",
       "      <td>42.6527</td>\n",
       "      <td>2022-03-07 19:25:57.860036</td>\n",
       "      <td>2022-03-07 19:26:23.081479</td>\n",
       "      <td>0 days 00:00:25.221443</td>\n",
       "      <td>0.009794</td>\n",
       "      <td>10</td>\n",
       "      <td>2000</td>\n",
       "      <td>1024</td>\n",
       "      <td>COMPLETE</td>\n",
       "    </tr>\n",
       "    <tr>\n",
       "      <th>16</th>\n",
       "      <td>16</td>\n",
       "      <td>42.6534</td>\n",
       "      <td>2022-03-07 19:27:34.965119</td>\n",
       "      <td>2022-03-07 19:28:06.110567</td>\n",
       "      <td>0 days 00:00:31.145448</td>\n",
       "      <td>0.009899</td>\n",
       "      <td>9</td>\n",
       "      <td>4000</td>\n",
       "      <td>512</td>\n",
       "      <td>COMPLETE</td>\n",
       "    </tr>\n",
       "    <tr>\n",
       "      <th>12</th>\n",
       "      <td>12</td>\n",
       "      <td>42.6554</td>\n",
       "      <td>2022-03-07 19:25:28.163052</td>\n",
       "      <td>2022-03-07 19:25:57.858496</td>\n",
       "      <td>0 days 00:00:29.695444</td>\n",
       "      <td>0.006590</td>\n",
       "      <td>10</td>\n",
       "      <td>2000</td>\n",
       "      <td>1024</td>\n",
       "      <td>COMPLETE</td>\n",
       "    </tr>\n",
       "    <tr>\n",
       "      <th>19</th>\n",
       "      <td>19</td>\n",
       "      <td>42.6740</td>\n",
       "      <td>2022-03-07 19:29:30.833477</td>\n",
       "      <td>2022-03-07 19:29:49.851714</td>\n",
       "      <td>0 days 00:00:19.018237</td>\n",
       "      <td>0.009617</td>\n",
       "      <td>7</td>\n",
       "      <td>4000</td>\n",
       "      <td>128</td>\n",
       "      <td>COMPLETE</td>\n",
       "    </tr>\n",
       "    <tr>\n",
       "      <th>14</th>\n",
       "      <td>14</td>\n",
       "      <td>42.7261</td>\n",
       "      <td>2022-03-07 19:26:23.083017</td>\n",
       "      <td>2022-03-07 19:27:18.109263</td>\n",
       "      <td>0 days 00:00:55.026246</td>\n",
       "      <td>0.008396</td>\n",
       "      <td>10</td>\n",
       "      <td>5000</td>\n",
       "      <td>1024</td>\n",
       "      <td>COMPLETE</td>\n",
       "    </tr>\n",
       "  </tbody>\n",
       "</table>\n",
       "</div>"
      ],
      "text/plain": [
       "    number    value             datetime_start          datetime_complete  \\\n",
       "13      13  42.6527 2022-03-07 19:25:57.860036 2022-03-07 19:26:23.081479   \n",
       "16      16  42.6534 2022-03-07 19:27:34.965119 2022-03-07 19:28:06.110567   \n",
       "12      12  42.6554 2022-03-07 19:25:28.163052 2022-03-07 19:25:57.858496   \n",
       "19      19  42.6740 2022-03-07 19:29:30.833477 2022-03-07 19:29:49.851714   \n",
       "14      14  42.7261 2022-03-07 19:26:23.083017 2022-03-07 19:27:18.109263   \n",
       "\n",
       "                 duration  params_learning_rate  params_max_depth  \\\n",
       "13 0 days 00:00:25.221443              0.009794                10   \n",
       "16 0 days 00:00:31.145448              0.009899                 9   \n",
       "12 0 days 00:00:29.695444              0.006590                10   \n",
       "19 0 days 00:00:19.018237              0.009617                 7   \n",
       "14 0 days 00:00:55.026246              0.008396                10   \n",
       "\n",
       "    params_num_iterations  params_num_leaves     state  \n",
       "13                   2000               1024  COMPLETE  \n",
       "16                   4000                512  COMPLETE  \n",
       "12                   2000               1024  COMPLETE  \n",
       "19                   4000                128  COMPLETE  \n",
       "14                   5000               1024  COMPLETE  "
      ]
     },
     "execution_count": 33,
     "metadata": {},
     "output_type": "execute_result"
    }
   ],
   "source": [
    "# visualize trials as an ordered Pandas df\n",
    "df = study.trials_dataframe()\n",
    "\n",
    "result_df = df[df[\"state\"] == \"COMPLETE\"].sort_values(by=[\"value\"], ascending=True)\n",
    "\n",
    "# best on top\n",
    "result_df.head()"
   ]
  },
  {
   "cell_type": "markdown",
   "id": "e26463b8",
   "metadata": {},
   "source": [
    "### estimate RMSLE\n",
    "* it is the metric used in Kaggle competition"
   ]
  },
  {
   "cell_type": "code",
   "execution_count": 23,
   "id": "e21101e6",
   "metadata": {},
   "outputs": [
    {
     "name": "stdout",
     "output_type": "stream",
     "text": [
      "Processing fold: 1\n",
      "Processing fold: 2\n",
      "Processing fold: 3\n",
      "Processing fold: 4\n",
      "Processing fold: 5\n",
      "\n",
      "Avg. RMSLE: 0.4053\n",
      "\n"
     ]
    }
   ],
   "source": [
    "# make an estimation of rmsle on entire dataset\n",
    "\n",
    "kf = KFold(n_splits=FOLDS, shuffle=True, random_state=SEED)\n",
    "\n",
    "avg_rmsle = 0.0\n",
    "\n",
    "#\n",
    "# at each iteration you get a different set of indexes\n",
    "# from which you get different samples for train and validation dataset\n",
    "#\n",
    "for i, (train_idx, valid_idx) in enumerate(kf.split(data_used)):\n",
    "    print(\"Processing fold:\", i + 1)\n",
    "\n",
    "    # here we split the DataFrame, using the indexes for the fold\n",
    "    data_train = data_used.iloc[train_idx]\n",
    "    data_valid = data_used.iloc[valid_idx]\n",
    "\n",
    "    x_train = data_train[features].values\n",
    "    y_train = data_train[TARGET].values\n",
    "    x_valid = data_valid[features].values\n",
    "    y_valid = data_valid[TARGET].values\n",
    "\n",
    "    model = lgb.LGBMRegressor(**study.best_params)\n",
    "\n",
    "    model.fit(x_train, y_train, verbose=-1)\n",
    "\n",
    "    y_valid_preds = model.predict(x_valid)\n",
    "\n",
    "    # clip to zero (to avoid nan for rmsle)\n",
    "    y_valid_preds = np.where(y_valid_preds >= 0, y_valid_preds, 0)\n",
    "\n",
    "    avg_rmsle += rmsle(y_valid_preds, y_valid) / float(FOLDS)\n",
    "\n",
    "print()\n",
    "print(\"Avg. RMSLE:\", round(avg_rmsle, 4))\n",
    "print()"
   ]
  },
  {
   "cell_type": "markdown",
   "id": "0dd5932a",
   "metadata": {},
   "source": [
    "### train the model on entire train set and save"
   ]
  },
  {
   "cell_type": "code",
   "execution_count": 31,
   "id": "0251fefa",
   "metadata": {},
   "outputs": [
    {
     "data": {
      "text/plain": [
       "LGBMRegressor(learning_rate=0.009794385997891245, max_depth=10,\n",
       "              num_iterations=2000, num_leaves=1024)"
      ]
     },
     "execution_count": 31,
     "metadata": {},
     "output_type": "execute_result"
    }
   ],
   "source": [
    "# maybe I shoud add save best model (see nu_iteration in cell below)\n",
    "model = lgb.LGBMRegressor(**study.best_params)\n",
    "\n",
    "model.fit(x_train, y_train)"
   ]
  },
  {
   "cell_type": "code",
   "execution_count": 32,
   "id": "5e72d394",
   "metadata": {},
   "outputs": [
    {
     "data": {
      "text/plain": [
       "<lightgbm.basic.Booster at 0x7ff9a682b040>"
      ]
     },
     "execution_count": 32,
     "metadata": {},
     "output_type": "execute_result"
    }
   ],
   "source": [
    "model_file = \"lgboost.txt\"\n",
    "\n",
    "model.booster_.save_model(model_file, num_iteration=study.best_params[\"num_iterations\"])"
   ]
  },
  {
   "cell_type": "code",
   "execution_count": null,
   "id": "173bcd6f",
   "metadata": {},
   "outputs": [],
   "source": []
  }
 ],
 "metadata": {
  "kernelspec": {
   "display_name": "Python 3 (ipykernel)",
   "language": "python",
   "name": "python3"
  },
  "language_info": {
   "codemirror_mode": {
    "name": "ipython",
    "version": 3
   },
   "file_extension": ".py",
   "mimetype": "text/x-python",
   "name": "python",
   "nbconvert_exporter": "python",
   "pygments_lexer": "ipython3",
   "version": "3.8.12"
  }
 },
 "nbformat": 4,
 "nbformat_minor": 5
}
