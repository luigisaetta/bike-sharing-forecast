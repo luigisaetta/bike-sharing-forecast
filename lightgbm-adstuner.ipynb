{
 "cells": [
  {
   "cell_type": "markdown",
   "id": "fa826f87",
   "metadata": {},
   "source": [
    "### LightGBM + ADSTuner\n",
    "* added feature engineering\n",
    "* added year, removed temp\n",
    "* removing day I got the best results. (The range of days in the train set don't match with test set)\n"
   ]
  },
  {
   "cell_type": "code",
   "execution_count": 1,
   "id": "a6b02034",
   "metadata": {},
   "outputs": [],
   "source": [
    "import pandas as pd\n",
    "import numpy as np\n",
    "\n",
    "import lightgbm as lgb\n",
    "\n",
    "# to use ADSTuner\n",
    "from ads.hpo.search_cv import ADSTuner\n",
    "from ads.hpo.stopping_criterion import *\n",
    "from ads.hpo.distributions import *\n",
    "\n",
    "# to encode categoricals\n",
    "from sklearn.preprocessing import LabelEncoder\n",
    "\n",
    "from sklearn.metrics import make_scorer\n",
    "\n",
    "import seaborn as sns\n",
    "import matplotlib.pyplot as plt\n",
    "\n",
    "# see utils.py\n",
    "from utils import add_features, rmsle, train_encoders, apply_encoders\n",
    "from utils import show_tuner_results, show_categoricals\n",
    "\n",
    "# set seaborn look&feel\n",
    "sns.set()"
   ]
  },
  {
   "cell_type": "code",
   "execution_count": 2,
   "id": "8915e4dd",
   "metadata": {},
   "outputs": [],
   "source": [
    "# globals and load train dataset\n",
    "\n",
    "STUDY_NAME = \"Bike sharing11\"\n",
    "\n",
    "# number of folds for K-fold cv in ADSTuner\n",
    "FOLDS = 7\n",
    "\n",
    "# in secs\n",
    "TIME_BUDGET = 3600\n",
    "\n",
    "FILE_TRAIN = \"train.csv\"\n",
    "FILE_TEST = \"test.csv\""
   ]
  },
  {
   "cell_type": "code",
   "execution_count": 3,
   "id": "ce1f6761",
   "metadata": {},
   "outputs": [
    {
     "data": {
      "text/html": [
       "<div>\n",
       "<style scoped>\n",
       "    .dataframe tbody tr th:only-of-type {\n",
       "        vertical-align: middle;\n",
       "    }\n",
       "\n",
       "    .dataframe tbody tr th {\n",
       "        vertical-align: top;\n",
       "    }\n",
       "\n",
       "    .dataframe thead th {\n",
       "        text-align: right;\n",
       "    }\n",
       "</style>\n",
       "<table border=\"1\" class=\"dataframe\">\n",
       "  <thead>\n",
       "    <tr style=\"text-align: right;\">\n",
       "      <th></th>\n",
       "      <th>datetime</th>\n",
       "      <th>season</th>\n",
       "      <th>holiday</th>\n",
       "      <th>workingday</th>\n",
       "      <th>weather</th>\n",
       "      <th>temp</th>\n",
       "      <th>atemp</th>\n",
       "      <th>humidity</th>\n",
       "      <th>windspeed</th>\n",
       "      <th>casual</th>\n",
       "      <th>registered</th>\n",
       "      <th>count</th>\n",
       "      <th>hour</th>\n",
       "      <th>year</th>\n",
       "    </tr>\n",
       "  </thead>\n",
       "  <tbody>\n",
       "    <tr>\n",
       "      <th>10881</th>\n",
       "      <td>2012-12-19 19:00:00</td>\n",
       "      <td>4</td>\n",
       "      <td>0</td>\n",
       "      <td>1</td>\n",
       "      <td>1</td>\n",
       "      <td>15.58</td>\n",
       "      <td>19.695</td>\n",
       "      <td>50</td>\n",
       "      <td>26.0027</td>\n",
       "      <td>7</td>\n",
       "      <td>329</td>\n",
       "      <td>336</td>\n",
       "      <td>19</td>\n",
       "      <td>2012</td>\n",
       "    </tr>\n",
       "    <tr>\n",
       "      <th>10882</th>\n",
       "      <td>2012-12-19 20:00:00</td>\n",
       "      <td>4</td>\n",
       "      <td>0</td>\n",
       "      <td>1</td>\n",
       "      <td>1</td>\n",
       "      <td>14.76</td>\n",
       "      <td>17.425</td>\n",
       "      <td>57</td>\n",
       "      <td>15.0013</td>\n",
       "      <td>10</td>\n",
       "      <td>231</td>\n",
       "      <td>241</td>\n",
       "      <td>20</td>\n",
       "      <td>2012</td>\n",
       "    </tr>\n",
       "    <tr>\n",
       "      <th>10883</th>\n",
       "      <td>2012-12-19 21:00:00</td>\n",
       "      <td>4</td>\n",
       "      <td>0</td>\n",
       "      <td>1</td>\n",
       "      <td>1</td>\n",
       "      <td>13.94</td>\n",
       "      <td>15.910</td>\n",
       "      <td>61</td>\n",
       "      <td>15.0013</td>\n",
       "      <td>4</td>\n",
       "      <td>164</td>\n",
       "      <td>168</td>\n",
       "      <td>21</td>\n",
       "      <td>2012</td>\n",
       "    </tr>\n",
       "    <tr>\n",
       "      <th>10884</th>\n",
       "      <td>2012-12-19 22:00:00</td>\n",
       "      <td>4</td>\n",
       "      <td>0</td>\n",
       "      <td>1</td>\n",
       "      <td>1</td>\n",
       "      <td>13.94</td>\n",
       "      <td>17.425</td>\n",
       "      <td>61</td>\n",
       "      <td>6.0032</td>\n",
       "      <td>12</td>\n",
       "      <td>117</td>\n",
       "      <td>129</td>\n",
       "      <td>22</td>\n",
       "      <td>2012</td>\n",
       "    </tr>\n",
       "    <tr>\n",
       "      <th>10885</th>\n",
       "      <td>2012-12-19 23:00:00</td>\n",
       "      <td>4</td>\n",
       "      <td>0</td>\n",
       "      <td>1</td>\n",
       "      <td>1</td>\n",
       "      <td>13.12</td>\n",
       "      <td>16.665</td>\n",
       "      <td>66</td>\n",
       "      <td>8.9981</td>\n",
       "      <td>4</td>\n",
       "      <td>84</td>\n",
       "      <td>88</td>\n",
       "      <td>23</td>\n",
       "      <td>2012</td>\n",
       "    </tr>\n",
       "  </tbody>\n",
       "</table>\n",
       "</div>"
      ],
      "text/plain": [
       "                 datetime  season  holiday  workingday  weather   temp  \\\n",
       "10881 2012-12-19 19:00:00       4        0           1        1  15.58   \n",
       "10882 2012-12-19 20:00:00       4        0           1        1  14.76   \n",
       "10883 2012-12-19 21:00:00       4        0           1        1  13.94   \n",
       "10884 2012-12-19 22:00:00       4        0           1        1  13.94   \n",
       "10885 2012-12-19 23:00:00       4        0           1        1  13.12   \n",
       "\n",
       "        atemp  humidity  windspeed  casual  registered  count  hour  year  \n",
       "10881  19.695        50    26.0027       7         329    336    19  2012  \n",
       "10882  17.425        57    15.0013      10         231    241    20  2012  \n",
       "10883  15.910        61    15.0013       4         164    168    21  2012  \n",
       "10884  17.425        61     6.0032      12         117    129    22  2012  \n",
       "10885  16.665        66     8.9981       4          84     88    23  2012  "
      ]
     },
     "execution_count": 3,
     "metadata": {},
     "output_type": "execute_result"
    }
   ],
   "source": [
    "# load train dataset\n",
    "data_orig = pd.read_csv(FILE_TRAIN)\n",
    "\n",
    "#\n",
    "# add features\n",
    "#\n",
    "data_extended = add_features(data_orig)\n",
    "\n",
    "# have a look\n",
    "data_extended.tail()"
   ]
  },
  {
   "cell_type": "code",
   "execution_count": 4,
   "id": "07c5cc56",
   "metadata": {},
   "outputs": [
    {
     "data": {
      "image/png": "[encoded data removed]",
      "text/plain": [
       "<Figure size 648x432 with 1 Axes>"
      ]
     },
     "metadata": {},
     "output_type": "display_data"
    }
   ],
   "source": [
    "show_categoricals(data_extended, thr=100)"
   ]
  },
  {
   "cell_type": "code",
   "execution_count": 5,
   "id": "58d915ba",
   "metadata": {},
   "outputs": [],
   "source": [
    "# ok, we will treat as categorical: holiday, hour, season, weather, windspeed, workingday, year"
   ]
  },
  {
   "cell_type": "code",
   "execution_count": 6,
   "id": "f6223fe1",
   "metadata": {},
   "outputs": [
    {
     "name": "stdout",
     "output_type": "stream",
     "text": [
      "All columns: 14\n",
      "Ignored columns: 4\n",
      "Target: 1\n",
      "Categorical columns: 7\n",
      "Numerical columns: 2\n",
      "All the features 9\n"
     ]
    }
   ],
   "source": [
    "all_columns = data_extended.columns\n",
    "\n",
    "# cols to be ignored\n",
    "# atemp and temp are strongly correlated (0.98) we're taking only one\n",
    "del_columns = [\"datetime\", \"casual\", \"registered\", \"temp\"]\n",
    "\n",
    "TARGET = \"count\"\n",
    "cat_cols = [\"season\", \"holiday\", \"workingday\", \"weather\", \"windspeed\", \"hour\", \"year\"]\n",
    "num_cols = list(set(all_columns) - set([TARGET]) - set(del_columns) - set(cat_cols))\n",
    "features = sorted(cat_cols + num_cols)\n",
    "\n",
    "print(\"All columns:\", len(all_columns))\n",
    "print(\"Ignored columns:\", len(del_columns))\n",
    "print(\"Target:\", len([TARGET]))\n",
    "print(\"Categorical columns:\", len(cat_cols))\n",
    "print(\"Numerical columns:\", len(num_cols))\n",
    "print(\"All the features\", len(features))"
   ]
  },
  {
   "cell_type": "code",
   "execution_count": 7,
   "id": "90329ed6",
   "metadata": {},
   "outputs": [],
   "source": [
    "# drop ignored columns\n",
    "data_used = data_extended.drop(del_columns, axis=1)"
   ]
  },
  {
   "cell_type": "code",
   "execution_count": 8,
   "id": "aad0f053",
   "metadata": {},
   "outputs": [
    {
     "name": "stdout",
     "output_type": "stream",
     "text": [
      "train for coding: season \n",
      "train for coding: weather \n",
      "train for coding: year \n",
      "\n",
      "Coding: season \n",
      "Coding: weather \n",
      "Coding: year \n"
     ]
    }
   ],
   "source": [
    "# let's code categorical\n",
    "# windspeed need a special treatment\n",
    "le_list = train_encoders(data_extended)\n",
    "\n",
    "# coding\n",
    "data_used = apply_encoders(data_used, le_list)\n",
    "\n",
    "# define indexes for cat_cols\n",
    "# cat boost want indexes\n",
    "cat_columns_idxs = [i for i, col in enumerate(features) if col in cat_cols]"
   ]
  },
  {
   "cell_type": "markdown",
   "id": "44c97648",
   "metadata": {},
   "source": [
    "### ADSTuner session"
   ]
  },
  {
   "cell_type": "code",
   "execution_count": 9,
   "id": "32702a7e",
   "metadata": {},
   "outputs": [
    {
     "name": "stderr",
     "output_type": "stream",
     "text": [
      "\u001b[32m[I 2022-03-03 12:11:29,083]\u001b[0m A new study created in RDB with name: Bike sharing11\u001b[0m\n"
     ]
    }
   ],
   "source": [
    "#\n",
    "# Here we define the strategy, the space for hyper-parameters we want to explore\n",
    "#\n",
    "params = {\n",
    "    \"n_estimators\": CategoricalDistribution([1000, 2000, 3000, 4000, 5000]),\n",
    "    \"learning_rate\": LogUniformDistribution(low=1e-4, high=1e-2),\n",
    "    \"max_depth\": IntUniformDistribution(5, 10),\n",
    "    \"use_best_model\": True,\n",
    "    \"categorical_feature\": cat_columns_idxs,\n",
    "}\n",
    "\n",
    "alg_reg = lgb.LGBMRegressor()\n",
    "\n",
    "# define the scorer function for ADSTuner, see def for rmsle before\n",
    "scorer = make_scorer(rmsle, greater_is_better=False)\n",
    "\n",
    "# per lista scorer sorted(sklearn.metrics.SCORERS.keys())\n",
    "tuner = ADSTuner(\n",
    "    alg_reg, cv=FOLDS, strategy=params, scoring=scorer, study_name=STUDY_NAME\n",
    ")\n",
    "\n",
    "x_train = data_used[features]\n",
    "y_train = data_used[TARGET]\n",
    "\n",
    "tuner.tune(x_train, y_train, exit_criterion=[TimeBudget(TIME_BUDGET)])"
   ]
  },
  {
   "cell_type": "markdown",
   "id": "2ae45af1",
   "metadata": {},
   "source": [
    "### Analyze trials"
   ]
  },
  {
   "cell_type": "code",
   "execution_count": 70,
   "id": "27103d81",
   "metadata": {},
   "outputs": [
    {
     "name": "stdout",
     "output_type": "stream",
     "text": [
      "The tuner status is: State.COMPLETED\n",
      "Remaining time is: 0 sec.\n"
     ]
    }
   ],
   "source": [
    "# get the status to see if completed\n",
    "print(f\"The tuner status is: {tuner.get_status()}\")\n",
    "\n",
    "print(f\"Remaining time is: {round(tuner.time_remaining, 1)} sec.\")"
   ]
  },
  {
   "cell_type": "code",
   "execution_count": 71,
   "id": "98741de7",
   "metadata": {},
   "outputs": [
    {
     "data": {
      "text/html": [
       "<div>\n",
       "<style scoped>\n",
       "    .dataframe tbody tr th:only-of-type {\n",
       "        vertical-align: middle;\n",
       "    }\n",
       "\n",
       "    .dataframe tbody tr th {\n",
       "        vertical-align: top;\n",
       "    }\n",
       "\n",
       "    .dataframe thead th {\n",
       "        text-align: right;\n",
       "    }\n",
       "</style>\n",
       "<table border=\"1\" class=\"dataframe\">\n",
       "  <thead>\n",
       "    <tr style=\"text-align: right;\">\n",
       "      <th></th>\n",
       "      <th>number</th>\n",
       "      <th>value</th>\n",
       "      <th>datetime_start</th>\n",
       "      <th>datetime_complete</th>\n",
       "      <th>duration</th>\n",
       "      <th>params_learning_rate</th>\n",
       "      <th>params_max_depth</th>\n",
       "      <th>params_n_estimators</th>\n",
       "      <th>user_attrs_mean_fit_time</th>\n",
       "      <th>user_attrs_mean_score_time</th>\n",
       "      <th>...</th>\n",
       "      <th>user_attrs_split1_test_score</th>\n",
       "      <th>user_attrs_split2_test_score</th>\n",
       "      <th>user_attrs_split3_test_score</th>\n",
       "      <th>user_attrs_split4_test_score</th>\n",
       "      <th>user_attrs_split5_test_score</th>\n",
       "      <th>user_attrs_split6_test_score</th>\n",
       "      <th>user_attrs_std_fit_time</th>\n",
       "      <th>user_attrs_std_score_time</th>\n",
       "      <th>user_attrs_std_test_score</th>\n",
       "      <th>state</th>\n",
       "    </tr>\n",
       "  </thead>\n",
       "  <tbody>\n",
       "    <tr>\n",
       "      <th>208</th>\n",
       "      <td>208</td>\n",
       "      <td>-0.487802</td>\n",
       "      <td>2022-03-03 13:06:32.544312</td>\n",
       "      <td>2022-03-03 13:06:45.054086</td>\n",
       "      <td>0 days 00:00:12.509774</td>\n",
       "      <td>0.007325</td>\n",
       "      <td>9</td>\n",
       "      <td>2000</td>\n",
       "      <td>1.628633</td>\n",
       "      <td>0.129110</td>\n",
       "      <td>...</td>\n",
       "      <td>-0.396377</td>\n",
       "      <td>-0.393707</td>\n",
       "      <td>-0.486238</td>\n",
       "      <td>-0.430315</td>\n",
       "      <td>-0.430602</td>\n",
       "      <td>-0.469065</td>\n",
       "      <td>0.020149</td>\n",
       "      <td>0.004897</td>\n",
       "      <td>0.134625</td>\n",
       "      <td>COMPLETE</td>\n",
       "    </tr>\n",
       "    <tr>\n",
       "      <th>219</th>\n",
       "      <td>219</td>\n",
       "      <td>-0.488438</td>\n",
       "      <td>2022-03-03 13:09:00.737161</td>\n",
       "      <td>2022-03-03 13:09:13.132700</td>\n",
       "      <td>0 days 00:00:12.395539</td>\n",
       "      <td>0.007239</td>\n",
       "      <td>9</td>\n",
       "      <td>2000</td>\n",
       "      <td>1.612526</td>\n",
       "      <td>0.127718</td>\n",
       "      <td>...</td>\n",
       "      <td>-0.413931</td>\n",
       "      <td>-0.392609</td>\n",
       "      <td>-0.489340</td>\n",
       "      <td>-0.436934</td>\n",
       "      <td>-0.420732</td>\n",
       "      <td>-0.459768</td>\n",
       "      <td>0.027787</td>\n",
       "      <td>0.004751</td>\n",
       "      <td>0.132816</td>\n",
       "      <td>COMPLETE</td>\n",
       "    </tr>\n",
       "    <tr>\n",
       "      <th>150</th>\n",
       "      <td>150</td>\n",
       "      <td>-0.489033</td>\n",
       "      <td>2022-03-03 12:52:54.969254</td>\n",
       "      <td>2022-03-03 12:53:07.552422</td>\n",
       "      <td>0 days 00:00:12.583168</td>\n",
       "      <td>0.005227</td>\n",
       "      <td>8</td>\n",
       "      <td>2000</td>\n",
       "      <td>1.639160</td>\n",
       "      <td>0.127695</td>\n",
       "      <td>...</td>\n",
       "      <td>-0.405459</td>\n",
       "      <td>-0.388251</td>\n",
       "      <td>-0.476195</td>\n",
       "      <td>-0.437578</td>\n",
       "      <td>-0.447385</td>\n",
       "      <td>-0.481872</td>\n",
       "      <td>0.030414</td>\n",
       "      <td>0.005074</td>\n",
       "      <td>0.125484</td>\n",
       "      <td>COMPLETE</td>\n",
       "    </tr>\n",
       "    <tr>\n",
       "      <th>37</th>\n",
       "      <td>37</td>\n",
       "      <td>-0.489522</td>\n",
       "      <td>2022-03-03 12:23:42.451862</td>\n",
       "      <td>2022-03-03 12:23:54.584365</td>\n",
       "      <td>0 days 00:00:12.132503</td>\n",
       "      <td>0.008003</td>\n",
       "      <td>8</td>\n",
       "      <td>2000</td>\n",
       "      <td>1.578081</td>\n",
       "      <td>0.127239</td>\n",
       "      <td>...</td>\n",
       "      <td>-0.440909</td>\n",
       "      <td>-0.372386</td>\n",
       "      <td>-0.454497</td>\n",
       "      <td>-0.439411</td>\n",
       "      <td>-0.433906</td>\n",
       "      <td>-0.495998</td>\n",
       "      <td>0.008443</td>\n",
       "      <td>0.003954</td>\n",
       "      <td>0.127039</td>\n",
       "      <td>COMPLETE</td>\n",
       "    </tr>\n",
       "    <tr>\n",
       "      <th>197</th>\n",
       "      <td>197</td>\n",
       "      <td>-0.490745</td>\n",
       "      <td>2022-03-03 13:03:46.084901</td>\n",
       "      <td>2022-03-03 13:03:58.255281</td>\n",
       "      <td>0 days 00:00:12.170380</td>\n",
       "      <td>0.008316</td>\n",
       "      <td>9</td>\n",
       "      <td>2000</td>\n",
       "      <td>1.583165</td>\n",
       "      <td>0.127093</td>\n",
       "      <td>...</td>\n",
       "      <td>-0.406543</td>\n",
       "      <td>-0.403551</td>\n",
       "      <td>-0.472615</td>\n",
       "      <td>-0.448083</td>\n",
       "      <td>-0.438847</td>\n",
       "      <td>-0.467054</td>\n",
       "      <td>0.031648</td>\n",
       "      <td>0.005246</td>\n",
       "      <td>0.128075</td>\n",
       "      <td>COMPLETE</td>\n",
       "    </tr>\n",
       "    <tr>\n",
       "      <th>161</th>\n",
       "      <td>161</td>\n",
       "      <td>-0.490758</td>\n",
       "      <td>2022-03-03 12:55:43.677929</td>\n",
       "      <td>2022-03-03 12:55:56.060205</td>\n",
       "      <td>0 days 00:00:12.382276</td>\n",
       "      <td>0.006614</td>\n",
       "      <td>8</td>\n",
       "      <td>2000</td>\n",
       "      <td>1.609034</td>\n",
       "      <td>0.130667</td>\n",
       "      <td>...</td>\n",
       "      <td>-0.443698</td>\n",
       "      <td>-0.377513</td>\n",
       "      <td>-0.460337</td>\n",
       "      <td>-0.444965</td>\n",
       "      <td>-0.435482</td>\n",
       "      <td>-0.485459</td>\n",
       "      <td>0.007936</td>\n",
       "      <td>0.004272</td>\n",
       "      <td>0.125021</td>\n",
       "      <td>COMPLETE</td>\n",
       "    </tr>\n",
       "    <tr>\n",
       "      <th>183</th>\n",
       "      <td>183</td>\n",
       "      <td>-0.491182</td>\n",
       "      <td>2022-03-03 13:00:35.826172</td>\n",
       "      <td>2022-03-03 13:00:48.177456</td>\n",
       "      <td>0 days 00:00:12.351284</td>\n",
       "      <td>0.007584</td>\n",
       "      <td>9</td>\n",
       "      <td>2000</td>\n",
       "      <td>1.606516</td>\n",
       "      <td>0.128556</td>\n",
       "      <td>...</td>\n",
       "      <td>-0.419349</td>\n",
       "      <td>-0.386675</td>\n",
       "      <td>-0.490381</td>\n",
       "      <td>-0.429948</td>\n",
       "      <td>-0.450136</td>\n",
       "      <td>-0.461322</td>\n",
       "      <td>0.026438</td>\n",
       "      <td>0.004962</td>\n",
       "      <td>0.129870</td>\n",
       "      <td>COMPLETE</td>\n",
       "    </tr>\n",
       "    <tr>\n",
       "      <th>62</th>\n",
       "      <td>62</td>\n",
       "      <td>-0.491233</td>\n",
       "      <td>2022-03-03 12:29:37.262149</td>\n",
       "      <td>2022-03-03 12:29:49.691498</td>\n",
       "      <td>0 days 00:00:12.429349</td>\n",
       "      <td>0.005854</td>\n",
       "      <td>8</td>\n",
       "      <td>2000</td>\n",
       "      <td>1.619763</td>\n",
       "      <td>0.127556</td>\n",
       "      <td>...</td>\n",
       "      <td>-0.431407</td>\n",
       "      <td>-0.376519</td>\n",
       "      <td>-0.483132</td>\n",
       "      <td>-0.449264</td>\n",
       "      <td>-0.444638</td>\n",
       "      <td>-0.471726</td>\n",
       "      <td>0.033961</td>\n",
       "      <td>0.004782</td>\n",
       "      <td>0.122841</td>\n",
       "      <td>COMPLETE</td>\n",
       "    </tr>\n",
       "    <tr>\n",
       "      <th>77</th>\n",
       "      <td>77</td>\n",
       "      <td>-0.491372</td>\n",
       "      <td>2022-03-03 12:32:40.324347</td>\n",
       "      <td>2022-03-03 12:32:52.914346</td>\n",
       "      <td>0 days 00:00:12.589999</td>\n",
       "      <td>0.005125</td>\n",
       "      <td>8</td>\n",
       "      <td>2000</td>\n",
       "      <td>1.642169</td>\n",
       "      <td>0.127736</td>\n",
       "      <td>...</td>\n",
       "      <td>-0.403728</td>\n",
       "      <td>-0.378256</td>\n",
       "      <td>-0.468471</td>\n",
       "      <td>-0.445097</td>\n",
       "      <td>-0.451836</td>\n",
       "      <td>-0.491232</td>\n",
       "      <td>0.032693</td>\n",
       "      <td>0.004813</td>\n",
       "      <td>0.131238</td>\n",
       "      <td>COMPLETE</td>\n",
       "    </tr>\n",
       "    <tr>\n",
       "      <th>117</th>\n",
       "      <td>117</td>\n",
       "      <td>-0.492082</td>\n",
       "      <td>2022-03-03 12:44:43.176238</td>\n",
       "      <td>2022-03-03 12:44:55.667400</td>\n",
       "      <td>0 days 00:00:12.491162</td>\n",
       "      <td>0.006629</td>\n",
       "      <td>9</td>\n",
       "      <td>2000</td>\n",
       "      <td>1.628504</td>\n",
       "      <td>0.127612</td>\n",
       "      <td>...</td>\n",
       "      <td>-0.405639</td>\n",
       "      <td>-0.396418</td>\n",
       "      <td>-0.504762</td>\n",
       "      <td>-0.436967</td>\n",
       "      <td>-0.434238</td>\n",
       "      <td>-0.460391</td>\n",
       "      <td>0.029861</td>\n",
       "      <td>0.005939</td>\n",
       "      <td>0.132458</td>\n",
       "      <td>COMPLETE</td>\n",
       "    </tr>\n",
       "  </tbody>\n",
       "</table>\n",
       "<p>10 rows × 23 columns</p>\n",
       "</div>"
      ],
      "text/plain": [
       "     number     value             datetime_start          datetime_complete  \\\n",
       "208     208 -0.487802 2022-03-03 13:06:32.544312 2022-03-03 13:06:45.054086   \n",
       "219     219 -0.488438 2022-03-03 13:09:00.737161 2022-03-03 13:09:13.132700   \n",
       "150     150 -0.489033 2022-03-03 12:52:54.969254 2022-03-03 12:53:07.552422   \n",
       "37       37 -0.489522 2022-03-03 12:23:42.451862 2022-03-03 12:23:54.584365   \n",
       "197     197 -0.490745 2022-03-03 13:03:46.084901 2022-03-03 13:03:58.255281   \n",
       "161     161 -0.490758 2022-03-03 12:55:43.677929 2022-03-03 12:55:56.060205   \n",
       "183     183 -0.491182 2022-03-03 13:00:35.826172 2022-03-03 13:00:48.177456   \n",
       "62       62 -0.491233 2022-03-03 12:29:37.262149 2022-03-03 12:29:49.691498   \n",
       "77       77 -0.491372 2022-03-03 12:32:40.324347 2022-03-03 12:32:52.914346   \n",
       "117     117 -0.492082 2022-03-03 12:44:43.176238 2022-03-03 12:44:55.667400   \n",
       "\n",
       "                  duration  params_learning_rate  params_max_depth  \\\n",
       "208 0 days 00:00:12.509774              0.007325                 9   \n",
       "219 0 days 00:00:12.395539              0.007239                 9   \n",
       "150 0 days 00:00:12.583168              0.005227                 8   \n",
       "37  0 days 00:00:12.132503              0.008003                 8   \n",
       "197 0 days 00:00:12.170380              0.008316                 9   \n",
       "161 0 days 00:00:12.382276              0.006614                 8   \n",
       "183 0 days 00:00:12.351284              0.007584                 9   \n",
       "62  0 days 00:00:12.429349              0.005854                 8   \n",
       "77  0 days 00:00:12.589999              0.005125                 8   \n",
       "117 0 days 00:00:12.491162              0.006629                 9   \n",
       "\n",
       "     params_n_estimators  user_attrs_mean_fit_time  \\\n",
       "208                 2000                  1.628633   \n",
       "219                 2000                  1.612526   \n",
       "150                 2000                  1.639160   \n",
       "37                  2000                  1.578081   \n",
       "197                 2000                  1.583165   \n",
       "161                 2000                  1.609034   \n",
       "183                 2000                  1.606516   \n",
       "62                  2000                  1.619763   \n",
       "77                  2000                  1.642169   \n",
       "117                 2000                  1.628504   \n",
       "\n",
       "     user_attrs_mean_score_time  ...  user_attrs_split1_test_score  \\\n",
       "208                    0.129110  ...                     -0.396377   \n",
       "219                    0.127718  ...                     -0.413931   \n",
       "150                    0.127695  ...                     -0.405459   \n",
       "37                     0.127239  ...                     -0.440909   \n",
       "197                    0.127093  ...                     -0.406543   \n",
       "161                    0.130667  ...                     -0.443698   \n",
       "183                    0.128556  ...                     -0.419349   \n",
       "62                     0.127556  ...                     -0.431407   \n",
       "77                     0.127736  ...                     -0.403728   \n",
       "117                    0.127612  ...                     -0.405639   \n",
       "\n",
       "    user_attrs_split2_test_score  user_attrs_split3_test_score  \\\n",
       "208                    -0.393707                     -0.486238   \n",
       "219                    -0.392609                     -0.489340   \n",
       "150                    -0.388251                     -0.476195   \n",
       "37                     -0.372386                     -0.454497   \n",
       "197                    -0.403551                     -0.472615   \n",
       "161                    -0.377513                     -0.460337   \n",
       "183                    -0.386675                     -0.490381   \n",
       "62                     -0.376519                     -0.483132   \n",
       "77                     -0.378256                     -0.468471   \n",
       "117                    -0.396418                     -0.504762   \n",
       "\n",
       "     user_attrs_split4_test_score  user_attrs_split5_test_score  \\\n",
       "208                     -0.430315                     -0.430602   \n",
       "219                     -0.436934                     -0.420732   \n",
       "150                     -0.437578                     -0.447385   \n",
       "37                      -0.439411                     -0.433906   \n",
       "197                     -0.448083                     -0.438847   \n",
       "161                     -0.444965                     -0.435482   \n",
       "183                     -0.429948                     -0.450136   \n",
       "62                      -0.449264                     -0.444638   \n",
       "77                      -0.445097                     -0.451836   \n",
       "117                     -0.436967                     -0.434238   \n",
       "\n",
       "     user_attrs_split6_test_score  user_attrs_std_fit_time  \\\n",
       "208                     -0.469065                 0.020149   \n",
       "219                     -0.459768                 0.027787   \n",
       "150                     -0.481872                 0.030414   \n",
       "37                      -0.495998                 0.008443   \n",
       "197                     -0.467054                 0.031648   \n",
       "161                     -0.485459                 0.007936   \n",
       "183                     -0.461322                 0.026438   \n",
       "62                      -0.471726                 0.033961   \n",
       "77                      -0.491232                 0.032693   \n",
       "117                     -0.460391                 0.029861   \n",
       "\n",
       "     user_attrs_std_score_time  user_attrs_std_test_score     state  \n",
       "208                   0.004897                   0.134625  COMPLETE  \n",
       "219                   0.004751                   0.132816  COMPLETE  \n",
       "150                   0.005074                   0.125484  COMPLETE  \n",
       "37                    0.003954                   0.127039  COMPLETE  \n",
       "197                   0.005246                   0.128075  COMPLETE  \n",
       "161                   0.004272                   0.125021  COMPLETE  \n",
       "183                   0.004962                   0.129870  COMPLETE  \n",
       "62                    0.004782                   0.122841  COMPLETE  \n",
       "77                    0.004813                   0.131238  COMPLETE  \n",
       "117                   0.005939                   0.132458  COMPLETE  \n",
       "\n",
       "[10 rows x 23 columns]"
      ]
     },
     "execution_count": 71,
     "metadata": {},
     "output_type": "execute_result"
    }
   ],
   "source": [
    "# look only at completed trials, sorted with best on top. Metric chosen is in the value col.\n",
    "result_df = tuner.trials[tuner.trials[\"state\"] == \"COMPLETE\"].sort_values(\n",
    "    by=[\"value\"], ascending=False\n",
    ")\n",
    "\n",
    "result_df.head(10)"
   ]
  },
  {
   "cell_type": "code",
   "execution_count": 72,
   "id": "494d6abd",
   "metadata": {},
   "outputs": [
    {
     "name": "stdout",
     "output_type": "stream",
     "text": [
      "ADSTuner session results:\n",
      "ADSTuner has completed 230 trials\n",
      "\n",
      "The best trial is the #: 208\n",
      "Parameters for the best trial are: {'learning_rate': 0.0073250798169353214, 'max_depth': 9, 'n_estimators': 2000}\n",
      "The metric used to optimize is: rmsle, greater_is_better=False\n",
      "The best score is: -0.4878\n"
     ]
    }
   ],
   "source": [
    "show_tuner_results(tuner)"
   ]
  },
  {
   "cell_type": "code",
   "execution_count": 82,
   "id": "6c414df3",
   "metadata": {},
   "outputs": [
    {
     "data": {
      "image/png": "[encoded data removed]",
      "text/plain": [
       "<Figure size 432x288 with 1 Axes>"
      ]
     },
     "metadata": {},
     "output_type": "display_data"
    }
   ],
   "source": [
    "tuner.plot_best_scores()"
   ]
  },
  {
   "cell_type": "markdown",
   "id": "74a4adde",
   "metadata": {},
   "source": [
    "### train the model with the best params"
   ]
  },
  {
   "cell_type": "code",
   "execution_count": 73,
   "id": "54b66070",
   "metadata": {},
   "outputs": [
    {
     "name": "stdout",
     "output_type": "stream",
     "text": [
      "CPU times: user 8.42 s, sys: 34.5 ms, total: 8.46 s\n",
      "Wall time: 2.13 s\n"
     ]
    },
    {
     "data": {
      "text/plain": [
       "LGBMRegressor(learning_rate=0.0073250798169353214, max_depth=9,\n",
       "              n_estimators=2000)"
      ]
     },
     "execution_count": 73,
     "metadata": {},
     "output_type": "execute_result"
    }
   ],
   "source": [
    "%%time\n",
    "\n",
    "model = lgb.LGBMRegressor(**tuner.best_params)\n",
    "\n",
    "model.fit(x_train, y_train, categorical_feature=cat_columns_idxs)"
   ]
  },
  {
   "cell_type": "markdown",
   "id": "a81bed10",
   "metadata": {},
   "source": [
    "### Prediction and submission to Kaggle"
   ]
  },
  {
   "cell_type": "code",
   "execution_count": 74,
   "id": "bb783705",
   "metadata": {},
   "outputs": [],
   "source": [
    "test_orig = pd.read_csv(FILE_TEST)"
   ]
  },
  {
   "cell_type": "code",
   "execution_count": 75,
   "id": "2132143b",
   "metadata": {},
   "outputs": [
    {
     "name": "stdout",
     "output_type": "stream",
     "text": [
      "Coding: season \n",
      "Coding: weather \n",
      "Coding: year \n"
     ]
    }
   ],
   "source": [
    "# add engineered features\n",
    "# feature engineering\n",
    "\n",
    "test_orig = add_features(test_orig)\n",
    "\n",
    "# coding\n",
    "test_orig = apply_encoders(test_orig, le_list)\n",
    "\n",
    "# data on which do scoring\n",
    "x_test = test_orig[features]"
   ]
  },
  {
   "cell_type": "code",
   "execution_count": 76,
   "id": "d931a530",
   "metadata": {},
   "outputs": [],
   "source": [
    "# scoring\n",
    "\n",
    "score_test = model.predict(x_test)"
   ]
  },
  {
   "cell_type": "markdown",
   "id": "f47ca2dd",
   "metadata": {},
   "source": [
    "### prepare submission"
   ]
  },
  {
   "cell_type": "code",
   "execution_count": 77,
   "id": "98c9a08a",
   "metadata": {},
   "outputs": [],
   "source": [
    "df_sub = pd.read_csv(\"sampleSubmission.csv\")"
   ]
  },
  {
   "cell_type": "code",
   "execution_count": 78,
   "id": "c5afcf00",
   "metadata": {},
   "outputs": [],
   "source": [
    "# remove decimals\n",
    "df_sub[\"count\"] = np.round(score_test, 0)\n",
    "\n",
    "# remove eventual negative\n",
    "condition = df_sub[\"count\"] < 0\n",
    "\n",
    "df_sub.loc[condition, \"count\"] = 0"
   ]
  },
  {
   "cell_type": "code",
   "execution_count": 79,
   "id": "c72fc16b",
   "metadata": {},
   "outputs": [],
   "source": [
    "FILE_SUB_PREFIX = \"sub-demo-001\"\n",
    "FILE_SUB = FILE_SUB_PREFIX + \".csv\"\n",
    "\n",
    "df_sub.to_csv(FILE_SUB, index=False)"
   ]
  },
  {
   "cell_type": "markdown",
   "id": "270df8a4",
   "metadata": {},
   "source": [
    "### Submission"
   ]
  },
  {
   "cell_type": "code",
   "execution_count": 80,
   "id": "832a13d4",
   "metadata": {},
   "outputs": [
    {
     "name": "stdout",
     "output_type": "stream",
     "text": [
      "100%|████████████████████████████████████████| 162k/162k [00:03<00:00, 46.9kB/s]\n",
      "Successfully submitted to Bike Sharing Demand"
     ]
    }
   ],
   "source": [
    "!kaggle competitions submit -c \"bike-sharing-demand\" -f $FILE_SUB -m \"sub demo 001, adstuner\""
   ]
  },
  {
   "cell_type": "code",
   "execution_count": 83,
   "id": "1e74dd00",
   "metadata": {},
   "outputs": [
    {
     "name": "stdout",
     "output_type": "stream",
     "text": [
      "3.3.2\n"
     ]
    }
   ],
   "source": [
    "print(lgb.__version__)"
   ]
  },
  {
   "cell_type": "code",
   "execution_count": null,
   "id": "eeec9af9",
   "metadata": {},
   "outputs": [],
   "source": []
  }
 ],
 "metadata": {
  "kernelspec": {
   "display_name": "Python 3 (ipykernel)",
   "language": "python",
   "name": "python3"
  },
  "language_info": {
   "codemirror_mode": {
    "name": "ipython",
    "version": 3
   },
   "file_extension": ".py",
   "mimetype": "text/x-python",
   "name": "python",
   "nbconvert_exporter": "python",
   "pygments_lexer": "ipython3",
   "version": "3.8.12"
  }
 },
 "nbformat": 4,
 "nbformat_minor": 5
}
